{
 "cells": [
  {
   "cell_type": "markdown",
   "metadata": {},
   "source": [
    "# Convergence Plot\n",
    "\n",
    "### Authors : Daniel Luna (UFRN), Vicente Sousa (UFRN) e Ricardo Queiroz (UFRN)"
   ]
  },
  {
   "cell_type": "markdown",
   "metadata": {},
   "source": [
    "## Directory"
   ]
  },
  {
   "cell_type": "code",
   "execution_count": 552,
   "metadata": {},
   "outputs": [
    {
     "name": "stdout",
     "output_type": "stream",
     "text": [
      "/home/oai-ufrn/Repositories/tests/open_ran_datacenter_placement/Plots\n"
     ]
    }
   ],
   "source": [
    "# Changing Working Directory - Linux\n",
    "results_path = '/home/oai-ufrn/Repositories/tests/open_ran_datacenter_placement/Results/results_Placement_Manaus_Case_1_2_odcs/'\n",
    "campaing_path = '/home/oai-ufrn/Repositories/tests/open_ran_datacenter_placement/teste/Placement_Natal_Case_1_2/'\n",
    "plots_result_path = '/home/oai-ufrn/Repositories/tests/open_ran_datacenter_placement/Plots/'\n",
    "%cd $plots_result_path"
   ]
  },
  {
   "cell_type": "raw",
   "metadata": {},
   "source": [
    "# Changing Working Directory - Windows\n",
    "opath = \"C:\\\\Users\\\\danie\\\\Daniel\\\\PlotCampaignResults-NrMmtc_v7\" \n",
    "\n",
    "%cd $opath"
   ]
  },
  {
   "cell_type": "markdown",
   "metadata": {
    "jp-MarkdownHeadingCollapsed": true
   },
   "source": [
    "## Script"
   ]
  },
  {
   "cell_type": "code",
   "execution_count": 553,
   "metadata": {},
   "outputs": [
    {
     "name": "stdout",
     "output_type": "stream",
     "text": [
      "mkdir: cannot create directory ‘PlotScripts’: File exists\n",
      "/home/oai-ufrn/Repositories/tests/open_ran_datacenter_placement/Plots/PlotScripts\n"
     ]
    }
   ],
   "source": [
    "!mkdir \"PlotScripts\"\n",
    "%cd $plots_result_path\"PlotScripts\""
   ]
  },
  {
   "cell_type": "code",
   "execution_count": 554,
   "metadata": {},
   "outputs": [
    {
     "name": "stdout",
     "output_type": "stream",
     "text": [
      "Overwriting ConvergencePlot.py\n"
     ]
    }
   ],
   "source": [
    "%%file ConvergencePlot.py\n",
    "#!/usr/bin/env python3\n",
    "# -*- coding: utf-8 -*-\n",
    "\"\"\"\n",
    "Created on Wed Oct  2 16:03:59 2019\n",
    "\n",
    "@author: daniel\n",
    "\"\"\"\n",
    "\n",
    "import numpy as np\n",
    "import pandas as pd\n",
    "import matplotlib.pyplot as plt\n",
    "#import seaborn as sns\n",
    "import scipy.stats as sci\n",
    "import scipy.stats as st\n",
    "import warnings\n",
    "warnings.filterwarnings(\"ignore\")\n",
    "from itertools import cycle\n",
    "import os\n",
    "import argparse\n",
    "import yaml \n",
    "from random import randint   \n",
    "import itertools\n",
    "import pandas as pd\n",
    "import plotly.graph_objects as go\n",
    "import plotly.express as px\n",
    "import plotly.io as pio\n",
    "\n",
    "class openSimulation:\n",
    "    def __init__(self, configurations_file):\n",
    "        self.email_to = 'fulano@gmail.com'            \n",
    "        with open(configurations_file, 'r') as f:\n",
    "            self.doc = yaml.load(f, Loader=yaml.loader.BaseLoader)\n",
    "            #self.doc = doc\n",
    "        self.campaign_name = os.path.splitext(configurations_file)[0]\n",
    "        \n",
    "         # Simu parameters\n",
    "        self.commandScript = ''\n",
    "        for iscenarioParameters in self.doc['scenarioParameters'].items():\n",
    "            commandraw= \" --\"+str(iscenarioParameters[0])+\"=\"+str(iscenarioParameters[1][0])\n",
    "            self.commandScript = self.commandScript + commandraw\n",
    "        #teste = self.commandScript.split(' ')\n",
    "        #print(teste[2].split('=')[1])\n",
    "\n",
    "        #Plot parameters\n",
    "        self.showPlot = True\n",
    "        self.plotCI = False\n",
    "        self.JobsConvergence = False\n",
    "        self.window = 0.1 # window of 1ms\n",
    "\n",
    "        # ns-3 script configuration\n",
    "        self.script = str(self.doc['ScriptParameters']['script'])\n",
    "        self.local_path = str(self.doc['ScriptParameters']['local_path'])\n",
    "        self.plot_path = os.getcwd()\n",
    "        #self.local_path = os.getcwd() + '/' + self.local_path\n",
    "        self.cluster_path = str(self.doc['ScriptParameters']['cluster_path'])\n",
    "        self.outputDirName = str(self.doc['ScriptParameters']['outputDir'][0])\n",
    "        self.outputDir = str(self.doc['ScriptParameters']['outputDir'][1])\n",
    "        self.seed = str(self.doc['ScriptParameters']['seed'])\n",
    "        self.CampaignTag = str(self.doc['ScriptParameters']['CampaignTag'])\n",
    "        self.configurations_file = configurations_file       \n",
    "        self.simLocation = str(self.doc['ScriptParameters']['simLocation'])\n",
    "\n",
    "        # Shell Script Parameters configuration\n",
    "        self.nOfCurlines=self.doc['ShellScriptParameters']['nOfCurlines']\n",
    "        self.SimTied = self.doc['ShellScriptParameters']['SimTied']\n",
    "        self.nOfCurlinesTied = self.doc['ShellScriptParameters']['nOfCurlinesTied']\n",
    "        self.daytime  = self.doc['ShellScriptParameters']['daytime']\n",
    "        self.htime  = self.doc['ShellScriptParameters']['htime']\n",
    "        self.ntasks = self.doc['ShellScriptParameters']['ntasks']\n",
    "        self.cpusPerTask = self.doc['ShellScriptParameters']['cpusPerTask']\n",
    "        self.numberOfJobsShellScript = int(self.doc['ShellScriptParameters']['numberOfJobsShellScript'])\n",
    "        \n",
    "         #Lines/curves\n",
    "        self.campaignX = self.doc['campaignLines']['campaignX']\n",
    "        self.campaignLines = self.doc['campaignLines']['campaignLines']\n",
    "        self.nJobs = int(self.doc['campaignLines']['jobs'])\n",
    "\n",
    "    def VetorMediaAll (self, vetor,janela):\n",
    "        NewVetorMedia = []\n",
    "        VetorMedia=[]\n",
    "        VetorVar=[]\n",
    "        VetorMoment3=[]\n",
    "        VetorMoment4=[]\n",
    "        VetorVpp=[]\n",
    "        VetorCorr=[]\n",
    "        #media = np.mean(vetor[0:janela])\n",
    "        #NewVetorMedia.append(np.ones(janela)*media)\n",
    "        for i in range(0,len(vetor),janela):\n",
    "            media = np.mean(vetor[i:i+janela])\n",
    "            VetorMedia = np.append(VetorMedia,media)\n",
    "            \n",
    "            variancia = np.var(vetor[i:i+janela])\n",
    "            VetorVar=np.append(VetorVar,variancia)\n",
    "            \n",
    "            momento3 = sci.moment(vetor[i:i+janela],moment=3)\n",
    "            VetorMoment3=np.append(VetorMoment3,momento3)\n",
    "            \n",
    "            momento4 = sci.moment(vetor[i:i+janela],moment=4)\n",
    "            VetorMoment4=np.append(VetorMoment4,momento4)\n",
    "            \n",
    "            vpp = np.max(vetor[i:i+janela]) - np.min(vetor[i:i+janela])\n",
    "            VetorVpp=np.append(VetorVpp,vpp)\n",
    "            \n",
    "            corr = vetor[i:i+janela].dot(np.conj(vetor[i:i+janela]))\n",
    "            VetorCorr=np.append(VetorCorr,corr)\n",
    "            \n",
    "            NewVetorMedia=np.concatenate((NewVetorMedia,np.ones(janela)*media),axis=0)\n",
    "        return NewVetorMedia,VetorMedia,VetorVar,VetorMoment3,VetorMoment4,VetorVpp,VetorCorr\n",
    "    \n",
    "    def plotCampaign(self,curCampaign, metric,jobs):\n",
    "        outputDir = self.plot_path\n",
    "        njobs = min(jobs,self.nJobs)\n",
    "        m_plr, m_plrCI, m_tput, m_tputCI, m_pkt, m_pktCI = [], [], [], [], [], []\n",
    "        m_tput1,m_tput2=[],[]\n",
    "        m_tputCI1,m_tputCI2,m_tputCI3,m_tputCI4=[],[],[],[]\n",
    "        m_tputCI5,m_tputCI6,m_tputCI7,m_tputCI8=[],[],[],[]\n",
    "        m_tputCI9,m_tputCI10=[],[]\n",
    "        markers_on_all = cycle(list(itertools.product([0], [1,2,3,4,5])))\n",
    "        markersA = cycle(('o','v', 'D', '>', 'h', '^', '*', '>', 's', 'H', 'D', 'd'))\n",
    "        colors = cycle(('b', 'g', 'r', 'c', 'm', 'y', 'k'))\n",
    "        linestyle = cycle(('-', '--'))# '-.', ':'))                    \n",
    "        ls_plotly = cycle((\"solid\",\"dot\",\"dash\",\"longdash\",\"dashdot\",\"longdashdot\")) \n",
    "        dfMeanTput = pd.DataFrame()\n",
    "        dfMeanPlr = pd.DataFrame()\n",
    "        dfMeanRxPkt = pd.DataFrame()    \n",
    "        nOfCurlines=int(self.nOfCurlines[0]) # number of Campaign Lines in 1 simulation (max value = 3)\n",
    "        SimTied = int(self.SimTied[0]) # whether or not the simulation parameters are tied (0 or 1)\n",
    "        nOfCurlinesTied = int(self.nOfCurlinesTied[0]) # number of Campaign Lines tied (max value = nOfCurlines)\n",
    "        print (nOfCurlines, SimTied,nOfCurlinesTied)\n",
    "        if nOfCurlines == 1 and SimTied == 0:\n",
    "            legend=[]\n",
    "            legendSims=[]\n",
    "            color=next(colors)\n",
    "            marker=next(markersA)\n",
    "            markers_on=next(markers_on_all)\n",
    "            linestyle_on =next(linestyle)\n",
    "            ls_plotly_on = next(ls_plotly)\n",
    "            curline = self.campaignLines[0]\n",
    "            campaignX = self.campaignX[0]\n",
    "            dfMovingMeanAllSims=pd.DataFrame()\n",
    "            dfMeanAllSims = pd.DataFrame()\n",
    "            vtLastTimeValueAllSims = []\n",
    "            isim = 0\n",
    "            for i in range(len(self.doc['scenarioParameters'][curline])):\n",
    "                for iCampaignX in range(len(self.doc['scenarioParameters'][campaignX])):\n",
    "                    df=pd.DataFrame()\n",
    "                    dfMovingMean=pd.DataFrame()\n",
    "                    vtLastTimeValue=[]\n",
    "                    if metric.split('-')[1] == 'PHY':\n",
    "                        if metric.split('-')[2] == 'SimTime':\n",
    "                            for iJob in range(0,njobs):\n",
    "                                if metric.split('-')[3] == 'NR':\n",
    "                                    vtMean = []\n",
    "                                    if self.UlMode: \n",
    "                                        filepath = outputDir +\"/JOB\"+str(iJob)+\"/Sim_\"+str(isim)+\"/GnbRxPacketTrace.txt\"\n",
    "                                    else:\n",
    "                                        filepath = outputDir +\"/JOB\"+str(iJob)+\"/Sim_\"+str(isim)+\"/UeRxPacketTrace.txt\"\n",
    "                                    df = pd.read_csv(filepath,sep='\\t',index_col=False)\n",
    "                                    df2 = pd.DataFrame(df, columns=['Time','tbSize','SINR(dB)'])\n",
    "                                    timeLastValue = df['Time'][len(df['Time'])-1]\n",
    "                                elif metric.split('-')[3] == 'LTE':\n",
    "                                    vtMean = []\n",
    "                                    if self.UlMode: \n",
    "                                        print('To be implemented')\n",
    "                                    elif not(self.UlMode) and metric.split('-')[0] == 'Tput':\n",
    "                                        filepath = outputDir +\"/JOB\"+str(iJob)+\"/Sim_\"+str(isim)+\"/DlRxPhyStats.txt\"\n",
    "                                        df = pd.read_csv(filepath,sep='\\t',index_col=False)\n",
    "                                    elif not(self.UlMode) and metric.split('-')[0] == 'SINR':    \n",
    "                                        filepath = outputDir +\"/JOB\"+str(iJob)+\"/Sim_\"+str(isim)+\"/DlRsrpSinrStats.txt\"\n",
    "                                        df = pd.read_csv(filepath,sep='\\t',index_col=False)\n",
    "                                        df['SINR(dB)']=10*np.log10(df['sinr'])\n",
    "                                    \n",
    "                                    df = df.rename({'% time': 'Time'},axis=1)\n",
    "                                    df2 = pd.DataFrame(df, columns=['Time','tbSize','SINR(dB)'])\n",
    "                                    \n",
    "                                    timeLastValue = df['Time'][len(df['Time'])-1]\n",
    "                                \n",
    "                                if metric.split('-')[0] == 'Tput': ## Calculate the PHY Throughput    \n",
    "                                    df2.dropna(inplace=True)    \n",
    "                                    ylabelpart2 = ' (kbps)'\n",
    "                                    ndf2ShapePos0 = df2.shape[0]\n",
    "                                    self.window=0.1\n",
    "                                    WindowSize=len(df2[df2['Time']<=  df2.Time[0] + self.window])\n",
    "                                    WindowSizeH = WindowSize\n",
    "                                    WindowSizeL =0\n",
    "                                    while ndf2ShapePos0 != WindowSizeH:\n",
    "                                        if WindowSize == 0:\n",
    "                                            medias = 0\n",
    "                                        else:\n",
    "                                            [vetor,medias,variancia,moment3,moment4,vpp,correlacao] = self.VetorMediaAll(df2.tbSize[WindowSizeL:WindowSizeH].values,WindowSize)\n",
    "                                        vtMean = np.append(vtMean, medias);\n",
    "                                        self.window+=0.1\n",
    "                                        WindowSizeL = WindowSize\n",
    "                                        WindowSizeH=len(df2[df2['Time']<=  df2.Time[0] + self.window])\n",
    "                                        WindowSize = WindowSizeH - WindowSizeL\n",
    "                                    \n",
    "                                    vtMeandf = pd.DataFrame(vtMean)\n",
    "                                    dfMovingMean = pd.concat([dfMovingMean,vtMeandf], axis=1)\n",
    "                                    vtLastTimeValue = np.append(vtLastTimeValue,timeLastValue)\n",
    "                                elif metric.split('-')[0] == 'SINR': ## Calculate the PHY SINR\n",
    "                                    df2.dropna(inplace=True)    \n",
    "                                    ylabelpart2 = ' (dB)'\n",
    "                                    ndf2ShapePos0 = df2.shape[0]\n",
    "                                    self.window=0.1\n",
    "                                    WindowSize=len(df2[df2['Time']<=  df2.Time[0] + self.window])\n",
    "                                    WindowSizeH = WindowSize\n",
    "                                    WindowSizeL =0\n",
    "                                    while ndf2ShapePos0 != WindowSizeH:\n",
    "                                        if WindowSize == 0:\n",
    "                                            medias = 0\n",
    "                                        else:\n",
    "                                            [vetor,medias,variancia,moment3,moment4,vpp,correlacao] = self.VetorMediaAll(10**(df2['SINR(dB)'][WindowSizeL:WindowSizeH].values/10),WindowSize)\n",
    "                                        vtMean = np.append(vtMean, 10*np.log10(medias))\n",
    "                                        self.window+=0.1\n",
    "                                        WindowSizeL = WindowSize\n",
    "                                        WindowSizeH=len(df2[df2['Time']<=  df2.Time[0] + self.window])\n",
    "                                        WindowSize = WindowSizeH - WindowSizeL\n",
    "                                    \n",
    "                                    vtMeandf = pd.DataFrame(vtMean)\n",
    "                                    dfMovingMean = pd.concat([dfMovingMean,vtMeandf], axis=1)\n",
    "                                    vtLastTimeValue = np.append(vtLastTimeValue,timeLastValue)\n",
    "\n",
    "                                    \n",
    "                            vtLastTimeValueAllSims = np.append(vtLastTimeValueAllSims,vtLastTimeValue.mean())\n",
    "                            if metric.split('-')[0] == 'Tput':\n",
    "                                dfMovingMeanAllSims = pd.concat([dfMovingMeanAllSims,dfMovingMean.dropna().mean(axis=1)/0.1], axis=1) # dividing by the window to calcutate tput\n",
    "                            elif metric.split('-')[0] == 'SINR':\n",
    "                                dfMovingMeanAllSims = pd.concat([dfMovingMeanAllSims,dfMovingMean.dropna().mean(axis=1)], axis=1)\n",
    "                        elif metric.split('-')[2] == 'Jobs':\n",
    "                            vtMeanJobs = []\n",
    "                            for iJob in range(0,njobs):\n",
    "                                if metric.split('-')[3] == 'NR':\n",
    "                                    vtMean = []\n",
    "                                    if self.UlMode: \n",
    "                                        filepath = outputDir +\"/JOB\"+str(iJob)+\"/Sim_\"+str(isim)+\"/GnbRxPacketTrace.txt\"\n",
    "                                    else:\n",
    "                                        filepath = outputDir +\"/JOB\"+str(iJob)+\"/Sim_\"+str(isim)+\"/UeRxPacketTrace.txt\"\n",
    "                                    df = pd.read_csv(filepath,sep='\\t',index_col=False)\n",
    "                                    df2 = pd.DataFrame(df, columns=['Time','tbSize','SINR(dB)'])\n",
    "                                    timeLastValue = df['Time'][len(df['Time'])-1]\n",
    "                                elif metric.split('-')[3] == 'LTE':\n",
    "                                    vtMean = []\n",
    "                                    if self.UlMode: \n",
    "                                        print('To be implemented')\n",
    "                                    elif not(self.UlMode) and metric.split('-')[0] == 'Tput':\n",
    "                                        filepath = outputDir +\"/JOB\"+str(iJob)+\"/Sim_\"+str(isim)+\"/DlRxPhyStats.txt\"\n",
    "                                        df = pd.read_csv(filepath,sep='\\t',index_col=False)\n",
    "                                    elif not(self.UlMode) and metric.split('-')[0] == 'SINR':    \n",
    "                                        filepath = outputDir +\"/JOB\"+str(iJob)+\"/Sim_\"+str(isim)+\"/DlRsrpSinrStats.txt\"\n",
    "                                        df = pd.read_csv(filepath,sep='\\t',index_col=False)\n",
    "                                        df['SINR(dB)']=10*np.log10(df['sinr'])\n",
    "                                    \n",
    "                                    df = df.rename({'% time': 'Time'},axis=1)\n",
    "                                    df2 = pd.DataFrame(df, columns=['Time','tbSize','SINR(dB)'])\n",
    "                                if metric.split('-')[0] == 'Tput':\n",
    "                                    ylabelpart2 = '(kbps)'\n",
    "                                    vtMeanJobs = np.append(vtMeanJobs, df2['tbSize'].sum()/df2.iloc[-1,0]/1000) #kbps\n",
    "                                elif metric.split('-')[0] == 'SINR':\n",
    "                                    ylabelpart2 = '(dB)'\n",
    "                                    vtMeanJobs = np.append(vtMeanJobs,10*np.log10(np.mean(10**(df2['SINR(dB)']/10)))) #dB\n",
    "                            dfMeanJobs = pd.DataFrame(vtMeanJobs)\n",
    "                            dfMeanAllSims = pd.concat([dfMeanAllSims,dfMeanJobs], axis=1)  \n",
    "                    isim +=1\n",
    "            #Legend of 2/0/0\n",
    "            for ilegend in self.doc['scenarioParameters'][curline]:\n",
    "                legendEntry = self.CampaignTag + \": \" + curline + \" \" + ilegend\n",
    "                legend.append(legendEntry) \n",
    "                for ilegendcdf in self.doc['scenarioParameters'][campaignX]:\n",
    "                    legendSimsEntry = legendEntry + \",\" + \" \" + campaignX + \" \" + ilegendcdf \n",
    "                    legendSims.append(legendSimsEntry)\n",
    "        elif nOfCurlines==3 and SimTied == 1 and nOfCurlinesTied == 3:\n",
    "            legend = []\n",
    "            legendSims = []\n",
    "            color = next(colors)\n",
    "            marker = next(markersA)\n",
    "            markers_on = next(markers_on_all)\n",
    "            linestyle_on = next(linestyle)\n",
    "            ls_plotly_on = next(ls_plotly)\n",
    "            curline = self.campaignLines[0]\n",
    "            curline1 = self.campaignLines[1]\n",
    "            curline2 = self.campaignLines[2]\n",
    "            campaignX = self.campaignX[0]\n",
    "            dfMovingMeanAllSims = pd.DataFrame()\n",
    "            dfMeanAllSims = pd.DataFrame()\n",
    "            vtLastTimeValueAllSims = []\n",
    "            isim = 0\n",
    "            for i in range(len(self.doc['scenarioParameters'][curline])):\n",
    "                for iCampaignX in range(len(self.doc['scenarioParameters'][campaignX])):\n",
    "                    df=pd.DataFrame()\n",
    "                    if metric.split('-')[1] == 'Jobs':\n",
    "                        vtJobs = []\n",
    "                        vtMeanJobs = []\n",
    "                        for iJob in range(0,njobs):\n",
    "                            if metric.split('-')[2] == 'Capacity':\n",
    "                                filepath = outputDir +\"/JOB\"+str(iJob)+\"/Sim_\"+str(isim)+\"/df_capacities.csv\"\n",
    "                                df = pd.read_csv(filepath, usecols=['odc_locations', 'capacities'])                            \n",
    "                                vtJobs = np.append(vtJobs,df['capacities'])\n",
    "                                #print('vtobs',vtJobs)\n",
    "                                vtMeanJobs = np.append(vtMeanJobs,(np.mean(vtJobs)))\n",
    "                                #print('vtMeanJobs',vtMeanJobs)\n",
    "                                ylabelpart2 = '(CPUs/ODC)'\n",
    "                            elif metric.split('-')[2] == 'Fiberlenght':\n",
    "                                filepath = outputDir +\"/JOB\"+str(iJob)+\"/Sim_\"+str(isim)+\"/df_fiberlength.csv\"\n",
    "                                df = pd.read_csv(filepath, usecols=['odc_locations', 'fiberlength'])\n",
    "                                vtJobs = np.append(vtJobs,df['fiberlength'])\n",
    "                                #print('vtobs',vtJobs)\n",
    "                                vtMeanJobs = np.append(vtMeanJobs,(np.mean(vtJobs)))\n",
    "                                #print('vtMeanJobs',vtMeanJobs)\n",
    "                                ylabelpart2 = '(kms)'\n",
    "                        dfMeanJobs = pd.DataFrame(vtMeanJobs)\n",
    "                        dfMeanAllSims = pd.concat([dfMeanAllSims,dfMeanJobs], axis=1)\n",
    "                        print(dfMeanAllSims)\n",
    "                    isim +=1\n",
    "            #Legend of 3/1/3\n",
    "            for ilegend in self.doc['scenarioParameters'][curline]:\n",
    "                legendtag = self.CampaignTag + \": \" + curline + \" \" + ilegend\n",
    "                for ilegend1 in self.doc['scenarioParameters'][curline1]:\n",
    "                    legendtag1 = legendtag + \", \" + curline1 + \" \" + ilegend1\n",
    "                    for ilegend2 in self.doc['scenarioParameters'][curline2]:\n",
    "                        legendtag2 = legendtag1 + \", \" + curline2 + \" \" + ilegend2\n",
    "                        legend.append(legendtag2) \n",
    "                        for ilegendcdf in self.doc['scenarioParameters'][campaignX]:\n",
    "                            legendSimsEntry = legendtag2 + \",\" + \" \" + campaignX + \" \" + ilegendcdf \n",
    "                            legendSims.append(legendSimsEntry)\n",
    "                            \n",
    "        ##### START OF PLOTTING SECTION ####         \n",
    "        #labelA = cycle(legend)\n",
    "        labelAsims = cycle(legendSims) \n",
    "        #label = next(labelA)\n",
    "        labelSims = next(labelAsims)\n",
    "        datatputPHY=[]\n",
    "        #dataplr=[]\n",
    "        #datatput=[]\n",
    "        #datarxpkt=[] \n",
    "        if metric.split('-')[2]=='SimTime': # no CI\n",
    "            xlabel='Tempo (s)'    \n",
    "            # Confidence interval according to https://stackoverflow.com/questions/15033511/compute-a-confidence-interval-from-sample-data\n",
    "            #commandScriptSplit = self.commandScript.split(' ')\n",
    "            #simTimeValue = commandScriptSplit[2].split('=')[1]\n",
    "            plt.figure(figsize=(20,10))\n",
    "            ylabel= metric + ylabelpart2\n",
    "            for i in range (dfMovingMeanAllSims.shape[1]):\n",
    "                simTimeValue = vtLastTimeValueAllSims[i]\n",
    "                resxData = np.linspace(1,int(simTimeValue),len(dfMovingMeanAllSims.iloc[:,i].expanding().mean()))\n",
    "                plt.plot(resxData,dfMovingMeanAllSims.iloc[:,i].expanding().mean(), label=labelSims, marker=marker,color=color,markevery=markers_on,ls=linestyle_on)\n",
    "                trace1 = go.Scatter(\n",
    "                    x=resxData,\n",
    "                    y=dfMovingMeanAllSims.iloc[:,i].expanding().mean(),\n",
    "                    name=labelSims,\n",
    "                    line_dash=ls_plotly_on,\n",
    "                    marker_symbol=markers_on\n",
    "                )\n",
    "                datatputPHY.append(trace1)\n",
    "                color=next(colors)\n",
    "                marker=next(markersA)\n",
    "                markers_on=next(markers_on_all)\n",
    "                labelSims = next(labelAsims)\n",
    "                linestyle_on=next(linestyle)\n",
    "                ls_plotly_on = next(ls_plotly)\n",
    "            layout = go.Layout(\n",
    "                yaxis=dict(\n",
    "                    domain=[0, 1]\n",
    "                ),\n",
    "                legend=dict(\n",
    "                    traceorder=\"normal\"\n",
    "                ),\n",
    "                xaxis_title=xlabel,\n",
    "                yaxis_title=ylabel\n",
    "                )\n",
    "            fig = go.Figure(data=datatputPHY, layout=layout)\n",
    "            #fig.update_yaxes(type=\"log\")\n",
    "            \n",
    "            plt.xlabel(xlabel)\n",
    "            plt.ylabel(ylabel)\n",
    "            #plt.xlim([0.10, 0.55]) \n",
    "            #plt.legend(loc='best', numpoints=1)\n",
    "            plt.legend(loc='center left', bbox_to_anchor=(1, 0.5))\n",
    "            plt.grid()\n",
    "            #plt.tight_layout()\n",
    "            #plt.show()\n",
    "        elif metric.split('-')[1] == 'Jobs':\n",
    "            xlabel='Jobs'\n",
    "            ylabel=metric +\" \"+ ylabelpart2\n",
    "            plt.figure(figsize=(20,10))\n",
    "            for i in range (dfMeanAllSims.shape[1]):\n",
    "                resxData = np.linspace(1,njobs,len(dfMeanAllSims.iloc[:,i].expanding().mean()))\n",
    "                #print(resxData)\n",
    "                resyData = dfMeanAllSims.iloc[:, i].expanding().mean().to_numpy()\n",
    "                #print(resyData)\n",
    "                l, htput = st.t.interval(0.99, len(resyData), loc=np.mean(resyData), scale=st.sem(resyData))\n",
    "                #print(htput)\n",
    "                plt.plot(resxData, resyData, label=labelSims, marker=marker,color=color,markevery=markers_on,ls=linestyle_on)\n",
    "                plt.errorbar(resxData,resyData, yerr = (htput-resyData), marker=marker,color=color, ls = 'none', lw = 2, capthick = 2,markevery=markers_on)\n",
    "                trace1 = go.Scatter(\n",
    "                    x=resxData,\n",
    "                    y=resyData,\n",
    "                    error_y=dict(type='data', # value of error bar given in data coordinates\n",
    "                                array=(htput-resyData),\n",
    "                                visible=True),\n",
    "                    name=labelSims,\n",
    "                    line_dash=ls_plotly_on,\n",
    "                    marker_symbol=markers_on\n",
    "                )\n",
    "                datatputPHY.append(trace1)\n",
    "                color=next(colors)\n",
    "                marker=next(markersA)\n",
    "                markers_on=next(markers_on_all)\n",
    "                labelSims = next(labelAsims)\n",
    "                linestyle_on=next(linestyle)\n",
    "                ls_plotly_on = next(ls_plotly)\n",
    "            layout = go.Layout(\n",
    "                yaxis=dict(\n",
    "                    domain=[0, 1]\n",
    "                ),\n",
    "                legend=dict(\n",
    "                    traceorder=\"normal\"\n",
    "                ),\n",
    "                xaxis_title=xlabel,\n",
    "                yaxis_title=ylabel\n",
    "                )\n",
    "            fig = go.Figure(data=datatputPHY, layout=layout)\n",
    "            plt.xlabel(xlabel)\n",
    "            plt.ylabel(ylabel)\n",
    "            #plt.xlim([0.10, 0.55]) \n",
    "            #plt.legend(loc='best', numpoints=1)\n",
    "            plt.legend(loc='center left', bbox_to_anchor=(1, 0.5))\n",
    "            plt.grid()\n",
    "            #plt.tight_layout()\n",
    "            #plt.show()\n",
    "    \n",
    "        os.makedirs(outputDir+\"/ps\", exist_ok=True)\n",
    "        os.makedirs(outputDir+\"/png\", exist_ok=True)\n",
    "        os.makedirs(outputDir+\"/html\", exist_ok=True)\n",
    "    \n",
    "        \n",
    "        if bool(self.plotCI):\n",
    "            imgfilename = metric + '_CI_'+curCampaign\n",
    "        else:\n",
    "            imgfilename = metric + '_CI_'+curCampaign\n",
    "        plt.savefig(outputDir+\"/png/\"+imgfilename+\".png\")\n",
    "        plt.savefig(outputDir+\"/ps/\"+imgfilename+\".eps\")\n",
    "        pio.write_html(fig, file=outputDir+\"/html/\"+imgfilename+'.html', auto_open=True)\n",
    "        if bool(self.showPlot):\n",
    "            plt.show()\n",
    "            fig.show()\n",
    "        else:\n",
    "            plt.close()\n",
    "        \n",
    "            \n",
    "\n",
    "parser = argparse.ArgumentParser()\n",
    "parser.add_argument(\"-f\", \"--file\", type=str, help='Configuration File')\n",
    "parser.add_argument(\"-p\", \"--path\", type=str, help='Path')\n",
    "parser.add_argument(\"-j\", \"--jobs\", type=str, help='The script will ignore the value in .yaml')\n",
    "args = parser.parse_args()\n",
    "configurations_file = args.file\n",
    "plotpath = args.path\n",
    "jobs = int(args.jobs)\n",
    "os.chdir(plotpath)\n",
    "\n",
    "with open(configurations_file, 'r') as f:\n",
    "    doc = yaml.load(f, Loader=yaml.loader.BaseLoader)\n",
    "    campaign_name = os.path.splitext(configurations_file)[0]\n",
    "    print('Simulação escolhida: ')\n",
    "\n",
    "campaign = doc['campaignLines']['campaignX']\n",
    "print(campaign)\n",
    "simu = openSimulation(configurations_file)\n",
    "\n",
    "finalMetrics = ['PHY-Jobs-Capacity',\n",
    "                'PHY-Jobs-Fiberlenght']\n",
    "\n",
    "for iMet in finalMetrics:\n",
    "    for simC in campaign:\n",
    "        simu.plotCampaign(simC,iMet,jobs)\n"
   ]
  },
  {
   "cell_type": "markdown",
   "metadata": {},
   "source": [
    "## Teste"
   ]
  },
  {
   "cell_type": "code",
   "execution_count": 555,
   "metadata": {},
   "outputs": [
    {
     "name": "stdout",
     "output_type": "stream",
     "text": [
      "Overwriting ConvergencePlot.py\n"
     ]
    }
   ],
   "source": [
    "%%file ConvergencePlot.py\n",
    "#!/usr/bin/env python3\n",
    "# -*- coding: utf-8 -*-\n",
    "\"\"\"\n",
    "Created on Wed Oct  2 16:03:59 2019\n",
    "\n",
    "@author: daniel\n",
    "\"\"\"\n",
    "\n",
    "import numpy as np\n",
    "import pandas as pd\n",
    "import matplotlib.pyplot as plt\n",
    "#import seaborn as sns\n",
    "import scipy.stats as sci\n",
    "import scipy.stats as st\n",
    "import warnings\n",
    "warnings.filterwarnings(\"ignore\")\n",
    "from itertools import cycle\n",
    "import os\n",
    "import argparse\n",
    "import yaml \n",
    "from random import randint   \n",
    "import itertools\n",
    "import pandas as pd\n",
    "import plotly.graph_objects as go\n",
    "import plotly.express as px\n",
    "import plotly.io as pio\n",
    "\n",
    "class openSimulation:\n",
    "    def __init__(self, configurations_file):\n",
    "        self.email_to = 'fulano@gmail.com'            \n",
    "        with open(configurations_file, 'r') as f:\n",
    "            self.doc = yaml.load(f, Loader=yaml.loader.BaseLoader)\n",
    "            #self.doc = doc\n",
    "        self.campaign_name = os.path.splitext(configurations_file)[0]\n",
    "        \n",
    "         # Simu parameters\n",
    "        self.commandScript = ''\n",
    "        for iscenarioParameters in self.doc['scenarioParameters'].items():\n",
    "            commandraw= \" --\"+str(iscenarioParameters[0])+\"=\"+str(iscenarioParameters[1][0])\n",
    "            self.commandScript = self.commandScript + commandraw\n",
    "        #teste = self.commandScript.split(' ')\n",
    "        #print(teste[2].split('=')[1])\n",
    "\n",
    "        #Plot parameters\n",
    "        self.showPlot = True\n",
    "        self.plotCI = False\n",
    "        self.JobsConvergence = False\n",
    "        self.window = 0.1 # window of 1ms\n",
    "\n",
    "        # ns-3 script configuration\n",
    "        self.script = str(self.doc['ScriptParameters']['script'])\n",
    "        self.local_path = str(self.doc['ScriptParameters']['local_path'])\n",
    "        self.plot_path = os.getcwd()\n",
    "        #self.local_path = os.getcwd() + '/' + self.local_path\n",
    "        self.cluster_path = str(self.doc['ScriptParameters']['cluster_path'])\n",
    "        self.outputDirName = str(self.doc['ScriptParameters']['outputDir'][0])\n",
    "        self.outputDir = str(self.doc['ScriptParameters']['outputDir'][1])\n",
    "        self.seed = str(self.doc['ScriptParameters']['seed'])\n",
    "        self.CampaignTag = str(self.doc['ScriptParameters']['CampaignTag'])\n",
    "        self.configurations_file = configurations_file       \n",
    "        self.simLocation = str(self.doc['ScriptParameters']['simLocation'])\n",
    "\n",
    "        # Shell Script Parameters configuration\n",
    "        self.nOfCurlines=self.doc['ShellScriptParameters']['nOfCurlines']\n",
    "        self.SimTied = self.doc['ShellScriptParameters']['SimTied']\n",
    "        self.nOfCurlinesTied = self.doc['ShellScriptParameters']['nOfCurlinesTied']\n",
    "        self.daytime  = self.doc['ShellScriptParameters']['daytime']\n",
    "        self.htime  = self.doc['ShellScriptParameters']['htime']\n",
    "        self.ntasks = self.doc['ShellScriptParameters']['ntasks']\n",
    "        self.cpusPerTask = self.doc['ShellScriptParameters']['cpusPerTask']\n",
    "        self.numberOfJobsShellScript = int(self.doc['ShellScriptParameters']['numberOfJobsShellScript'])\n",
    "        \n",
    "         #Lines/curves\n",
    "        self.campaignX = self.doc['campaignLines']['campaignX']\n",
    "        self.campaignLines = self.doc['campaignLines']['campaignLines']\n",
    "        self.nJobs = int(self.doc['campaignLines']['jobs'])\n",
    "\n",
    "    def VetorMediaAll (self, vetor,janela):\n",
    "        NewVetorMedia = []\n",
    "        VetorMedia=[]\n",
    "        VetorVar=[]\n",
    "        VetorMoment3=[]\n",
    "        VetorMoment4=[]\n",
    "        VetorVpp=[]\n",
    "        VetorCorr=[]\n",
    "        #media = np.mean(vetor[0:janela])\n",
    "        #NewVetorMedia.append(np.ones(janela)*media)\n",
    "        for i in range(0,len(vetor),janela):\n",
    "            media = np.mean(vetor[i:i+janela])\n",
    "            VetorMedia = np.append(VetorMedia,media)\n",
    "            \n",
    "            variancia = np.var(vetor[i:i+janela])\n",
    "            VetorVar=np.append(VetorVar,variancia)\n",
    "            \n",
    "            momento3 = sci.moment(vetor[i:i+janela],moment=3)\n",
    "            VetorMoment3=np.append(VetorMoment3,momento3)\n",
    "            \n",
    "            momento4 = sci.moment(vetor[i:i+janela],moment=4)\n",
    "            VetorMoment4=np.append(VetorMoment4,momento4)\n",
    "            \n",
    "            vpp = np.max(vetor[i:i+janela]) - np.min(vetor[i:i+janela])\n",
    "            VetorVpp=np.append(VetorVpp,vpp)\n",
    "            \n",
    "            corr = vetor[i:i+janela].dot(np.conj(vetor[i:i+janela]))\n",
    "            VetorCorr=np.append(VetorCorr,corr)\n",
    "            \n",
    "            NewVetorMedia=np.concatenate((NewVetorMedia,np.ones(janela)*media),axis=0)\n",
    "        return NewVetorMedia,VetorMedia,VetorVar,VetorMoment3,VetorMoment4,VetorVpp,VetorCorr\n",
    "    \n",
    "    def plotCampaign(self,curCampaign, metric,jobs):\n",
    "        outputDir = self.plot_path\n",
    "        njobs = min(jobs,self.nJobs)\n",
    "        m_plr, m_plrCI, m_tput, m_tputCI, m_pkt, m_pktCI = [], [], [], [], [], []\n",
    "        m_tput1,m_tput2=[],[]\n",
    "        m_tputCI1,m_tputCI2,m_tputCI3,m_tputCI4=[],[],[],[]\n",
    "        m_tputCI5,m_tputCI6,m_tputCI7,m_tputCI8=[],[],[],[]\n",
    "        m_tputCI9,m_tputCI10=[],[]\n",
    "        markers_on_all = cycle(list(itertools.product([0], [1,2,3,4,5])))\n",
    "        markersA = cycle(('o','v', 'D', '>', 'h', '^', '*', '>', 's', 'H', 'D', 'd'))\n",
    "        colors = cycle(('b', 'g', 'r', 'c', 'm', 'y', 'k'))\n",
    "        linestyle = cycle(('-', '--'))# '-.', ':'))                    \n",
    "        ls_plotly = cycle((\"solid\",\"dot\",\"dash\",\"longdash\",\"dashdot\",\"longdashdot\")) \n",
    "        dfMeanTput = pd.DataFrame()\n",
    "        dfMeanPlr = pd.DataFrame()\n",
    "        dfMeanRxPkt = pd.DataFrame()    \n",
    "        nOfCurlines=int(self.nOfCurlines[0]) # number of Campaign Lines in 1 simulation (max value = 3)\n",
    "        SimTied = int(self.SimTied[0]) # whether or not the simulation parameters are tied (0 or 1)\n",
    "        nOfCurlinesTied = int(self.nOfCurlinesTied[0]) # number of Campaign Lines tied (max value = nOfCurlines)\n",
    "        print (nOfCurlines, SimTied,nOfCurlinesTied)\n",
    "        if nOfCurlines == 1 and SimTied == 0:\n",
    "            legend=[]\n",
    "            legendSims=[]\n",
    "            color=next(colors)\n",
    "            marker=next(markersA)\n",
    "            markers_on=next(markers_on_all)\n",
    "            linestyle_on =next(linestyle)\n",
    "            ls_plotly_on = next(ls_plotly)\n",
    "            curline = self.campaignLines[0]\n",
    "            campaignX = self.campaignX[0]\n",
    "            dfMovingMeanAllSims=pd.DataFrame()\n",
    "            dfMeanAllSims = pd.DataFrame()\n",
    "            vtLastTimeValueAllSims = []\n",
    "            isim = 0\n",
    "            for i in range(len(self.doc['scenarioParameters'][curline])):\n",
    "                for iCampaignX in range(len(self.doc['scenarioParameters'][campaignX])):\n",
    "                    df=pd.DataFrame()\n",
    "                    dfMovingMean=pd.DataFrame()\n",
    "                    vtLastTimeValue=[]\n",
    "                    if metric.split('-')[1] == 'PHY':\n",
    "                        if metric.split('-')[2] == 'SimTime':\n",
    "                            for iJob in range(0,njobs):\n",
    "                                if metric.split('-')[3] == 'NR':\n",
    "                                    vtMean = []\n",
    "                                    if self.UlMode: \n",
    "                                        filepath = outputDir +\"/JOB\"+str(iJob)+\"/Sim_\"+str(isim)+\"/GnbRxPacketTrace.txt\"\n",
    "                                    else:\n",
    "                                        filepath = outputDir +\"/JOB\"+str(iJob)+\"/Sim_\"+str(isim)+\"/UeRxPacketTrace.txt\"\n",
    "                                    df = pd.read_csv(filepath,sep='\\t',index_col=False)\n",
    "                                    df2 = pd.DataFrame(df, columns=['Time','tbSize','SINR(dB)'])\n",
    "                                    timeLastValue = df['Time'][len(df['Time'])-1]\n",
    "                                elif metric.split('-')[3] == 'LTE':\n",
    "                                    vtMean = []\n",
    "                                    if self.UlMode: \n",
    "                                        print('To be implemented')\n",
    "                                    elif not(self.UlMode) and metric.split('-')[0] == 'Tput':\n",
    "                                        filepath = outputDir +\"/JOB\"+str(iJob)+\"/Sim_\"+str(isim)+\"/DlRxPhyStats.txt\"\n",
    "                                        df = pd.read_csv(filepath,sep='\\t',index_col=False)\n",
    "                                    elif not(self.UlMode) and metric.split('-')[0] == 'SINR':    \n",
    "                                        filepath = outputDir +\"/JOB\"+str(iJob)+\"/Sim_\"+str(isim)+\"/DlRsrpSinrStats.txt\"\n",
    "                                        df = pd.read_csv(filepath,sep='\\t',index_col=False)\n",
    "                                        df['SINR(dB)']=10*np.log10(df['sinr'])\n",
    "                                    \n",
    "                                    df = df.rename({'% time': 'Time'},axis=1)\n",
    "                                    df2 = pd.DataFrame(df, columns=['Time','tbSize','SINR(dB)'])\n",
    "                                    \n",
    "                                    timeLastValue = df['Time'][len(df['Time'])-1]\n",
    "                                \n",
    "                                if metric.split('-')[0] == 'Tput': ## Calculate the PHY Throughput    \n",
    "                                    df2.dropna(inplace=True)    \n",
    "                                    ylabelpart2 = ' (kbps)'\n",
    "                                    ndf2ShapePos0 = df2.shape[0]\n",
    "                                    self.window=0.1\n",
    "                                    WindowSize=len(df2[df2['Time']<=  df2.Time[0] + self.window])\n",
    "                                    WindowSizeH = WindowSize\n",
    "                                    WindowSizeL =0\n",
    "                                    while ndf2ShapePos0 != WindowSizeH:\n",
    "                                        if WindowSize == 0:\n",
    "                                            medias = 0\n",
    "                                        else:\n",
    "                                            [vetor,medias,variancia,moment3,moment4,vpp,correlacao] = self.VetorMediaAll(df2.tbSize[WindowSizeL:WindowSizeH].values,WindowSize)\n",
    "                                        vtMean = np.append(vtMean, medias);\n",
    "                                        self.window+=0.1\n",
    "                                        WindowSizeL = WindowSize\n",
    "                                        WindowSizeH=len(df2[df2['Time']<=  df2.Time[0] + self.window])\n",
    "                                        WindowSize = WindowSizeH - WindowSizeL\n",
    "                                    \n",
    "                                    vtMeandf = pd.DataFrame(vtMean)\n",
    "                                    dfMovingMean = pd.concat([dfMovingMean,vtMeandf], axis=1)\n",
    "                                    vtLastTimeValue = np.append(vtLastTimeValue,timeLastValue)\n",
    "                                elif metric.split('-')[0] == 'SINR': ## Calculate the PHY SINR\n",
    "                                    df2.dropna(inplace=True)    \n",
    "                                    ylabelpart2 = ' (dB)'\n",
    "                                    ndf2ShapePos0 = df2.shape[0]\n",
    "                                    self.window=0.1\n",
    "                                    WindowSize=len(df2[df2['Time']<=  df2.Time[0] + self.window])\n",
    "                                    WindowSizeH = WindowSize\n",
    "                                    WindowSizeL =0\n",
    "                                    while ndf2ShapePos0 != WindowSizeH:\n",
    "                                        if WindowSize == 0:\n",
    "                                            medias = 0\n",
    "                                        else:\n",
    "                                            [vetor,medias,variancia,moment3,moment4,vpp,correlacao] = self.VetorMediaAll(10**(df2['SINR(dB)'][WindowSizeL:WindowSizeH].values/10),WindowSize)\n",
    "                                        vtMean = np.append(vtMean, 10*np.log10(medias))\n",
    "                                        self.window+=0.1\n",
    "                                        WindowSizeL = WindowSize\n",
    "                                        WindowSizeH=len(df2[df2['Time']<=  df2.Time[0] + self.window])\n",
    "                                        WindowSize = WindowSizeH - WindowSizeL\n",
    "                                    \n",
    "                                    vtMeandf = pd.DataFrame(vtMean)\n",
    "                                    dfMovingMean = pd.concat([dfMovingMean,vtMeandf], axis=1)\n",
    "                                    vtLastTimeValue = np.append(vtLastTimeValue,timeLastValue)\n",
    "\n",
    "                                    \n",
    "                            vtLastTimeValueAllSims = np.append(vtLastTimeValueAllSims,vtLastTimeValue.mean())\n",
    "                            if metric.split('-')[0] == 'Tput':\n",
    "                                dfMovingMeanAllSims = pd.concat([dfMovingMeanAllSims,dfMovingMean.dropna().mean(axis=1)/0.1], axis=1) # dividing by the window to calcutate tput\n",
    "                            elif metric.split('-')[0] == 'SINR':\n",
    "                                dfMovingMeanAllSims = pd.concat([dfMovingMeanAllSims,dfMovingMean.dropna().mean(axis=1)], axis=1)\n",
    "                        elif metric.split('-')[2] == 'Jobs':\n",
    "                            vtMeanJobs = []\n",
    "                            for iJob in range(0,njobs):\n",
    "                                if metric.split('-')[3] == 'NR':\n",
    "                                    vtMean = []\n",
    "                                    if self.UlMode: \n",
    "                                        filepath = outputDir +\"/JOB\"+str(iJob)+\"/Sim_\"+str(isim)+\"/GnbRxPacketTrace.txt\"\n",
    "                                    else:\n",
    "                                        filepath = outputDir +\"/JOB\"+str(iJob)+\"/Sim_\"+str(isim)+\"/UeRxPacketTrace.txt\"\n",
    "                                    df = pd.read_csv(filepath,sep='\\t',index_col=False)\n",
    "                                    df2 = pd.DataFrame(df, columns=['Time','tbSize','SINR(dB)'])\n",
    "                                    timeLastValue = df['Time'][len(df['Time'])-1]\n",
    "                                elif metric.split('-')[3] == 'LTE':\n",
    "                                    vtMean = []\n",
    "                                    if self.UlMode: \n",
    "                                        print('To be implemented')\n",
    "                                    elif not(self.UlMode) and metric.split('-')[0] == 'Tput':\n",
    "                                        filepath = outputDir +\"/JOB\"+str(iJob)+\"/Sim_\"+str(isim)+\"/DlRxPhyStats.txt\"\n",
    "                                        df = pd.read_csv(filepath,sep='\\t',index_col=False)\n",
    "                                    elif not(self.UlMode) and metric.split('-')[0] == 'SINR':    \n",
    "                                        filepath = outputDir +\"/JOB\"+str(iJob)+\"/Sim_\"+str(isim)+\"/DlRsrpSinrStats.txt\"\n",
    "                                        df = pd.read_csv(filepath,sep='\\t',index_col=False)\n",
    "                                        df['SINR(dB)']=10*np.log10(df['sinr'])\n",
    "                                    \n",
    "                                    df = df.rename({'% time': 'Time'},axis=1)\n",
    "                                    df2 = pd.DataFrame(df, columns=['Time','tbSize','SINR(dB)'])\n",
    "                                if metric.split('-')[0] == 'Tput':\n",
    "                                    ylabelpart2 = '(kbps)'\n",
    "                                    vtMeanJobs = np.append(vtMeanJobs, df2['tbSize'].sum()/df2.iloc[-1,0]/1000) #kbps\n",
    "                                elif metric.split('-')[0] == 'SINR':\n",
    "                                    ylabelpart2 = '(dB)'\n",
    "                                    vtMeanJobs = np.append(vtMeanJobs,10*np.log10(np.mean(10**(df2['SINR(dB)']/10)))) #dB\n",
    "                            dfMeanJobs = pd.DataFrame(vtMeanJobs)\n",
    "                            dfMeanAllSims = pd.concat([dfMeanAllSims,dfMeanJobs], axis=1)  \n",
    "                    isim +=1\n",
    "            #Legend of 2/0/0\n",
    "            for ilegend in self.doc['scenarioParameters'][curline]:\n",
    "                legendEntry = self.CampaignTag + \": \" + curline + \" \" + ilegend\n",
    "                legend.append(legendEntry) \n",
    "                for ilegendcdf in self.doc['scenarioParameters'][campaignX]:\n",
    "                    legendSimsEntry = legendEntry + \",\" + \" \" + campaignX + \" \" + ilegendcdf \n",
    "                    legendSims.append(legendSimsEntry)\n",
    "        \n",
    "        \n",
    "        #//////////////////////////////////////////////////////////////////////////////////////////\n",
    "        #//////////////////////////////////////////////////////////////////////////////////////////\n",
    "        \n",
    "        elif nOfCurlines==3 and SimTied == 1 and nOfCurlinesTied == 3:\n",
    "            legend = []\n",
    "            legendSims = []\n",
    "            color = next(colors)\n",
    "            marker = next(markersA)\n",
    "            markers_on = next(markers_on_all)\n",
    "            linestyle_on = next(linestyle)\n",
    "            ls_plotly_on = next(ls_plotly)\n",
    "            curline = self.campaignLines[0]\n",
    "            curline1 = self.campaignLines[1]\n",
    "            curline2 = self.campaignLines[2]\n",
    "            campaignX = self.campaignX[0]\n",
    "            dfMeanAllSims = pd.DataFrame()\n",
    "            dfMeanJobsAccumulated = pd.DataFrame()\n",
    "            dfIntervalAllSims = pd.DataFrame()\n",
    "            isim = 0\n",
    "            for i in range(len(self.doc['scenarioParameters'][curline])):\n",
    "                for iCampaignX in range(len(self.doc['scenarioParameters'][campaignX])):\n",
    "                    df=pd.DataFrame()\n",
    "                    if metric.split('-')[1] == 'Jobs':\n",
    "                        vtJobs = []\n",
    "                        vtMeanJobs = []\n",
    "                        vtMeanJobsAccumulated = []\n",
    "                        vtInterval = []\n",
    "                        vtIntervalJobs = []\n",
    "                        for iJob in range(0,njobs):\n",
    "                            if metric.split('-')[2] == 'Capacity':\n",
    "                                filepath = outputDir +\"/JOB\"+str(iJob)+\"/Sim_\"+str(isim)+\"/df_capacities.csv\"\n",
    "                                df = pd.read_csv(filepath, usecols=['odc_locations', 'capacities'])                            \n",
    "                                vtJobs = np.append(vtJobs,df['capacities'])\n",
    "                                vtMeanJobs = np.mean(vtJobs)\n",
    "                                vtMeanJobsAccumulated = np.append(vtMeanJobsAccumulated,vtMeanJobs)\n",
    "                                #print(vtMeanJobsAccumulated)\n",
    "                                _, vtInterval = st.t.interval(0.99, len(vtJobs)-1, loc=vtMeanJobs, scale=st.sem(vtJobs))\n",
    "                                #print('vtinterval', vtInterval)\n",
    "                                vtIntervalJobs.append(vtInterval - vtMeanJobs)\n",
    "                                #print(vtIntervalJobs)\n",
    "                                ylabelpart2 = '(CPUs/ODC)'\n",
    "                            elif metric.split('-')[2] == 'Fiberlenght':\n",
    "                                filepath = outputDir +\"/JOB\"+str(iJob)+\"/Sim_\"+str(isim)+\"/df_fiberlength.csv\"\n",
    "                                df = pd.read_csv(filepath, usecols=['odc_locations', 'fiberlength'])\n",
    "                                vtJobs = np.append(vtJobs,df['fiberlength'])\n",
    "                                vtMeanJobs = np.mean(vtJobs)\n",
    "                                vtMeanJobsAccumulated = np.append(vtMeanJobsAccumulated,vtMeanJobs)\n",
    "                                #print(vtMeanJobsAccumulated)\n",
    "                                _, vtInterval = st.t.interval(0.99, len(vtJobs)-1, loc=vtMeanJobs, scale=st.sem(vtJobs))\n",
    "                                vtIntervalJobs.append(vtInterval - vtMeanJobs)\n",
    "                                #print(vtIntervalJobs)\n",
    "                                ylabelpart2 = '(kms)'\n",
    "                        dfMeanJobsAccumulated = pd.DataFrame(vtMeanJobsAccumulated)\n",
    "                        dfMeanAllSims = pd.concat([dfMeanAllSims,dfMeanJobsAccumulated], axis=1)\n",
    "                        dfIntervalJobs = pd.DataFrame(vtIntervalJobs)\n",
    "                        dfIntervalAllSims = pd.concat([dfIntervalAllSims,dfIntervalJobs], axis=1)\n",
    "                        #print(dfIntervalAllSims)\n",
    "                    isim +=1\n",
    "            #Legend of 3/1/3\n",
    "            for ilegend in self.doc['scenarioParameters'][curline]:\n",
    "                legendtag = self.CampaignTag + \": \" + curline + \" \" + ilegend\n",
    "                for ilegend1 in self.doc['scenarioParameters'][curline1]:\n",
    "                    legendtag1 = legendtag + \", \" + curline1 + \" \" + ilegend1\n",
    "                    for ilegend2 in self.doc['scenarioParameters'][curline2]:\n",
    "                        legendtag2 = legendtag1 + \", \" + curline2 + \" \" + ilegend2\n",
    "                        legend.append(legendtag2) \n",
    "                        for ilegendcdf in self.doc['scenarioParameters'][campaignX]:\n",
    "                            legendSimsEntry = legendtag2 + \",\" + \" \" + campaignX + \" \" + ilegendcdf \n",
    "                            legendSims.append(legendSimsEntry)\n",
    "\n",
    "        ##### START OF PLOTTING SECTION ####         \n",
    "\n",
    "        \n",
    "        #labelA = cycle(legend)\n",
    "        labelAsims = cycle(legendSims) \n",
    "        #label = next(labelA)\n",
    "        labelSims = next(labelAsims)\n",
    "        datatputPHY=[]\n",
    "        #dataplr=[]\n",
    "        #datatput=[]\n",
    "        #datarxpkt=[] \n",
    "        if metric.split('-')[1] == 'Jobs':\n",
    "            xlabel='Jobs'\n",
    "            ylabel=metric +\" \"+ ylabelpart2\n",
    "            plt.figure(figsize=(20,10))\n",
    "            for i in range (dfMeanAllSims.shape[1]):\n",
    "                resxData = np.linspace(1,njobs,len(dfMeanAllSims.iloc[:,i]))\n",
    "                resyData = dfMeanAllSims.iloc[:,i].to_numpy()\n",
    "                #plt.plot(resxData, resyData, label=labelSims, marker=marker,color=color,markevery=markers_on,ls=linestyle_on)\n",
    "                plt.errorbar(resxData,resyData, yerr = dfIntervalAllSims.iloc[:,i], marker=marker,color=color, ls = 'none', lw = 2, capthick = 2,markevery=markers_on)\n",
    "                trace1 = go.Scatter(\n",
    "                    x=resxData,\n",
    "                    y=resyData,\n",
    "                    error_y=dict(type='data', # value of error bar given in data coordinates\n",
    "                                array=dfIntervalAllSims.iloc[:,i],\n",
    "                                visible=True),\n",
    "                    name=labelSims,\n",
    "                    line_dash=ls_plotly_on,\n",
    "                    marker_symbol=markers_on\n",
    "                )\n",
    "                datatputPHY.append(trace1)\n",
    "                color=next(colors)\n",
    "                marker=next(markersA)\n",
    "                markers_on=next(markers_on_all)\n",
    "                labelSims = next(labelAsims)\n",
    "                linestyle_on=next(linestyle)\n",
    "                ls_plotly_on = next(ls_plotly)\n",
    "            layout = go.Layout(\n",
    "                yaxis=dict(\n",
    "                    domain=[0, 1]\n",
    "                ),\n",
    "                legend=dict(\n",
    "                    traceorder=\"normal\"\n",
    "                ),\n",
    "                xaxis_title=xlabel,\n",
    "                yaxis_title=ylabel\n",
    "                )\n",
    "            \n",
    "            fig = go.Figure(data=datatputPHY, layout=layout)\n",
    "            plt.xlabel(xlabel)\n",
    "            plt.ylabel(ylabel)\n",
    "            #plt.xlim([0.10, 0.55]) \n",
    "            #plt.legend(loc='best', numpoints=1)\n",
    "            plt.legend(loc='center left', bbox_to_anchor=(1, 0.5))\n",
    "            plt.grid()\n",
    "            #plt.tight_layout()\n",
    "            #plt.show()\n",
    "    \n",
    "        os.makedirs(outputDir+\"/ps\", exist_ok=True)\n",
    "        os.makedirs(outputDir+\"/png\", exist_ok=True)\n",
    "        os.makedirs(outputDir+\"/html\", exist_ok=True)\n",
    "    \n",
    "        \n",
    "        if bool(self.plotCI):\n",
    "            imgfilename = metric + '_CI_'+curCampaign\n",
    "        else:\n",
    "            imgfilename = metric + '_CI_'+curCampaign\n",
    "        plt.savefig(outputDir+\"/png/\"+imgfilename+\".png\")\n",
    "        plt.savefig(outputDir+\"/ps/\"+imgfilename+\".eps\")\n",
    "        pio.write_html(fig, file=outputDir+\"/html/\"+imgfilename+'.html', auto_open=True)\n",
    "        if bool(self.showPlot):\n",
    "            plt.show()\n",
    "            fig.show()\n",
    "        else:\n",
    "            plt.close()\n",
    "        \n",
    "            \n",
    "\n",
    "parser = argparse.ArgumentParser()\n",
    "parser.add_argument(\"-f\", \"--file\", type=str, help='Configuration File')\n",
    "parser.add_argument(\"-p\", \"--path\", type=str, help='Path')\n",
    "parser.add_argument(\"-j\", \"--jobs\", type=str, help='The script will ignore the value in .yaml')\n",
    "args = parser.parse_args()\n",
    "configurations_file = args.file\n",
    "plotpath = args.path\n",
    "jobs = int(args.jobs)\n",
    "os.chdir(plotpath)\n",
    "\n",
    "with open(configurations_file, 'r') as f:\n",
    "    doc = yaml.load(f, Loader=yaml.loader.BaseLoader)\n",
    "    campaign_name = os.path.splitext(configurations_file)[0]\n",
    "    print('Simulação escolhida: ')\n",
    "\n",
    "campaign = doc['campaignLines']['campaignX']\n",
    "print(campaign)\n",
    "simu = openSimulation(configurations_file)\n",
    "\n",
    "finalMetrics = ['PHY-Jobs-Capacity',\n",
    "                'PHY-Jobs-Fiberlenght']\n",
    "\n",
    "for iMet in finalMetrics:\n",
    "    for simC in campaign:\n",
    "        simu.plotCampaign(simC,iMet,jobs)\n"
   ]
  },
  {
   "cell_type": "markdown",
   "metadata": {},
   "source": [
    "# Convergence Metrics"
   ]
  },
  {
   "cell_type": "markdown",
   "metadata": {},
   "source": [
    "### Exemplo"
   ]
  },
  {
   "cell_type": "code",
   "execution_count": 556,
   "metadata": {},
   "outputs": [
    {
     "name": "stdout",
     "output_type": "stream",
     "text": [
      "/home/oai-ufrn/Repositories/tests/open_ran_datacenter_placement/Plots/PlotScripts\n",
      "Simulação escolhida: \n",
      "['odcs']\n",
      "3 1 3\n"
     ]
    },
    {
     "name": "stderr",
     "output_type": "stream",
     "text": [
      "No artists with labels found to put in legend.  Note that artists whose label start with an underscore are ignored when legend() is called with no argument.\n",
      "The PostScript backend does not support transparency; partially transparent artists will be rendered opaque.\n"
     ]
    },
    {
     "data": {
      "image/png": "[encoded data removed]",
      "text/plain": [
       "<Figure size 2000x1000 with 1 Axes>"
      ]
     },
     "metadata": {},
     "output_type": "display_data"
    },
    {
     "data": {
      "application/vnd.plotly.v1+json": {
       "config": {
        "plotlyServerURL": "https://plot.ly"
       },
       "data": [
        {
         "error_y": {
          "array": [
           2.9946826900145638,
           2.0886690688305265,
           1.6976901727893505,
           1.4669339748181969,
           1.3102972382979914,
           1.195058814852743,
           1.1057008553665852,
           1.0337919451904511,
           0.9743046694674788,
           0.9240307331237929,
           0.8808136896428778,
           0.8431434159890472,
           0.8099266395803468,
           0.7803497811312639,
           0.7537932066738904,
           0.7297755655383042,
           0.7079164853158844,
           0.6879108729316101,
           0.6695107824870803,
           0.6525123503717865
          ],
          "type": "data",
          "visible": true
         },
         "line": {
          "dash": "solid"
         },
         "marker": {
          "symbol": [
           0,
           1
          ]
         },
         "name": "teste: wcpu 0, wodc 0, wd 1, odcs 0",
         "type": "scatter",
         "x": [
          1,
          2,
          3,
          4,
          5,
          6,
          7,
          8,
          9,
          10,
          11,
          12,
          13,
          14,
          15,
          16,
          17,
          18,
          19,
          20
         ],
         "y": [
          44,
          44,
          44,
          44,
          44,
          44,
          44,
          44,
          44,
          44,
          44,
          44,
          44,
          44,
          44,
          44,
          44,
          44,
          44,
          44
         ]
        },
        {
         "error_y": {
          "array": [
           20.904792514421047,
           14.37066373157927,
           11.626315422975964,
           10.02295199247581,
           8.940461265418577,
           8.146751131567754,
           7.532715477013454,
           7.039415207104554,
           6.631851399522844,
           6.287758320032836,
           5.992206295445385,
           5.734760622543604,
           5.507879008801623,
           5.305956198022258,
           5.124727975671462,
           4.96088499201727,
           4.811814347461677,
           4.675421814708699,
           4.550006553981987,
           4.434170934918683
          ],
          "type": "data",
          "visible": true
         },
         "line": {
          "dash": "dot"
         },
         "marker": {
          "symbol": [
           0,
           2
          ]
         },
         "name": "teste: wcpu 0, wodc 0, wd 1, odcs 45",
         "type": "scatter",
         "x": [
          1,
          2,
          3,
          4,
          5,
          6,
          7,
          8,
          9,
          10,
          11,
          12,
          13,
          14,
          15,
          16,
          17,
          18,
          19,
          20
         ],
         "y": [
          88,
          88,
          88,
          88,
          88,
          88,
          88,
          88,
          88,
          88,
          88,
          88,
          88,
          88,
          88,
          88,
          88,
          88,
          88,
          88
         ]
        },
        {
         "error_y": {
          "array": [
           42.64280716533989,
           28.870044301659732,
           23.24498861982599,
           19.99234613330671,
           17.80834849592253,
           16.21243175359993,
           14.980660939581384,
           13.992764999845633,
           13.177619411252891,
           12.490116051277369,
           11.900082009683047,
           11.386469646478417,
           10.934089791955671,
           10.53166925226816,
           10.170641615682513,
           9.844365171657728,
           9.547600385325723,
           9.27615090703975,
           9.026610880342787,
           8.796183247259933
          ],
          "type": "data",
          "visible": true
         },
         "line": {
          "dash": "dash"
         },
         "marker": {
          "symbol": [
           0,
           3
          ]
         },
         "name": "teste: wcpu 0, wodc 0, wd 1, odcs 30",
         "type": "scatter",
         "x": [
          1,
          2,
          3,
          4,
          5,
          6,
          7,
          8,
          9,
          10,
          11,
          12,
          13,
          14,
          15,
          16,
          17,
          18,
          19,
          20
         ],
         "y": [
          132,
          132,
          132,
          132,
          132,
          132,
          132,
          132,
          132,
          132,
          132,
          132,
          132,
          132,
          132,
          132,
          132,
          132,
          132,
          132
         ]
        },
        {
         "error_y": {
          "array": [
           76.83183245887778,
           51.108931967938815,
           40.92939516076052,
           35.11025637510306,
           31.22652256298329,
           28.39918577495311,
           26.222556920417674,
           24.48012115936632,
           23.04441379819974,
           21.834868043846456,
           20.797734644952016,
           19.89559921894923,
           19.101508349963098,
           18.395486654321445,
           17.762373721810206,
           17.190427850709284,
           16.670394747031338,
           16.19486862969069,
           15.757843090977303,
           15.354388514341366
          ],
          "type": "data",
          "visible": true
         },
         "line": {
          "dash": "longdash"
         },
         "marker": {
          "symbol": [
           0,
           4
          ]
         },
         "name": "teste: wcpu 0, wodc 0, wd 1, odcs 22",
         "type": "scatter",
         "x": [
          1,
          2,
          3,
          4,
          5,
          6,
          7,
          8,
          9,
          10,
          11,
          12,
          13,
          14,
          15,
          16,
          17,
          18,
          19,
          20
         ],
         "y": [
          180,
          180,
          180,
          180,
          180,
          180,
          180,
          180,
          180,
          180,
          180,
          180,
          180,
          180,
          180,
          180,
          180,
          180,
          180,
          180
         ]
        },
        {
         "error_y": {
          "array": [
           2.9946826900145638,
           2.0886690688305265,
           1.6976901727893505,
           1.4669339748181969,
           1.3102972382979914,
           1.195058814852743,
           1.1057008553665852,
           1.0337919451904511,
           0.9743046694674788,
           0.9240307331237929,
           0.8808136896428778,
           0.8431434159890472,
           0.8099266395803468,
           0.7803497811312639,
           0.7537932066738904,
           0.7297755655383042,
           0.7079164853158844,
           0.6879108729316101,
           0.6695107824870803,
           0.6525123503717865
          ],
          "type": "data",
          "visible": true
         },
         "line": {
          "dash": "dashdot"
         },
         "marker": {
          "symbol": [
           0,
           5
          ]
         },
         "name": "teste: wcpu 0, wodc 0, wd 0.5, odcs 0",
         "type": "scatter",
         "x": [
          1,
          2,
          3,
          4,
          5,
          6,
          7,
          8,
          9,
          10,
          11,
          12,
          13,
          14,
          15,
          16,
          17,
          18,
          19,
          20
         ],
         "y": [
          44,
          44,
          44,
          44,
          44,
          44,
          44,
          44,
          44,
          44,
          44,
          44,
          44,
          44,
          44,
          44,
          44,
          44,
          44,
          44
         ]
        },
        {
         "error_y": {
          "array": [
           20.904792514421047,
           14.37066373157927,
           11.626315422975964,
           10.02295199247581,
           8.940461265418577,
           8.146751131567754,
           7.532715477013454,
           7.039415207104554,
           6.631851399522844,
           6.287758320032836,
           5.992206295445385,
           5.734760622543604,
           5.507879008801623,
           5.305956198022258,
           5.124727975671462,
           4.96088499201727,
           4.811814347461677,
           4.675421814708699,
           4.550006553981987,
           4.434170934918683
          ],
          "type": "data",
          "visible": true
         },
         "line": {
          "dash": "longdashdot"
         },
         "marker": {
          "symbol": [
           0,
           1
          ]
         },
         "name": "teste: wcpu 0, wodc 0, wd 0.5, odcs 45",
         "type": "scatter",
         "x": [
          1,
          2,
          3,
          4,
          5,
          6,
          7,
          8,
          9,
          10,
          11,
          12,
          13,
          14,
          15,
          16,
          17,
          18,
          19,
          20
         ],
         "y": [
          88,
          88,
          88,
          88,
          88,
          88,
          88,
          88,
          88,
          88,
          88,
          88,
          88,
          88,
          88,
          88,
          88,
          88,
          88,
          88
         ]
        },
        {
         "error_y": {
          "array": [
           42.64280716533989,
           28.870044301659732,
           23.24498861982599,
           19.99234613330671,
           17.80834849592253,
           16.21243175359993,
           14.980660939581384,
           13.992764999845633,
           13.177619411252891,
           12.490116051277369,
           11.900082009683047,
           11.386469646478417,
           10.934089791955671,
           10.53166925226816,
           10.170641615682513,
           9.844365171657728,
           9.547600385325723,
           9.27615090703975,
           9.026610880342787,
           8.796183247259933
          ],
          "type": "data",
          "visible": true
         },
         "line": {
          "dash": "solid"
         },
         "marker": {
          "symbol": [
           0,
           2
          ]
         },
         "name": "teste: wcpu 0, wodc 0, wd 0.5, odcs 30",
         "type": "scatter",
         "x": [
          1,
          2,
          3,
          4,
          5,
          6,
          7,
          8,
          9,
          10,
          11,
          12,
          13,
          14,
          15,
          16,
          17,
          18,
          19,
          20
         ],
         "y": [
          132,
          132,
          132,
          132,
          132,
          132,
          132,
          132,
          132,
          132,
          132,
          132,
          132,
          132,
          132,
          132,
          132,
          132,
          132,
          132
         ]
        },
        {
         "error_y": {
          "array": [
           76.83183245887778,
           51.108931967938815,
           40.92939516076052,
           35.11025637510306,
           31.22652256298329,
           28.39918577495311,
           26.222556920417674,
           24.48012115936632,
           23.04441379819974,
           21.834868043846456,
           20.797734644952016,
           19.89559921894923,
           19.101508349963098,
           18.395486654321445,
           17.762373721810206,
           17.190427850709284,
           16.670394747031338,
           16.19486862969069,
           15.757843090977303,
           15.354388514341366
          ],
          "type": "data",
          "visible": true
         },
         "line": {
          "dash": "dot"
         },
         "marker": {
          "symbol": [
           0,
           3
          ]
         },
         "name": "teste: wcpu 0, wodc 0, wd 0.5, odcs 22",
         "type": "scatter",
         "x": [
          1,
          2,
          3,
          4,
          5,
          6,
          7,
          8,
          9,
          10,
          11,
          12,
          13,
          14,
          15,
          16,
          17,
          18,
          19,
          20
         ],
         "y": [
          180,
          180,
          180,
          180,
          180,
          180,
          180,
          180,
          180,
          180,
          180,
          180,
          180,
          180,
          180,
          180,
          180,
          180,
          180,
          180
         ]
        }
       ],
       "layout": {
        "autosize": true,
        "legend": {
         "traceorder": "normal"
        },
        "template": {
         "data": {
          "bar": [
           {
            "error_x": {
             "color": "#2a3f5f"
            },
            "error_y": {
             "color": "#2a3f5f"
            },
            "marker": {
             "line": {
              "color": "#E5ECF6",
              "width": 0.5
             },
             "pattern": {
              "fillmode": "overlay",
              "size": 10,
              "solidity": 0.2
             }
            },
            "type": "bar"
           }
          ],
          "barpolar": [
           {
            "marker": {
             "line": {
              "color": "#E5ECF6",
              "width": 0.5
             },
             "pattern": {
              "fillmode": "overlay",
              "size": 10,
              "solidity": 0.2
             }
            },
            "type": "barpolar"
           }
          ],
          "carpet": [
           {
            "aaxis": {
             "endlinecolor": "#2a3f5f",
             "gridcolor": "white",
             "linecolor": "white",
             "minorgridcolor": "white",
             "startlinecolor": "#2a3f5f"
            },
            "baxis": {
             "endlinecolor": "#2a3f5f",
             "gridcolor": "white",
             "linecolor": "white",
             "minorgridcolor": "white",
             "startlinecolor": "#2a3f5f"
            },
            "type": "carpet"
           }
          ],
          "choropleth": [
           {
            "colorbar": {
             "outlinewidth": 0,
             "ticks": ""
            },
            "type": "choropleth"
           }
          ],
          "contour": [
           {
            "colorbar": {
             "outlinewidth": 0,
             "ticks": ""
            },
            "colorscale": [
             [
              0,
              "#0d0887"
             ],
             [
              0.1111111111111111,
              "#46039f"
             ],
             [
              0.2222222222222222,
              "#7201a8"
             ],
             [
              0.3333333333333333,
              "#9c179e"
             ],
             [
              0.4444444444444444,
              "#bd3786"
             ],
             [
              0.5555555555555556,
              "#d8576b"
             ],
             [
              0.6666666666666666,
              "#ed7953"
             ],
             [
              0.7777777777777778,
              "#fb9f3a"
             ],
             [
              0.8888888888888888,
              "#fdca26"
             ],
             [
              1,
              "#f0f921"
             ]
            ],
            "type": "contour"
           }
          ],
          "contourcarpet": [
           {
            "colorbar": {
             "outlinewidth": 0,
             "ticks": ""
            },
            "type": "contourcarpet"
           }
          ],
          "heatmap": [
           {
            "colorbar": {
             "outlinewidth": 0,
             "ticks": ""
            },
            "colorscale": [
             [
              0,
              "#0d0887"
             ],
             [
              0.1111111111111111,
              "#46039f"
             ],
             [
              0.2222222222222222,
              "#7201a8"
             ],
             [
              0.3333333333333333,
              "#9c179e"
             ],
             [
              0.4444444444444444,
              "#bd3786"
             ],
             [
              0.5555555555555556,
              "#d8576b"
             ],
             [
              0.6666666666666666,
              "#ed7953"
             ],
             [
              0.7777777777777778,
              "#fb9f3a"
             ],
             [
              0.8888888888888888,
              "#fdca26"
             ],
             [
              1,
              "#f0f921"
             ]
            ],
            "type": "heatmap"
           }
          ],
          "heatmapgl": [
           {
            "colorbar": {
             "outlinewidth": 0,
             "ticks": ""
            },
            "colorscale": [
             [
              0,
              "#0d0887"
             ],
             [
              0.1111111111111111,
              "#46039f"
             ],
             [
              0.2222222222222222,
              "#7201a8"
             ],
             [
              0.3333333333333333,
              "#9c179e"
             ],
             [
              0.4444444444444444,
              "#bd3786"
             ],
             [
              0.5555555555555556,
              "#d8576b"
             ],
             [
              0.6666666666666666,
              "#ed7953"
             ],
             [
              0.7777777777777778,
              "#fb9f3a"
             ],
             [
              0.8888888888888888,
              "#fdca26"
             ],
             [
              1,
              "#f0f921"
             ]
            ],
            "type": "heatmapgl"
           }
          ],
          "histogram": [
           {
            "marker": {
             "pattern": {
              "fillmode": "overlay",
              "size": 10,
              "solidity": 0.2
             }
            },
            "type": "histogram"
           }
          ],
          "histogram2d": [
           {
            "colorbar": {
             "outlinewidth": 0,
             "ticks": ""
            },
            "colorscale": [
             [
              0,
              "#0d0887"
             ],
             [
              0.1111111111111111,
              "#46039f"
             ],
             [
              0.2222222222222222,
              "#7201a8"
             ],
             [
              0.3333333333333333,
              "#9c179e"
             ],
             [
              0.4444444444444444,
              "#bd3786"
             ],
             [
              0.5555555555555556,
              "#d8576b"
             ],
             [
              0.6666666666666666,
              "#ed7953"
             ],
             [
              0.7777777777777778,
              "#fb9f3a"
             ],
             [
              0.8888888888888888,
              "#fdca26"
             ],
             [
              1,
              "#f0f921"
             ]
            ],
            "type": "histogram2d"
           }
          ],
          "histogram2dcontour": [
           {
            "colorbar": {
             "outlinewidth": 0,
             "ticks": ""
            },
            "colorscale": [
             [
              0,
              "#0d0887"
             ],
             [
              0.1111111111111111,
              "#46039f"
             ],
             [
              0.2222222222222222,
              "#7201a8"
             ],
             [
              0.3333333333333333,
              "#9c179e"
             ],
             [
              0.4444444444444444,
              "#bd3786"
             ],
             [
              0.5555555555555556,
              "#d8576b"
             ],
             [
              0.6666666666666666,
              "#ed7953"
             ],
             [
              0.7777777777777778,
              "#fb9f3a"
             ],
             [
              0.8888888888888888,
              "#fdca26"
             ],
             [
              1,
              "#f0f921"
             ]
            ],
            "type": "histogram2dcontour"
           }
          ],
          "mesh3d": [
           {
            "colorbar": {
             "outlinewidth": 0,
             "ticks": ""
            },
            "type": "mesh3d"
           }
          ],
          "parcoords": [
           {
            "line": {
             "colorbar": {
              "outlinewidth": 0,
              "ticks": ""
             }
            },
            "type": "parcoords"
           }
          ],
          "pie": [
           {
            "automargin": true,
            "type": "pie"
           }
          ],
          "scatter": [
           {
            "fillpattern": {
             "fillmode": "overlay",
             "size": 10,
             "solidity": 0.2
            },
            "type": "scatter"
           }
          ],
          "scatter3d": [
           {
            "line": {
             "colorbar": {
              "outlinewidth": 0,
              "ticks": ""
             }
            },
            "marker": {
             "colorbar": {
              "outlinewidth": 0,
              "ticks": ""
             }
            },
            "type": "scatter3d"
           }
          ],
          "scattercarpet": [
           {
            "marker": {
             "colorbar": {
              "outlinewidth": 0,
              "ticks": ""
             }
            },
            "type": "scattercarpet"
           }
          ],
          "scattergeo": [
           {
            "marker": {
             "colorbar": {
              "outlinewidth": 0,
              "ticks": ""
             }
            },
            "type": "scattergeo"
           }
          ],
          "scattergl": [
           {
            "marker": {
             "colorbar": {
              "outlinewidth": 0,
              "ticks": ""
             }
            },
            "type": "scattergl"
           }
          ],
          "scattermapbox": [
           {
            "marker": {
             "colorbar": {
              "outlinewidth": 0,
              "ticks": ""
             }
            },
            "type": "scattermapbox"
           }
          ],
          "scatterpolar": [
           {
            "marker": {
             "colorbar": {
              "outlinewidth": 0,
              "ticks": ""
             }
            },
            "type": "scatterpolar"
           }
          ],
          "scatterpolargl": [
           {
            "marker": {
             "colorbar": {
              "outlinewidth": 0,
              "ticks": ""
             }
            },
            "type": "scatterpolargl"
           }
          ],
          "scatterternary": [
           {
            "marker": {
             "colorbar": {
              "outlinewidth": 0,
              "ticks": ""
             }
            },
            "type": "scatterternary"
           }
          ],
          "surface": [
           {
            "colorbar": {
             "outlinewidth": 0,
             "ticks": ""
            },
            "colorscale": [
             [
              0,
              "#0d0887"
             ],
             [
              0.1111111111111111,
              "#46039f"
             ],
             [
              0.2222222222222222,
              "#7201a8"
             ],
             [
              0.3333333333333333,
              "#9c179e"
             ],
             [
              0.4444444444444444,
              "#bd3786"
             ],
             [
              0.5555555555555556,
              "#d8576b"
             ],
             [
              0.6666666666666666,
              "#ed7953"
             ],
             [
              0.7777777777777778,
              "#fb9f3a"
             ],
             [
              0.8888888888888888,
              "#fdca26"
             ],
             [
              1,
              "#f0f921"
             ]
            ],
            "type": "surface"
           }
          ],
          "table": [
           {
            "cells": {
             "fill": {
              "color": "#EBF0F8"
             },
             "line": {
              "color": "white"
             }
            },
            "header": {
             "fill": {
              "color": "#C8D4E3"
             },
             "line": {
              "color": "white"
             }
            },
            "type": "table"
           }
          ]
         },
         "layout": {
          "annotationdefaults": {
           "arrowcolor": "#2a3f5f",
           "arrowhead": 0,
           "arrowwidth": 1
          },
          "autotypenumbers": "strict",
          "coloraxis": {
           "colorbar": {
            "outlinewidth": 0,
            "ticks": ""
           }
          },
          "colorscale": {
           "diverging": [
            [
             0,
             "#8e0152"
            ],
            [
             0.1,
             "#c51b7d"
            ],
            [
             0.2,
             "#de77ae"
            ],
            [
             0.3,
             "#f1b6da"
            ],
            [
             0.4,
             "#fde0ef"
            ],
            [
             0.5,
             "#f7f7f7"
            ],
            [
             0.6,
             "#e6f5d0"
            ],
            [
             0.7,
             "#b8e186"
            ],
            [
             0.8,
             "#7fbc41"
            ],
            [
             0.9,
             "#4d9221"
            ],
            [
             1,
             "#276419"
            ]
           ],
           "sequential": [
            [
             0,
             "#0d0887"
            ],
            [
             0.1111111111111111,
             "#46039f"
            ],
            [
             0.2222222222222222,
             "#7201a8"
            ],
            [
             0.3333333333333333,
             "#9c179e"
            ],
            [
             0.4444444444444444,
             "#bd3786"
            ],
            [
             0.5555555555555556,
             "#d8576b"
            ],
            [
             0.6666666666666666,
             "#ed7953"
            ],
            [
             0.7777777777777778,
             "#fb9f3a"
            ],
            [
             0.8888888888888888,
             "#fdca26"
            ],
            [
             1,
             "#f0f921"
            ]
           ],
           "sequentialminus": [
            [
             0,
             "#0d0887"
            ],
            [
             0.1111111111111111,
             "#46039f"
            ],
            [
             0.2222222222222222,
             "#7201a8"
            ],
            [
             0.3333333333333333,
             "#9c179e"
            ],
            [
             0.4444444444444444,
             "#bd3786"
            ],
            [
             0.5555555555555556,
             "#d8576b"
            ],
            [
             0.6666666666666666,
             "#ed7953"
            ],
            [
             0.7777777777777778,
             "#fb9f3a"
            ],
            [
             0.8888888888888888,
             "#fdca26"
            ],
            [
             1,
             "#f0f921"
            ]
           ]
          },
          "colorway": [
           "#636efa",
           "#EF553B",
           "#00cc96",
           "#ab63fa",
           "#FFA15A",
           "#19d3f3",
           "#FF6692",
           "#B6E880",
           "#FF97FF",
           "#FECB52"
          ],
          "font": {
           "color": "#2a3f5f"
          },
          "geo": {
           "bgcolor": "white",
           "lakecolor": "white",
           "landcolor": "#E5ECF6",
           "showlakes": true,
           "showland": true,
           "subunitcolor": "white"
          },
          "hoverlabel": {
           "align": "left"
          },
          "hovermode": "closest",
          "mapbox": {
           "style": "light"
          },
          "paper_bgcolor": "white",
          "plot_bgcolor": "#E5ECF6",
          "polar": {
           "angularaxis": {
            "gridcolor": "white",
            "linecolor": "white",
            "ticks": ""
           },
           "bgcolor": "#E5ECF6",
           "radialaxis": {
            "gridcolor": "white",
            "linecolor": "white",
            "ticks": ""
           }
          },
          "scene": {
           "xaxis": {
            "backgroundcolor": "#E5ECF6",
            "gridcolor": "white",
            "gridwidth": 2,
            "linecolor": "white",
            "showbackground": true,
            "ticks": "",
            "zerolinecolor": "white"
           },
           "yaxis": {
            "backgroundcolor": "#E5ECF6",
            "gridcolor": "white",
            "gridwidth": 2,
            "linecolor": "white",
            "showbackground": true,
            "ticks": "",
            "zerolinecolor": "white"
           },
           "zaxis": {
            "backgroundcolor": "#E5ECF6",
            "gridcolor": "white",
            "gridwidth": 2,
            "linecolor": "white",
            "showbackground": true,
            "ticks": "",
            "zerolinecolor": "white"
           }
          },
          "shapedefaults": {
           "line": {
            "color": "#2a3f5f"
           }
          },
          "ternary": {
           "aaxis": {
            "gridcolor": "white",
            "linecolor": "white",
            "ticks": ""
           },
           "baxis": {
            "gridcolor": "white",
            "linecolor": "white",
            "ticks": ""
           },
           "bgcolor": "#E5ECF6",
           "caxis": {
            "gridcolor": "white",
            "linecolor": "white",
            "ticks": ""
           }
          },
          "title": {
           "x": 0.05
          },
          "xaxis": {
           "automargin": true,
           "gridcolor": "white",
           "linecolor": "white",
           "ticks": "",
           "title": {
            "standoff": 15
           },
           "zerolinecolor": "white",
           "zerolinewidth": 2
          },
          "yaxis": {
           "automargin": true,
           "gridcolor": "white",
           "linecolor": "white",
           "ticks": "",
           "title": {
            "standoff": 15
           },
           "zerolinecolor": "white",
           "zerolinewidth": 2
          }
         }
        },
        "xaxis": {
         "autorange": true,
         "range": [
          -0.05555555555555536,
          21.055555555555557
         ],
         "title": {
          "text": "Jobs"
         },
         "type": "linear"
        },
        "yaxis": {
         "autorange": true,
         "domain": [
          0,
          1
         ],
         "range": [
          29.014955357269194,
          268.822194411594
         ],
         "title": {
          "text": "PHY-Jobs-Capacity (CPUs/ODC)"
         },
         "type": "linear"
        }
       }
      },
      "image/png": "[encoded data removed]",
      "text/html": [
       "<div>                            <div id=\"7307a853-9936-4150-b9d1-135b7a078546\" class=\"plotly-graph-div\" style=\"height:525px; width:100%;\"></div>            <script type=\"text/javascript\">                require([\"plotly\"], function(Plotly) {                    window.PLOTLYENV=window.PLOTLYENV || {};                                    if (document.getElementById(\"7307a853-9936-4150-b9d1-135b7a078546\")) {                    Plotly.newPlot(                        \"7307a853-9936-4150-b9d1-135b7a078546\",                        [{\"error_y\":{\"array\":[2.9946826900145638,2.0886690688305265,1.6976901727893505,1.4669339748181969,1.3102972382979914,1.195058814852743,1.1057008553665852,1.0337919451904511,0.9743046694674788,0.9240307331237929,0.8808136896428778,0.8431434159890472,0.8099266395803468,0.7803497811312639,0.7537932066738904,0.7297755655383042,0.7079164853158844,0.6879108729316101,0.6695107824870803,0.6525123503717865],\"type\":\"data\",\"visible\":true},\"line\":{\"dash\":\"solid\"},\"marker\":{\"symbol\":[0,1]},\"name\":\"teste: wcpu 0, wodc 0, wd 1, odcs 0\",\"x\":[1.0,2.0,3.0,4.0,5.0,6.0,7.0,8.0,9.0,10.0,11.0,12.0,13.0,14.0,15.0,16.0,17.0,18.0,19.0,20.0],\"y\":[44.0,44.0,44.0,44.0,44.0,44.0,44.0,44.0,44.0,44.0,44.0,44.0,44.0,44.0,44.0,44.0,44.0,44.0,44.0,44.0],\"type\":\"scatter\"},{\"error_y\":{\"array\":[20.904792514421047,14.37066373157927,11.626315422975964,10.02295199247581,8.940461265418577,8.146751131567754,7.532715477013454,7.039415207104554,6.631851399522844,6.287758320032836,5.992206295445385,5.734760622543604,5.507879008801623,5.305956198022258,5.124727975671462,4.96088499201727,4.811814347461677,4.675421814708699,4.550006553981987,4.434170934918683],\"type\":\"data\",\"visible\":true},\"line\":{\"dash\":\"dot\"},\"marker\":{\"symbol\":[0,2]},\"name\":\"teste: wcpu 0, wodc 0, wd 1, odcs 45\",\"x\":[1.0,2.0,3.0,4.0,5.0,6.0,7.0,8.0,9.0,10.0,11.0,12.0,13.0,14.0,15.0,16.0,17.0,18.0,19.0,20.0],\"y\":[88.0,88.0,88.0,88.0,88.0,88.0,88.0,88.0,88.0,88.0,88.0,88.0,88.0,88.0,88.0,88.0,88.0,88.0,88.0,88.0],\"type\":\"scatter\"},{\"error_y\":{\"array\":[42.64280716533989,28.870044301659732,23.24498861982599,19.99234613330671,17.80834849592253,16.21243175359993,14.980660939581384,13.992764999845633,13.177619411252891,12.490116051277369,11.900082009683047,11.386469646478417,10.934089791955671,10.53166925226816,10.170641615682513,9.844365171657728,9.547600385325723,9.27615090703975,9.026610880342787,8.796183247259933],\"type\":\"data\",\"visible\":true},\"line\":{\"dash\":\"dash\"},\"marker\":{\"symbol\":[0,3]},\"name\":\"teste: wcpu 0, wodc 0, wd 1, odcs 30\",\"x\":[1.0,2.0,3.0,4.0,5.0,6.0,7.0,8.0,9.0,10.0,11.0,12.0,13.0,14.0,15.0,16.0,17.0,18.0,19.0,20.0],\"y\":[132.0,132.0,132.0,132.0,132.0,132.0,132.0,132.0,132.0,132.0,132.0,132.0,132.0,132.0,132.0,132.0,132.0,132.0,132.0,132.0],\"type\":\"scatter\"},{\"error_y\":{\"array\":[76.83183245887778,51.108931967938815,40.92939516076052,35.11025637510306,31.22652256298329,28.39918577495311,26.222556920417674,24.48012115936632,23.04441379819974,21.834868043846456,20.797734644952016,19.89559921894923,19.101508349963098,18.395486654321445,17.762373721810206,17.190427850709284,16.670394747031338,16.19486862969069,15.757843090977303,15.354388514341366],\"type\":\"data\",\"visible\":true},\"line\":{\"dash\":\"longdash\"},\"marker\":{\"symbol\":[0,4]},\"name\":\"teste: wcpu 0, wodc 0, wd 1, odcs 22\",\"x\":[1.0,2.0,3.0,4.0,5.0,6.0,7.0,8.0,9.0,10.0,11.0,12.0,13.0,14.0,15.0,16.0,17.0,18.0,19.0,20.0],\"y\":[180.0,180.0,180.0,180.0,180.0,180.0,180.0,180.0,180.0,180.0,180.0,180.0,180.0,180.0,180.0,180.0,180.0,180.0,180.0,180.0],\"type\":\"scatter\"},{\"error_y\":{\"array\":[2.9946826900145638,2.0886690688305265,1.6976901727893505,1.4669339748181969,1.3102972382979914,1.195058814852743,1.1057008553665852,1.0337919451904511,0.9743046694674788,0.9240307331237929,0.8808136896428778,0.8431434159890472,0.8099266395803468,0.7803497811312639,0.7537932066738904,0.7297755655383042,0.7079164853158844,0.6879108729316101,0.6695107824870803,0.6525123503717865],\"type\":\"data\",\"visible\":true},\"line\":{\"dash\":\"dashdot\"},\"marker\":{\"symbol\":[0,5]},\"name\":\"teste: wcpu 0, wodc 0, wd 0.5, odcs 0\",\"x\":[1.0,2.0,3.0,4.0,5.0,6.0,7.0,8.0,9.0,10.0,11.0,12.0,13.0,14.0,15.0,16.0,17.0,18.0,19.0,20.0],\"y\":[44.0,44.0,44.0,44.0,44.0,44.0,44.0,44.0,44.0,44.0,44.0,44.0,44.0,44.0,44.0,44.0,44.0,44.0,44.0,44.0],\"type\":\"scatter\"},{\"error_y\":{\"array\":[20.904792514421047,14.37066373157927,11.626315422975964,10.02295199247581,8.940461265418577,8.146751131567754,7.532715477013454,7.039415207104554,6.631851399522844,6.287758320032836,5.992206295445385,5.734760622543604,5.507879008801623,5.305956198022258,5.124727975671462,4.96088499201727,4.811814347461677,4.675421814708699,4.550006553981987,4.434170934918683],\"type\":\"data\",\"visible\":true},\"line\":{\"dash\":\"longdashdot\"},\"marker\":{\"symbol\":[0,1]},\"name\":\"teste: wcpu 0, wodc 0, wd 0.5, odcs 45\",\"x\":[1.0,2.0,3.0,4.0,5.0,6.0,7.0,8.0,9.0,10.0,11.0,12.0,13.0,14.0,15.0,16.0,17.0,18.0,19.0,20.0],\"y\":[88.0,88.0,88.0,88.0,88.0,88.0,88.0,88.0,88.0,88.0,88.0,88.0,88.0,88.0,88.0,88.0,88.0,88.0,88.0,88.0],\"type\":\"scatter\"},{\"error_y\":{\"array\":[42.64280716533989,28.870044301659732,23.24498861982599,19.99234613330671,17.80834849592253,16.21243175359993,14.980660939581384,13.992764999845633,13.177619411252891,12.490116051277369,11.900082009683047,11.386469646478417,10.934089791955671,10.53166925226816,10.170641615682513,9.844365171657728,9.547600385325723,9.27615090703975,9.026610880342787,8.796183247259933],\"type\":\"data\",\"visible\":true},\"line\":{\"dash\":\"solid\"},\"marker\":{\"symbol\":[0,2]},\"name\":\"teste: wcpu 0, wodc 0, wd 0.5, odcs 30\",\"x\":[1.0,2.0,3.0,4.0,5.0,6.0,7.0,8.0,9.0,10.0,11.0,12.0,13.0,14.0,15.0,16.0,17.0,18.0,19.0,20.0],\"y\":[132.0,132.0,132.0,132.0,132.0,132.0,132.0,132.0,132.0,132.0,132.0,132.0,132.0,132.0,132.0,132.0,132.0,132.0,132.0,132.0],\"type\":\"scatter\"},{\"error_y\":{\"array\":[76.83183245887778,51.108931967938815,40.92939516076052,35.11025637510306,31.22652256298329,28.39918577495311,26.222556920417674,24.48012115936632,23.04441379819974,21.834868043846456,20.797734644952016,19.89559921894923,19.101508349963098,18.395486654321445,17.762373721810206,17.190427850709284,16.670394747031338,16.19486862969069,15.757843090977303,15.354388514341366],\"type\":\"data\",\"visible\":true},\"line\":{\"dash\":\"dot\"},\"marker\":{\"symbol\":[0,3]},\"name\":\"teste: wcpu 0, wodc 0, wd 0.5, odcs 22\",\"x\":[1.0,2.0,3.0,4.0,5.0,6.0,7.0,8.0,9.0,10.0,11.0,12.0,13.0,14.0,15.0,16.0,17.0,18.0,19.0,20.0],\"y\":[180.0,180.0,180.0,180.0,180.0,180.0,180.0,180.0,180.0,180.0,180.0,180.0,180.0,180.0,180.0,180.0,180.0,180.0,180.0,180.0],\"type\":\"scatter\"}],                        {\"legend\":{\"traceorder\":\"normal\"},\"xaxis\":{\"title\":{\"text\":\"Jobs\"}},\"yaxis\":{\"domain\":[0,1],\"title\":{\"text\":\"PHY-Jobs-Capacity (CPUs\\u002fODC)\"}},\"template\":{\"data\":{\"histogram2dcontour\":[{\"type\":\"histogram2dcontour\",\"colorbar\":{\"outlinewidth\":0,\"ticks\":\"\"},\"colorscale\":[[0.0,\"#0d0887\"],[0.1111111111111111,\"#46039f\"],[0.2222222222222222,\"#7201a8\"],[0.3333333333333333,\"#9c179e\"],[0.4444444444444444,\"#bd3786\"],[0.5555555555555556,\"#d8576b\"],[0.6666666666666666,\"#ed7953\"],[0.7777777777777778,\"#fb9f3a\"],[0.8888888888888888,\"#fdca26\"],[1.0,\"#f0f921\"]]}],\"choropleth\":[{\"type\":\"choropleth\",\"colorbar\":{\"outlinewidth\":0,\"ticks\":\"\"}}],\"histogram2d\":[{\"type\":\"histogram2d\",\"colorbar\":{\"outlinewidth\":0,\"ticks\":\"\"},\"colorscale\":[[0.0,\"#0d0887\"],[0.1111111111111111,\"#46039f\"],[0.2222222222222222,\"#7201a8\"],[0.3333333333333333,\"#9c179e\"],[0.4444444444444444,\"#bd3786\"],[0.5555555555555556,\"#d8576b\"],[0.6666666666666666,\"#ed7953\"],[0.7777777777777778,\"#fb9f3a\"],[0.8888888888888888,\"#fdca26\"],[1.0,\"#f0f921\"]]}],\"heatmap\":[{\"type\":\"heatmap\",\"colorbar\":{\"outlinewidth\":0,\"ticks\":\"\"},\"colorscale\":[[0.0,\"#0d0887\"],[0.1111111111111111,\"#46039f\"],[0.2222222222222222,\"#7201a8\"],[0.3333333333333333,\"#9c179e\"],[0.4444444444444444,\"#bd3786\"],[0.5555555555555556,\"#d8576b\"],[0.6666666666666666,\"#ed7953\"],[0.7777777777777778,\"#fb9f3a\"],[0.8888888888888888,\"#fdca26\"],[1.0,\"#f0f921\"]]}],\"heatmapgl\":[{\"type\":\"heatmapgl\",\"colorbar\":{\"outlinewidth\":0,\"ticks\":\"\"},\"colorscale\":[[0.0,\"#0d0887\"],[0.1111111111111111,\"#46039f\"],[0.2222222222222222,\"#7201a8\"],[0.3333333333333333,\"#9c179e\"],[0.4444444444444444,\"#bd3786\"],[0.5555555555555556,\"#d8576b\"],[0.6666666666666666,\"#ed7953\"],[0.7777777777777778,\"#fb9f3a\"],[0.8888888888888888,\"#fdca26\"],[1.0,\"#f0f921\"]]}],\"contourcarpet\":[{\"type\":\"contourcarpet\",\"colorbar\":{\"outlinewidth\":0,\"ticks\":\"\"}}],\"contour\":[{\"type\":\"contour\",\"colorbar\":{\"outlinewidth\":0,\"ticks\":\"\"},\"colorscale\":[[0.0,\"#0d0887\"],[0.1111111111111111,\"#46039f\"],[0.2222222222222222,\"#7201a8\"],[0.3333333333333333,\"#9c179e\"],[0.4444444444444444,\"#bd3786\"],[0.5555555555555556,\"#d8576b\"],[0.6666666666666666,\"#ed7953\"],[0.7777777777777778,\"#fb9f3a\"],[0.8888888888888888,\"#fdca26\"],[1.0,\"#f0f921\"]]}],\"surface\":[{\"type\":\"surface\",\"colorbar\":{\"outlinewidth\":0,\"ticks\":\"\"},\"colorscale\":[[0.0,\"#0d0887\"],[0.1111111111111111,\"#46039f\"],[0.2222222222222222,\"#7201a8\"],[0.3333333333333333,\"#9c179e\"],[0.4444444444444444,\"#bd3786\"],[0.5555555555555556,\"#d8576b\"],[0.6666666666666666,\"#ed7953\"],[0.7777777777777778,\"#fb9f3a\"],[0.8888888888888888,\"#fdca26\"],[1.0,\"#f0f921\"]]}],\"mesh3d\":[{\"type\":\"mesh3d\",\"colorbar\":{\"outlinewidth\":0,\"ticks\":\"\"}}],\"scatter\":[{\"fillpattern\":{\"fillmode\":\"overlay\",\"size\":10,\"solidity\":0.2},\"type\":\"scatter\"}],\"parcoords\":[{\"type\":\"parcoords\",\"line\":{\"colorbar\":{\"outlinewidth\":0,\"ticks\":\"\"}}}],\"scatterpolargl\":[{\"type\":\"scatterpolargl\",\"marker\":{\"colorbar\":{\"outlinewidth\":0,\"ticks\":\"\"}}}],\"bar\":[{\"error_x\":{\"color\":\"#2a3f5f\"},\"error_y\":{\"color\":\"#2a3f5f\"},\"marker\":{\"line\":{\"color\":\"#E5ECF6\",\"width\":0.5},\"pattern\":{\"fillmode\":\"overlay\",\"size\":10,\"solidity\":0.2}},\"type\":\"bar\"}],\"scattergeo\":[{\"type\":\"scattergeo\",\"marker\":{\"colorbar\":{\"outlinewidth\":0,\"ticks\":\"\"}}}],\"scatterpolar\":[{\"type\":\"scatterpolar\",\"marker\":{\"colorbar\":{\"outlinewidth\":0,\"ticks\":\"\"}}}],\"histogram\":[{\"marker\":{\"pattern\":{\"fillmode\":\"overlay\",\"size\":10,\"solidity\":0.2}},\"type\":\"histogram\"}],\"scattergl\":[{\"type\":\"scattergl\",\"marker\":{\"colorbar\":{\"outlinewidth\":0,\"ticks\":\"\"}}}],\"scatter3d\":[{\"type\":\"scatter3d\",\"line\":{\"colorbar\":{\"outlinewidth\":0,\"ticks\":\"\"}},\"marker\":{\"colorbar\":{\"outlinewidth\":0,\"ticks\":\"\"}}}],\"scattermapbox\":[{\"type\":\"scattermapbox\",\"marker\":{\"colorbar\":{\"outlinewidth\":0,\"ticks\":\"\"}}}],\"scatterternary\":[{\"type\":\"scatterternary\",\"marker\":{\"colorbar\":{\"outlinewidth\":0,\"ticks\":\"\"}}}],\"scattercarpet\":[{\"type\":\"scattercarpet\",\"marker\":{\"colorbar\":{\"outlinewidth\":0,\"ticks\":\"\"}}}],\"carpet\":[{\"aaxis\":{\"endlinecolor\":\"#2a3f5f\",\"gridcolor\":\"white\",\"linecolor\":\"white\",\"minorgridcolor\":\"white\",\"startlinecolor\":\"#2a3f5f\"},\"baxis\":{\"endlinecolor\":\"#2a3f5f\",\"gridcolor\":\"white\",\"linecolor\":\"white\",\"minorgridcolor\":\"white\",\"startlinecolor\":\"#2a3f5f\"},\"type\":\"carpet\"}],\"table\":[{\"cells\":{\"fill\":{\"color\":\"#EBF0F8\"},\"line\":{\"color\":\"white\"}},\"header\":{\"fill\":{\"color\":\"#C8D4E3\"},\"line\":{\"color\":\"white\"}},\"type\":\"table\"}],\"barpolar\":[{\"marker\":{\"line\":{\"color\":\"#E5ECF6\",\"width\":0.5},\"pattern\":{\"fillmode\":\"overlay\",\"size\":10,\"solidity\":0.2}},\"type\":\"barpolar\"}],\"pie\":[{\"automargin\":true,\"type\":\"pie\"}]},\"layout\":{\"autotypenumbers\":\"strict\",\"colorway\":[\"#636efa\",\"#EF553B\",\"#00cc96\",\"#ab63fa\",\"#FFA15A\",\"#19d3f3\",\"#FF6692\",\"#B6E880\",\"#FF97FF\",\"#FECB52\"],\"font\":{\"color\":\"#2a3f5f\"},\"hovermode\":\"closest\",\"hoverlabel\":{\"align\":\"left\"},\"paper_bgcolor\":\"white\",\"plot_bgcolor\":\"#E5ECF6\",\"polar\":{\"bgcolor\":\"#E5ECF6\",\"angularaxis\":{\"gridcolor\":\"white\",\"linecolor\":\"white\",\"ticks\":\"\"},\"radialaxis\":{\"gridcolor\":\"white\",\"linecolor\":\"white\",\"ticks\":\"\"}},\"ternary\":{\"bgcolor\":\"#E5ECF6\",\"aaxis\":{\"gridcolor\":\"white\",\"linecolor\":\"white\",\"ticks\":\"\"},\"baxis\":{\"gridcolor\":\"white\",\"linecolor\":\"white\",\"ticks\":\"\"},\"caxis\":{\"gridcolor\":\"white\",\"linecolor\":\"white\",\"ticks\":\"\"}},\"coloraxis\":{\"colorbar\":{\"outlinewidth\":0,\"ticks\":\"\"}},\"colorscale\":{\"sequential\":[[0.0,\"#0d0887\"],[0.1111111111111111,\"#46039f\"],[0.2222222222222222,\"#7201a8\"],[0.3333333333333333,\"#9c179e\"],[0.4444444444444444,\"#bd3786\"],[0.5555555555555556,\"#d8576b\"],[0.6666666666666666,\"#ed7953\"],[0.7777777777777778,\"#fb9f3a\"],[0.8888888888888888,\"#fdca26\"],[1.0,\"#f0f921\"]],\"sequentialminus\":[[0.0,\"#0d0887\"],[0.1111111111111111,\"#46039f\"],[0.2222222222222222,\"#7201a8\"],[0.3333333333333333,\"#9c179e\"],[0.4444444444444444,\"#bd3786\"],[0.5555555555555556,\"#d8576b\"],[0.6666666666666666,\"#ed7953\"],[0.7777777777777778,\"#fb9f3a\"],[0.8888888888888888,\"#fdca26\"],[1.0,\"#f0f921\"]],\"diverging\":[[0,\"#8e0152\"],[0.1,\"#c51b7d\"],[0.2,\"#de77ae\"],[0.3,\"#f1b6da\"],[0.4,\"#fde0ef\"],[0.5,\"#f7f7f7\"],[0.6,\"#e6f5d0\"],[0.7,\"#b8e186\"],[0.8,\"#7fbc41\"],[0.9,\"#4d9221\"],[1,\"#276419\"]]},\"xaxis\":{\"gridcolor\":\"white\",\"linecolor\":\"white\",\"ticks\":\"\",\"title\":{\"standoff\":15},\"zerolinecolor\":\"white\",\"automargin\":true,\"zerolinewidth\":2},\"yaxis\":{\"gridcolor\":\"white\",\"linecolor\":\"white\",\"ticks\":\"\",\"title\":{\"standoff\":15},\"zerolinecolor\":\"white\",\"automargin\":true,\"zerolinewidth\":2},\"scene\":{\"xaxis\":{\"backgroundcolor\":\"#E5ECF6\",\"gridcolor\":\"white\",\"linecolor\":\"white\",\"showbackground\":true,\"ticks\":\"\",\"zerolinecolor\":\"white\",\"gridwidth\":2},\"yaxis\":{\"backgroundcolor\":\"#E5ECF6\",\"gridcolor\":\"white\",\"linecolor\":\"white\",\"showbackground\":true,\"ticks\":\"\",\"zerolinecolor\":\"white\",\"gridwidth\":2},\"zaxis\":{\"backgroundcolor\":\"#E5ECF6\",\"gridcolor\":\"white\",\"linecolor\":\"white\",\"showbackground\":true,\"ticks\":\"\",\"zerolinecolor\":\"white\",\"gridwidth\":2}},\"shapedefaults\":{\"line\":{\"color\":\"#2a3f5f\"}},\"annotationdefaults\":{\"arrowcolor\":\"#2a3f5f\",\"arrowhead\":0,\"arrowwidth\":1},\"geo\":{\"bgcolor\":\"white\",\"landcolor\":\"#E5ECF6\",\"subunitcolor\":\"white\",\"showland\":true,\"showlakes\":true,\"lakecolor\":\"white\"},\"title\":{\"x\":0.05},\"mapbox\":{\"style\":\"light\"}}}},                        {\"responsive\": true}                    ).then(function(){\n",
       "                            \n",
       "var gd = document.getElementById('7307a853-9936-4150-b9d1-135b7a078546');\n",
       "var x = new MutationObserver(function (mutations, observer) {{\n",
       "        var display = window.getComputedStyle(gd).display;\n",
       "        if (!display || display === 'none') {{\n",
       "            console.log([gd, 'removed!']);\n",
       "            Plotly.purge(gd);\n",
       "            observer.disconnect();\n",
       "        }}\n",
       "}});\n",
       "\n",
       "// Listen for the removal of the full notebook cells\n",
       "var notebookContainer = gd.closest('#notebook-container');\n",
       "if (notebookContainer) {{\n",
       "    x.observe(notebookContainer, {childList: true});\n",
       "}}\n",
       "\n",
       "// Listen for the clearing of the current output cell\n",
       "var outputEl = gd.closest('.output');\n",
       "if (outputEl) {{\n",
       "    x.observe(outputEl, {childList: true});\n",
       "}}\n",
       "\n",
       "                        })                };                });            </script>        </div>"
      ]
     },
     "metadata": {},
     "output_type": "display_data"
    },
    {
     "name": "stdout",
     "output_type": "stream",
     "text": [
      "3 1 3\n"
     ]
    },
    {
     "name": "stderr",
     "output_type": "stream",
     "text": [
      "No artists with labels found to put in legend.  Note that artists whose label start with an underscore are ignored when legend() is called with no argument.\n",
      "The PostScript backend does not support transparency; partially transparent artists will be rendered opaque.\n"
     ]
    },
    {
     "data": {
      "image/png": "[encoded data removed]",
      "text/plain": [
       "<Figure size 2000x1000 with 1 Axes>"
      ]
     },
     "metadata": {},
     "output_type": "display_data"
    },
    {
     "data": {
      "application/vnd.plotly.v1+json": {
       "config": {
        "plotlyServerURL": "https://plot.ly"
       },
       "data": [
        {
         "error_y": {
          "array": [
           null,
           null,
           null,
           null,
           null,
           null,
           null,
           null,
           null,
           null,
           null,
           null,
           null,
           null,
           null,
           null,
           null,
           null,
           null,
           null
          ],
          "type": "data",
          "visible": true
         },
         "line": {
          "dash": "solid"
         },
         "marker": {
          "symbol": [
           0,
           1
          ]
         },
         "name": "teste: wcpu 0, wodc 0, wd 1, odcs 0",
         "type": "scatter",
         "x": [
          1,
          2,
          3,
          4,
          5,
          6,
          7,
          8,
          9,
          10,
          11,
          12,
          13,
          14,
          15,
          16,
          17,
          18,
          19,
          20
         ],
         "y": [
          0,
          0,
          0,
          0,
          0,
          0,
          0,
          0,
          0,
          0,
          0,
          0,
          0,
          0,
          0,
          0,
          0,
          0,
          0,
          0
         ]
        },
        {
         "error_y": {
          "array": [
           0.8458162945328285,
           0.5814428217374878,
           0.4704053878242356,
           0.4055326599729763,
           0.3617346507368604,
           0.3296208201937565,
           0.30477669118899,
           0.28481756429985383,
           0.26832736908377375,
           0.25440522499801665,
           0.24244707147385314,
           0.23203071623152827,
           0.2228509950886144,
           0.21468111712990035,
           0.20734855052404755,
           0.20071939765281055,
           0.1946879395498584,
           0.18916944293835214,
           0.18409509115836897,
           0.17940833552453728
          ],
          "type": "data",
          "visible": true
         },
         "line": {
          "dash": "dot"
         },
         "marker": {
          "symbol": [
           0,
           2
          ]
         },
         "name": "teste: wcpu 0, wodc 0, wd 1, odcs 45",
         "type": "scatter",
         "x": [
          1,
          2,
          3,
          4,
          5,
          6,
          7,
          8,
          9,
          10,
          11,
          12,
          13,
          14,
          15,
          16,
          17,
          18,
          19,
          20
         ],
         "y": [
          1.8682884973203793,
          1.8682884973203793,
          1.8682884973203795,
          1.8682884973203797,
          1.8682884973203795,
          1.8682884973203795,
          1.8682884973203793,
          1.8682884973203797,
          1.8682884973203795,
          1.8682884973203795,
          1.8682884973203795,
          1.8682884973203793,
          1.8682884973203793,
          1.8682884973203795,
          1.8682884973203795,
          1.8682884973203797,
          1.8682884973203793,
          1.8682884973203795,
          1.8682884973203793,
          1.8682884973203795
         ]
        },
        {
         "error_y": {
          "array": [
           2.04106492606165,
           1.3818423024893747,
           1.1126033704739777,
           0.9569181579477126,
           0.8523828031578073,
           0.7759954847751462,
           0.71703772911681,
           0.6697528553659966,
           0.6307365433286689,
           0.5978297276691187,
           0.5695882054163466,
           0.5450045475895076,
           0.5233517363488414,
           0.5040901890051535,
           0.48680988089793154,
           0.47119291169801514,
           0.4569884951284422,
           0.4439957761646314,
           0.4320517361260663,
           0.42102249599988806
          ],
          "type": "data",
          "visible": true
         },
         "line": {
          "dash": "dash"
         },
         "marker": {
          "symbol": [
           0,
           3
          ]
         },
         "name": "teste: wcpu 0, wodc 0, wd 1, odcs 30",
         "type": "scatter",
         "x": [
          1,
          2,
          3,
          4,
          5,
          6,
          7,
          8,
          9,
          10,
          11,
          12,
          13,
          14,
          15,
          16,
          17,
          18,
          19,
          20
         ],
         "y": [
          4.624438976790122,
          4.624438976790122,
          4.624438976790123,
          4.624438976790122,
          4.624438976790123,
          4.624438976790122,
          4.624438976790123,
          4.624438976790122,
          4.624438976790123,
          4.624438976790122,
          4.624438976790123,
          4.624438976790122,
          4.624438976790122,
          4.624438976790123,
          4.624438976790124,
          4.624438976790122,
          4.624438976790123,
          4.624438976790124,
          4.624438976790123,
          4.624438976790122
         ]
        },
        {
         "error_y": {
          "array": [
           4.410943021627414,
           2.9341820908341614,
           2.3497712365563483,
           2.015692394531916,
           1.792725845275175,
           1.6304074275590903,
           1.5054463853800613,
           1.4054125242202726,
           1.3229880503639944,
           1.2535475953630097,
           1.1940053954447851,
           1.1422134775047859,
           1.096624436283271,
           1.0560914778486925,
           1.0197442376204044,
           0.9869086202969264,
           0.9570533335456801,
           0.9297532088218823,
           0.904663416107482,
           0.8815009443506305
          ],
          "type": "data",
          "visible": true
         },
         "line": {
          "dash": "longdash"
         },
         "marker": {
          "symbol": [
           0,
           4
          ]
         },
         "name": "teste: wcpu 0, wodc 0, wd 1, odcs 22",
         "type": "scatter",
         "x": [
          1,
          2,
          3,
          4,
          5,
          6,
          7,
          8,
          9,
          10,
          11,
          12,
          13,
          14,
          15,
          16,
          17,
          18,
          19,
          20
         ],
         "y": [
          8.366469785085997,
          8.366469785085997,
          8.366469785085997,
          8.366469785085997,
          8.366469785085997,
          8.366469785085997,
          8.366469785085997,
          8.366469785085997,
          8.366469785085998,
          8.366469785085997,
          8.366469785085995,
          8.366469785085997,
          8.366469785085997,
          8.366469785085995,
          8.366469785085997,
          8.366469785085997,
          8.366469785085997,
          8.366469785085997,
          8.366469785085997,
          8.366469785085997
         ]
        },
        {
         "error_y": {
          "array": [
           null,
           null,
           null,
           null,
           null,
           null,
           null,
           null,
           null,
           null,
           null,
           null,
           null,
           null,
           null,
           null,
           null,
           null,
           null,
           null
          ],
          "type": "data",
          "visible": true
         },
         "line": {
          "dash": "dashdot"
         },
         "marker": {
          "symbol": [
           0,
           5
          ]
         },
         "name": "teste: wcpu 0, wodc 0, wd 0.5, odcs 0",
         "type": "scatter",
         "x": [
          1,
          2,
          3,
          4,
          5,
          6,
          7,
          8,
          9,
          10,
          11,
          12,
          13,
          14,
          15,
          16,
          17,
          18,
          19,
          20
         ],
         "y": [
          0,
          0,
          0,
          0,
          0,
          0,
          0,
          0,
          0,
          0,
          0,
          0,
          0,
          0,
          0,
          0,
          0,
          0,
          0,
          0
         ]
        },
        {
         "error_y": {
          "array": [
           0.8458162945328285,
           0.5814428217374878,
           0.4704053878242356,
           0.4055326599729763,
           0.3617346507368604,
           0.3296208201937565,
           0.30477669118899,
           0.28481756429985383,
           0.26832736908377375,
           0.25440522499801665,
           0.24244707147385314,
           0.23203071623152827,
           0.2228509950886144,
           0.21468111712990035,
           0.20734855052404755,
           0.20071939765281055,
           0.1946879395498584,
           0.18916944293835214,
           0.18409509115836897,
           0.17940833552453728
          ],
          "type": "data",
          "visible": true
         },
         "line": {
          "dash": "longdashdot"
         },
         "marker": {
          "symbol": [
           0,
           1
          ]
         },
         "name": "teste: wcpu 0, wodc 0, wd 0.5, odcs 45",
         "type": "scatter",
         "x": [
          1,
          2,
          3,
          4,
          5,
          6,
          7,
          8,
          9,
          10,
          11,
          12,
          13,
          14,
          15,
          16,
          17,
          18,
          19,
          20
         ],
         "y": [
          1.8682884973203793,
          1.8682884973203793,
          1.8682884973203795,
          1.8682884973203797,
          1.8682884973203795,
          1.8682884973203795,
          1.8682884973203793,
          1.8682884973203797,
          1.8682884973203795,
          1.8682884973203795,
          1.8682884973203795,
          1.8682884973203793,
          1.8682884973203793,
          1.8682884973203795,
          1.8682884973203795,
          1.8682884973203797,
          1.8682884973203793,
          1.8682884973203795,
          1.8682884973203793,
          1.8682884973203795
         ]
        },
        {
         "error_y": {
          "array": [
           2.04106492606165,
           1.3818423024893747,
           1.1126033704739777,
           0.9569181579477126,
           0.8523828031578073,
           0.7759954847751462,
           0.71703772911681,
           0.6697528553659966,
           0.6307365433286689,
           0.5978297276691187,
           0.5695882054163466,
           0.5450045475895076,
           0.5233517363488414,
           0.5040901890051535,
           0.48680988089793154,
           0.47119291169801514,
           0.4569884951284422,
           0.4439957761646314,
           0.4320517361260663,
           0.42102249599988806
          ],
          "type": "data",
          "visible": true
         },
         "line": {
          "dash": "solid"
         },
         "marker": {
          "symbol": [
           0,
           2
          ]
         },
         "name": "teste: wcpu 0, wodc 0, wd 0.5, odcs 30",
         "type": "scatter",
         "x": [
          1,
          2,
          3,
          4,
          5,
          6,
          7,
          8,
          9,
          10,
          11,
          12,
          13,
          14,
          15,
          16,
          17,
          18,
          19,
          20
         ],
         "y": [
          4.624438976790122,
          4.624438976790122,
          4.624438976790123,
          4.624438976790122,
          4.624438976790123,
          4.624438976790122,
          4.624438976790123,
          4.624438976790122,
          4.624438976790123,
          4.624438976790122,
          4.624438976790123,
          4.624438976790122,
          4.624438976790122,
          4.624438976790123,
          4.624438976790124,
          4.624438976790122,
          4.624438976790123,
          4.624438976790124,
          4.624438976790123,
          4.624438976790122
         ]
        },
        {
         "error_y": {
          "array": [
           4.410943021627414,
           2.9341820908341614,
           2.3497712365563483,
           2.015692394531916,
           1.792725845275175,
           1.6304074275590903,
           1.5054463853800613,
           1.4054125242202726,
           1.3229880503639944,
           1.2535475953630097,
           1.1940053954447851,
           1.1422134775047859,
           1.096624436283271,
           1.0560914778486925,
           1.0197442376204044,
           0.9869086202969264,
           0.9570533335456801,
           0.9297532088218823,
           0.904663416107482,
           0.8815009443506305
          ],
          "type": "data",
          "visible": true
         },
         "line": {
          "dash": "dot"
         },
         "marker": {
          "symbol": [
           0,
           3
          ]
         },
         "name": "teste: wcpu 0, wodc 0, wd 0.5, odcs 22",
         "type": "scatter",
         "x": [
          1,
          2,
          3,
          4,
          5,
          6,
          7,
          8,
          9,
          10,
          11,
          12,
          13,
          14,
          15,
          16,
          17,
          18,
          19,
          20
         ],
         "y": [
          8.366469785085997,
          8.366469785085997,
          8.366469785085997,
          8.366469785085997,
          8.366469785085997,
          8.366469785085997,
          8.366469785085997,
          8.366469785085997,
          8.366469785085998,
          8.366469785085997,
          8.366469785085995,
          8.366469785085997,
          8.366469785085997,
          8.366469785085995,
          8.366469785085997,
          8.366469785085997,
          8.366469785085997,
          8.366469785085997,
          8.366469785085997,
          8.366469785085997
         ]
        }
       ],
       "layout": {
        "autosize": true,
        "legend": {
         "traceorder": "normal"
        },
        "template": {
         "data": {
          "bar": [
           {
            "error_x": {
             "color": "#2a3f5f"
            },
            "error_y": {
             "color": "#2a3f5f"
            },
            "marker": {
             "line": {
              "color": "#E5ECF6",
              "width": 0.5
             },
             "pattern": {
              "fillmode": "overlay",
              "size": 10,
              "solidity": 0.2
             }
            },
            "type": "bar"
           }
          ],
          "barpolar": [
           {
            "marker": {
             "line": {
              "color": "#E5ECF6",
              "width": 0.5
             },
             "pattern": {
              "fillmode": "overlay",
              "size": 10,
              "solidity": 0.2
             }
            },
            "type": "barpolar"
           }
          ],
          "carpet": [
           {
            "aaxis": {
             "endlinecolor": "#2a3f5f",
             "gridcolor": "white",
             "linecolor": "white",
             "minorgridcolor": "white",
             "startlinecolor": "#2a3f5f"
            },
            "baxis": {
             "endlinecolor": "#2a3f5f",
             "gridcolor": "white",
             "linecolor": "white",
             "minorgridcolor": "white",
             "startlinecolor": "#2a3f5f"
            },
            "type": "carpet"
           }
          ],
          "choropleth": [
           {
            "colorbar": {
             "outlinewidth": 0,
             "ticks": ""
            },
            "type": "choropleth"
           }
          ],
          "contour": [
           {
            "colorbar": {
             "outlinewidth": 0,
             "ticks": ""
            },
            "colorscale": [
             [
              0,
              "#0d0887"
             ],
             [
              0.1111111111111111,
              "#46039f"
             ],
             [
              0.2222222222222222,
              "#7201a8"
             ],
             [
              0.3333333333333333,
              "#9c179e"
             ],
             [
              0.4444444444444444,
              "#bd3786"
             ],
             [
              0.5555555555555556,
              "#d8576b"
             ],
             [
              0.6666666666666666,
              "#ed7953"
             ],
             [
              0.7777777777777778,
              "#fb9f3a"
             ],
             [
              0.8888888888888888,
              "#fdca26"
             ],
             [
              1,
              "#f0f921"
             ]
            ],
            "type": "contour"
           }
          ],
          "contourcarpet": [
           {
            "colorbar": {
             "outlinewidth": 0,
             "ticks": ""
            },
            "type": "contourcarpet"
           }
          ],
          "heatmap": [
           {
            "colorbar": {
             "outlinewidth": 0,
             "ticks": ""
            },
            "colorscale": [
             [
              0,
              "#0d0887"
             ],
             [
              0.1111111111111111,
              "#46039f"
             ],
             [
              0.2222222222222222,
              "#7201a8"
             ],
             [
              0.3333333333333333,
              "#9c179e"
             ],
             [
              0.4444444444444444,
              "#bd3786"
             ],
             [
              0.5555555555555556,
              "#d8576b"
             ],
             [
              0.6666666666666666,
              "#ed7953"
             ],
             [
              0.7777777777777778,
              "#fb9f3a"
             ],
             [
              0.8888888888888888,
              "#fdca26"
             ],
             [
              1,
              "#f0f921"
             ]
            ],
            "type": "heatmap"
           }
          ],
          "heatmapgl": [
           {
            "colorbar": {
             "outlinewidth": 0,
             "ticks": ""
            },
            "colorscale": [
             [
              0,
              "#0d0887"
             ],
             [
              0.1111111111111111,
              "#46039f"
             ],
             [
              0.2222222222222222,
              "#7201a8"
             ],
             [
              0.3333333333333333,
              "#9c179e"
             ],
             [
              0.4444444444444444,
              "#bd3786"
             ],
             [
              0.5555555555555556,
              "#d8576b"
             ],
             [
              0.6666666666666666,
              "#ed7953"
             ],
             [
              0.7777777777777778,
              "#fb9f3a"
             ],
             [
              0.8888888888888888,
              "#fdca26"
             ],
             [
              1,
              "#f0f921"
             ]
            ],
            "type": "heatmapgl"
           }
          ],
          "histogram": [
           {
            "marker": {
             "pattern": {
              "fillmode": "overlay",
              "size": 10,
              "solidity": 0.2
             }
            },
            "type": "histogram"
           }
          ],
          "histogram2d": [
           {
            "colorbar": {
             "outlinewidth": 0,
             "ticks": ""
            },
            "colorscale": [
             [
              0,
              "#0d0887"
             ],
             [
              0.1111111111111111,
              "#46039f"
             ],
             [
              0.2222222222222222,
              "#7201a8"
             ],
             [
              0.3333333333333333,
              "#9c179e"
             ],
             [
              0.4444444444444444,
              "#bd3786"
             ],
             [
              0.5555555555555556,
              "#d8576b"
             ],
             [
              0.6666666666666666,
              "#ed7953"
             ],
             [
              0.7777777777777778,
              "#fb9f3a"
             ],
             [
              0.8888888888888888,
              "#fdca26"
             ],
             [
              1,
              "#f0f921"
             ]
            ],
            "type": "histogram2d"
           }
          ],
          "histogram2dcontour": [
           {
            "colorbar": {
             "outlinewidth": 0,
             "ticks": ""
            },
            "colorscale": [
             [
              0,
              "#0d0887"
             ],
             [
              0.1111111111111111,
              "#46039f"
             ],
             [
              0.2222222222222222,
              "#7201a8"
             ],
             [
              0.3333333333333333,
              "#9c179e"
             ],
             [
              0.4444444444444444,
              "#bd3786"
             ],
             [
              0.5555555555555556,
              "#d8576b"
             ],
             [
              0.6666666666666666,
              "#ed7953"
             ],
             [
              0.7777777777777778,
              "#fb9f3a"
             ],
             [
              0.8888888888888888,
              "#fdca26"
             ],
             [
              1,
              "#f0f921"
             ]
            ],
            "type": "histogram2dcontour"
           }
          ],
          "mesh3d": [
           {
            "colorbar": {
             "outlinewidth": 0,
             "ticks": ""
            },
            "type": "mesh3d"
           }
          ],
          "parcoords": [
           {
            "line": {
             "colorbar": {
              "outlinewidth": 0,
              "ticks": ""
             }
            },
            "type": "parcoords"
           }
          ],
          "pie": [
           {
            "automargin": true,
            "type": "pie"
           }
          ],
          "scatter": [
           {
            "fillpattern": {
             "fillmode": "overlay",
             "size": 10,
             "solidity": 0.2
            },
            "type": "scatter"
           }
          ],
          "scatter3d": [
           {
            "line": {
             "colorbar": {
              "outlinewidth": 0,
              "ticks": ""
             }
            },
            "marker": {
             "colorbar": {
              "outlinewidth": 0,
              "ticks": ""
             }
            },
            "type": "scatter3d"
           }
          ],
          "scattercarpet": [
           {
            "marker": {
             "colorbar": {
              "outlinewidth": 0,
              "ticks": ""
             }
            },
            "type": "scattercarpet"
           }
          ],
          "scattergeo": [
           {
            "marker": {
             "colorbar": {
              "outlinewidth": 0,
              "ticks": ""
             }
            },
            "type": "scattergeo"
           }
          ],
          "scattergl": [
           {
            "marker": {
             "colorbar": {
              "outlinewidth": 0,
              "ticks": ""
             }
            },
            "type": "scattergl"
           }
          ],
          "scattermapbox": [
           {
            "marker": {
             "colorbar": {
              "outlinewidth": 0,
              "ticks": ""
             }
            },
            "type": "scattermapbox"
           }
          ],
          "scatterpolar": [
           {
            "marker": {
             "colorbar": {
              "outlinewidth": 0,
              "ticks": ""
             }
            },
            "type": "scatterpolar"
           }
          ],
          "scatterpolargl": [
           {
            "marker": {
             "colorbar": {
              "outlinewidth": 0,
              "ticks": ""
             }
            },
            "type": "scatterpolargl"
           }
          ],
          "scatterternary": [
           {
            "marker": {
             "colorbar": {
              "outlinewidth": 0,
              "ticks": ""
             }
            },
            "type": "scatterternary"
           }
          ],
          "surface": [
           {
            "colorbar": {
             "outlinewidth": 0,
             "ticks": ""
            },
            "colorscale": [
             [
              0,
              "#0d0887"
             ],
             [
              0.1111111111111111,
              "#46039f"
             ],
             [
              0.2222222222222222,
              "#7201a8"
             ],
             [
              0.3333333333333333,
              "#9c179e"
             ],
             [
              0.4444444444444444,
              "#bd3786"
             ],
             [
              0.5555555555555556,
              "#d8576b"
             ],
             [
              0.6666666666666666,
              "#ed7953"
             ],
             [
              0.7777777777777778,
              "#fb9f3a"
             ],
             [
              0.8888888888888888,
              "#fdca26"
             ],
             [
              1,
              "#f0f921"
             ]
            ],
            "type": "surface"
           }
          ],
          "table": [
           {
            "cells": {
             "fill": {
              "color": "#EBF0F8"
             },
             "line": {
              "color": "white"
             }
            },
            "header": {
             "fill": {
              "color": "#C8D4E3"
             },
             "line": {
              "color": "white"
             }
            },
            "type": "table"
           }
          ]
         },
         "layout": {
          "annotationdefaults": {
           "arrowcolor": "#2a3f5f",
           "arrowhead": 0,
           "arrowwidth": 1
          },
          "autotypenumbers": "strict",
          "coloraxis": {
           "colorbar": {
            "outlinewidth": 0,
            "ticks": ""
           }
          },
          "colorscale": {
           "diverging": [
            [
             0,
             "#8e0152"
            ],
            [
             0.1,
             "#c51b7d"
            ],
            [
             0.2,
             "#de77ae"
            ],
            [
             0.3,
             "#f1b6da"
            ],
            [
             0.4,
             "#fde0ef"
            ],
            [
             0.5,
             "#f7f7f7"
            ],
            [
             0.6,
             "#e6f5d0"
            ],
            [
             0.7,
             "#b8e186"
            ],
            [
             0.8,
             "#7fbc41"
            ],
            [
             0.9,
             "#4d9221"
            ],
            [
             1,
             "#276419"
            ]
           ],
           "sequential": [
            [
             0,
             "#0d0887"
            ],
            [
             0.1111111111111111,
             "#46039f"
            ],
            [
             0.2222222222222222,
             "#7201a8"
            ],
            [
             0.3333333333333333,
             "#9c179e"
            ],
            [
             0.4444444444444444,
             "#bd3786"
            ],
            [
             0.5555555555555556,
             "#d8576b"
            ],
            [
             0.6666666666666666,
             "#ed7953"
            ],
            [
             0.7777777777777778,
             "#fb9f3a"
            ],
            [
             0.8888888888888888,
             "#fdca26"
            ],
            [
             1,
             "#f0f921"
            ]
           ],
           "sequentialminus": [
            [
             0,
             "#0d0887"
            ],
            [
             0.1111111111111111,
             "#46039f"
            ],
            [
             0.2222222222222222,
             "#7201a8"
            ],
            [
             0.3333333333333333,
             "#9c179e"
            ],
            [
             0.4444444444444444,
             "#bd3786"
            ],
            [
             0.5555555555555556,
             "#d8576b"
            ],
            [
             0.6666666666666666,
             "#ed7953"
            ],
            [
             0.7777777777777778,
             "#fb9f3a"
            ],
            [
             0.8888888888888888,
             "#fdca26"
            ],
            [
             1,
             "#f0f921"
            ]
           ]
          },
          "colorway": [
           "#636efa",
           "#EF553B",
           "#00cc96",
           "#ab63fa",
           "#FFA15A",
           "#19d3f3",
           "#FF6692",
           "#B6E880",
           "#FF97FF",
           "#FECB52"
          ],
          "font": {
           "color": "#2a3f5f"
          },
          "geo": {
           "bgcolor": "white",
           "lakecolor": "white",
           "landcolor": "#E5ECF6",
           "showlakes": true,
           "showland": true,
           "subunitcolor": "white"
          },
          "hoverlabel": {
           "align": "left"
          },
          "hovermode": "closest",
          "mapbox": {
           "style": "light"
          },
          "paper_bgcolor": "white",
          "plot_bgcolor": "#E5ECF6",
          "polar": {
           "angularaxis": {
            "gridcolor": "white",
            "linecolor": "white",
            "ticks": ""
           },
           "bgcolor": "#E5ECF6",
           "radialaxis": {
            "gridcolor": "white",
            "linecolor": "white",
            "ticks": ""
           }
          },
          "scene": {
           "xaxis": {
            "backgroundcolor": "#E5ECF6",
            "gridcolor": "white",
            "gridwidth": 2,
            "linecolor": "white",
            "showbackground": true,
            "ticks": "",
            "zerolinecolor": "white"
           },
           "yaxis": {
            "backgroundcolor": "#E5ECF6",
            "gridcolor": "white",
            "gridwidth": 2,
            "linecolor": "white",
            "showbackground": true,
            "ticks": "",
            "zerolinecolor": "white"
           },
           "zaxis": {
            "backgroundcolor": "#E5ECF6",
            "gridcolor": "white",
            "gridwidth": 2,
            "linecolor": "white",
            "showbackground": true,
            "ticks": "",
            "zerolinecolor": "white"
           }
          },
          "shapedefaults": {
           "line": {
            "color": "#2a3f5f"
           }
          },
          "ternary": {
           "aaxis": {
            "gridcolor": "white",
            "linecolor": "white",
            "ticks": ""
           },
           "baxis": {
            "gridcolor": "white",
            "linecolor": "white",
            "ticks": ""
           },
           "bgcolor": "#E5ECF6",
           "caxis": {
            "gridcolor": "white",
            "linecolor": "white",
            "ticks": ""
           }
          },
          "title": {
           "x": 0.05
          },
          "xaxis": {
           "automargin": true,
           "gridcolor": "white",
           "linecolor": "white",
           "ticks": "",
           "title": {
            "standoff": 15
           },
           "zerolinecolor": "white",
           "zerolinewidth": 2
          },
          "yaxis": {
           "automargin": true,
           "gridcolor": "white",
           "linecolor": "white",
           "ticks": "",
           "title": {
            "standoff": 15
           },
           "zerolinecolor": "white",
           "zerolinewidth": 2
          }
         }
        },
        "xaxis": {
         "autorange": true,
         "range": [
          -0.05555555555555536,
          21.055555555555557
         ],
         "title": {
          "text": "Jobs"
         },
         "type": "linear"
        },
        "yaxis": {
         "autorange": true,
         "domain": [
          0,
          1
         ],
         "range": [
          -0.709856267039634,
          13.487269073753044
         ],
         "title": {
          "text": "PHY-Jobs-Fiberlenght (kms)"
         },
         "type": "linear"
        }
       }
      },
      "image/png": "[encoded data removed]",
      "text/html": [
       "<div>                            <div id=\"63cd3b6c-0cdd-411d-8a76-da37890ebeb0\" class=\"plotly-graph-div\" style=\"height:525px; width:100%;\"></div>            <script type=\"text/javascript\">                require([\"plotly\"], function(Plotly) {                    window.PLOTLYENV=window.PLOTLYENV || {};                                    if (document.getElementById(\"63cd3b6c-0cdd-411d-8a76-da37890ebeb0\")) {                    Plotly.newPlot(                        \"63cd3b6c-0cdd-411d-8a76-da37890ebeb0\",                        [{\"error_y\":{\"array\":[null,null,null,null,null,null,null,null,null,null,null,null,null,null,null,null,null,null,null,null],\"type\":\"data\",\"visible\":true},\"line\":{\"dash\":\"solid\"},\"marker\":{\"symbol\":[0,1]},\"name\":\"teste: wcpu 0, wodc 0, wd 1, odcs 0\",\"x\":[1.0,2.0,3.0,4.0,5.0,6.0,7.0,8.0,9.0,10.0,11.0,12.0,13.0,14.0,15.0,16.0,17.0,18.0,19.0,20.0],\"y\":[0.0,0.0,0.0,0.0,0.0,0.0,0.0,0.0,0.0,0.0,0.0,0.0,0.0,0.0,0.0,0.0,0.0,0.0,0.0,0.0],\"type\":\"scatter\"},{\"error_y\":{\"array\":[0.8458162945328285,0.5814428217374878,0.4704053878242356,0.4055326599729763,0.3617346507368604,0.3296208201937565,0.30477669118899,0.28481756429985383,0.26832736908377375,0.25440522499801665,0.24244707147385314,0.23203071623152827,0.2228509950886144,0.21468111712990035,0.20734855052404755,0.20071939765281055,0.1946879395498584,0.18916944293835214,0.18409509115836897,0.17940833552453728],\"type\":\"data\",\"visible\":true},\"line\":{\"dash\":\"dot\"},\"marker\":{\"symbol\":[0,2]},\"name\":\"teste: wcpu 0, wodc 0, wd 1, odcs 45\",\"x\":[1.0,2.0,3.0,4.0,5.0,6.0,7.0,8.0,9.0,10.0,11.0,12.0,13.0,14.0,15.0,16.0,17.0,18.0,19.0,20.0],\"y\":[1.8682884973203793,1.8682884973203793,1.8682884973203795,1.8682884973203797,1.8682884973203795,1.8682884973203795,1.8682884973203793,1.8682884973203797,1.8682884973203795,1.8682884973203795,1.8682884973203795,1.8682884973203793,1.8682884973203793,1.8682884973203795,1.8682884973203795,1.8682884973203797,1.8682884973203793,1.8682884973203795,1.8682884973203793,1.8682884973203795],\"type\":\"scatter\"},{\"error_y\":{\"array\":[2.04106492606165,1.3818423024893747,1.1126033704739777,0.9569181579477126,0.8523828031578073,0.7759954847751462,0.71703772911681,0.6697528553659966,0.6307365433286689,0.5978297276691187,0.5695882054163466,0.5450045475895076,0.5233517363488414,0.5040901890051535,0.48680988089793154,0.47119291169801514,0.4569884951284422,0.4439957761646314,0.4320517361260663,0.42102249599988806],\"type\":\"data\",\"visible\":true},\"line\":{\"dash\":\"dash\"},\"marker\":{\"symbol\":[0,3]},\"name\":\"teste: wcpu 0, wodc 0, wd 1, odcs 30\",\"x\":[1.0,2.0,3.0,4.0,5.0,6.0,7.0,8.0,9.0,10.0,11.0,12.0,13.0,14.0,15.0,16.0,17.0,18.0,19.0,20.0],\"y\":[4.624438976790122,4.624438976790122,4.624438976790123,4.624438976790122,4.624438976790123,4.624438976790122,4.624438976790123,4.624438976790122,4.624438976790123,4.624438976790122,4.624438976790123,4.624438976790122,4.624438976790122,4.624438976790123,4.624438976790124,4.624438976790122,4.624438976790123,4.624438976790124,4.624438976790123,4.624438976790122],\"type\":\"scatter\"},{\"error_y\":{\"array\":[4.410943021627414,2.9341820908341614,2.3497712365563483,2.015692394531916,1.792725845275175,1.6304074275590903,1.5054463853800613,1.4054125242202726,1.3229880503639944,1.2535475953630097,1.1940053954447851,1.1422134775047859,1.096624436283271,1.0560914778486925,1.0197442376204044,0.9869086202969264,0.9570533335456801,0.9297532088218823,0.904663416107482,0.8815009443506305],\"type\":\"data\",\"visible\":true},\"line\":{\"dash\":\"longdash\"},\"marker\":{\"symbol\":[0,4]},\"name\":\"teste: wcpu 0, wodc 0, wd 1, odcs 22\",\"x\":[1.0,2.0,3.0,4.0,5.0,6.0,7.0,8.0,9.0,10.0,11.0,12.0,13.0,14.0,15.0,16.0,17.0,18.0,19.0,20.0],\"y\":[8.366469785085997,8.366469785085997,8.366469785085997,8.366469785085997,8.366469785085997,8.366469785085997,8.366469785085997,8.366469785085997,8.366469785085998,8.366469785085997,8.366469785085995,8.366469785085997,8.366469785085997,8.366469785085995,8.366469785085997,8.366469785085997,8.366469785085997,8.366469785085997,8.366469785085997,8.366469785085997],\"type\":\"scatter\"},{\"error_y\":{\"array\":[null,null,null,null,null,null,null,null,null,null,null,null,null,null,null,null,null,null,null,null],\"type\":\"data\",\"visible\":true},\"line\":{\"dash\":\"dashdot\"},\"marker\":{\"symbol\":[0,5]},\"name\":\"teste: wcpu 0, wodc 0, wd 0.5, odcs 0\",\"x\":[1.0,2.0,3.0,4.0,5.0,6.0,7.0,8.0,9.0,10.0,11.0,12.0,13.0,14.0,15.0,16.0,17.0,18.0,19.0,20.0],\"y\":[0.0,0.0,0.0,0.0,0.0,0.0,0.0,0.0,0.0,0.0,0.0,0.0,0.0,0.0,0.0,0.0,0.0,0.0,0.0,0.0],\"type\":\"scatter\"},{\"error_y\":{\"array\":[0.8458162945328285,0.5814428217374878,0.4704053878242356,0.4055326599729763,0.3617346507368604,0.3296208201937565,0.30477669118899,0.28481756429985383,0.26832736908377375,0.25440522499801665,0.24244707147385314,0.23203071623152827,0.2228509950886144,0.21468111712990035,0.20734855052404755,0.20071939765281055,0.1946879395498584,0.18916944293835214,0.18409509115836897,0.17940833552453728],\"type\":\"data\",\"visible\":true},\"line\":{\"dash\":\"longdashdot\"},\"marker\":{\"symbol\":[0,1]},\"name\":\"teste: wcpu 0, wodc 0, wd 0.5, odcs 45\",\"x\":[1.0,2.0,3.0,4.0,5.0,6.0,7.0,8.0,9.0,10.0,11.0,12.0,13.0,14.0,15.0,16.0,17.0,18.0,19.0,20.0],\"y\":[1.8682884973203793,1.8682884973203793,1.8682884973203795,1.8682884973203797,1.8682884973203795,1.8682884973203795,1.8682884973203793,1.8682884973203797,1.8682884973203795,1.8682884973203795,1.8682884973203795,1.8682884973203793,1.8682884973203793,1.8682884973203795,1.8682884973203795,1.8682884973203797,1.8682884973203793,1.8682884973203795,1.8682884973203793,1.8682884973203795],\"type\":\"scatter\"},{\"error_y\":{\"array\":[2.04106492606165,1.3818423024893747,1.1126033704739777,0.9569181579477126,0.8523828031578073,0.7759954847751462,0.71703772911681,0.6697528553659966,0.6307365433286689,0.5978297276691187,0.5695882054163466,0.5450045475895076,0.5233517363488414,0.5040901890051535,0.48680988089793154,0.47119291169801514,0.4569884951284422,0.4439957761646314,0.4320517361260663,0.42102249599988806],\"type\":\"data\",\"visible\":true},\"line\":{\"dash\":\"solid\"},\"marker\":{\"symbol\":[0,2]},\"name\":\"teste: wcpu 0, wodc 0, wd 0.5, odcs 30\",\"x\":[1.0,2.0,3.0,4.0,5.0,6.0,7.0,8.0,9.0,10.0,11.0,12.0,13.0,14.0,15.0,16.0,17.0,18.0,19.0,20.0],\"y\":[4.624438976790122,4.624438976790122,4.624438976790123,4.624438976790122,4.624438976790123,4.624438976790122,4.624438976790123,4.624438976790122,4.624438976790123,4.624438976790122,4.624438976790123,4.624438976790122,4.624438976790122,4.624438976790123,4.624438976790124,4.624438976790122,4.624438976790123,4.624438976790124,4.624438976790123,4.624438976790122],\"type\":\"scatter\"},{\"error_y\":{\"array\":[4.410943021627414,2.9341820908341614,2.3497712365563483,2.015692394531916,1.792725845275175,1.6304074275590903,1.5054463853800613,1.4054125242202726,1.3229880503639944,1.2535475953630097,1.1940053954447851,1.1422134775047859,1.096624436283271,1.0560914778486925,1.0197442376204044,0.9869086202969264,0.9570533335456801,0.9297532088218823,0.904663416107482,0.8815009443506305],\"type\":\"data\",\"visible\":true},\"line\":{\"dash\":\"dot\"},\"marker\":{\"symbol\":[0,3]},\"name\":\"teste: wcpu 0, wodc 0, wd 0.5, odcs 22\",\"x\":[1.0,2.0,3.0,4.0,5.0,6.0,7.0,8.0,9.0,10.0,11.0,12.0,13.0,14.0,15.0,16.0,17.0,18.0,19.0,20.0],\"y\":[8.366469785085997,8.366469785085997,8.366469785085997,8.366469785085997,8.366469785085997,8.366469785085997,8.366469785085997,8.366469785085997,8.366469785085998,8.366469785085997,8.366469785085995,8.366469785085997,8.366469785085997,8.366469785085995,8.366469785085997,8.366469785085997,8.366469785085997,8.366469785085997,8.366469785085997,8.366469785085997],\"type\":\"scatter\"}],                        {\"legend\":{\"traceorder\":\"normal\"},\"xaxis\":{\"title\":{\"text\":\"Jobs\"}},\"yaxis\":{\"domain\":[0,1],\"title\":{\"text\":\"PHY-Jobs-Fiberlenght (kms)\"}},\"template\":{\"data\":{\"histogram2dcontour\":[{\"type\":\"histogram2dcontour\",\"colorbar\":{\"outlinewidth\":0,\"ticks\":\"\"},\"colorscale\":[[0.0,\"#0d0887\"],[0.1111111111111111,\"#46039f\"],[0.2222222222222222,\"#7201a8\"],[0.3333333333333333,\"#9c179e\"],[0.4444444444444444,\"#bd3786\"],[0.5555555555555556,\"#d8576b\"],[0.6666666666666666,\"#ed7953\"],[0.7777777777777778,\"#fb9f3a\"],[0.8888888888888888,\"#fdca26\"],[1.0,\"#f0f921\"]]}],\"choropleth\":[{\"type\":\"choropleth\",\"colorbar\":{\"outlinewidth\":0,\"ticks\":\"\"}}],\"histogram2d\":[{\"type\":\"histogram2d\",\"colorbar\":{\"outlinewidth\":0,\"ticks\":\"\"},\"colorscale\":[[0.0,\"#0d0887\"],[0.1111111111111111,\"#46039f\"],[0.2222222222222222,\"#7201a8\"],[0.3333333333333333,\"#9c179e\"],[0.4444444444444444,\"#bd3786\"],[0.5555555555555556,\"#d8576b\"],[0.6666666666666666,\"#ed7953\"],[0.7777777777777778,\"#fb9f3a\"],[0.8888888888888888,\"#fdca26\"],[1.0,\"#f0f921\"]]}],\"heatmap\":[{\"type\":\"heatmap\",\"colorbar\":{\"outlinewidth\":0,\"ticks\":\"\"},\"colorscale\":[[0.0,\"#0d0887\"],[0.1111111111111111,\"#46039f\"],[0.2222222222222222,\"#7201a8\"],[0.3333333333333333,\"#9c179e\"],[0.4444444444444444,\"#bd3786\"],[0.5555555555555556,\"#d8576b\"],[0.6666666666666666,\"#ed7953\"],[0.7777777777777778,\"#fb9f3a\"],[0.8888888888888888,\"#fdca26\"],[1.0,\"#f0f921\"]]}],\"heatmapgl\":[{\"type\":\"heatmapgl\",\"colorbar\":{\"outlinewidth\":0,\"ticks\":\"\"},\"colorscale\":[[0.0,\"#0d0887\"],[0.1111111111111111,\"#46039f\"],[0.2222222222222222,\"#7201a8\"],[0.3333333333333333,\"#9c179e\"],[0.4444444444444444,\"#bd3786\"],[0.5555555555555556,\"#d8576b\"],[0.6666666666666666,\"#ed7953\"],[0.7777777777777778,\"#fb9f3a\"],[0.8888888888888888,\"#fdca26\"],[1.0,\"#f0f921\"]]}],\"contourcarpet\":[{\"type\":\"contourcarpet\",\"colorbar\":{\"outlinewidth\":0,\"ticks\":\"\"}}],\"contour\":[{\"type\":\"contour\",\"colorbar\":{\"outlinewidth\":0,\"ticks\":\"\"},\"colorscale\":[[0.0,\"#0d0887\"],[0.1111111111111111,\"#46039f\"],[0.2222222222222222,\"#7201a8\"],[0.3333333333333333,\"#9c179e\"],[0.4444444444444444,\"#bd3786\"],[0.5555555555555556,\"#d8576b\"],[0.6666666666666666,\"#ed7953\"],[0.7777777777777778,\"#fb9f3a\"],[0.8888888888888888,\"#fdca26\"],[1.0,\"#f0f921\"]]}],\"surface\":[{\"type\":\"surface\",\"colorbar\":{\"outlinewidth\":0,\"ticks\":\"\"},\"colorscale\":[[0.0,\"#0d0887\"],[0.1111111111111111,\"#46039f\"],[0.2222222222222222,\"#7201a8\"],[0.3333333333333333,\"#9c179e\"],[0.4444444444444444,\"#bd3786\"],[0.5555555555555556,\"#d8576b\"],[0.6666666666666666,\"#ed7953\"],[0.7777777777777778,\"#fb9f3a\"],[0.8888888888888888,\"#fdca26\"],[1.0,\"#f0f921\"]]}],\"mesh3d\":[{\"type\":\"mesh3d\",\"colorbar\":{\"outlinewidth\":0,\"ticks\":\"\"}}],\"scatter\":[{\"fillpattern\":{\"fillmode\":\"overlay\",\"size\":10,\"solidity\":0.2},\"type\":\"scatter\"}],\"parcoords\":[{\"type\":\"parcoords\",\"line\":{\"colorbar\":{\"outlinewidth\":0,\"ticks\":\"\"}}}],\"scatterpolargl\":[{\"type\":\"scatterpolargl\",\"marker\":{\"colorbar\":{\"outlinewidth\":0,\"ticks\":\"\"}}}],\"bar\":[{\"error_x\":{\"color\":\"#2a3f5f\"},\"error_y\":{\"color\":\"#2a3f5f\"},\"marker\":{\"line\":{\"color\":\"#E5ECF6\",\"width\":0.5},\"pattern\":{\"fillmode\":\"overlay\",\"size\":10,\"solidity\":0.2}},\"type\":\"bar\"}],\"scattergeo\":[{\"type\":\"scattergeo\",\"marker\":{\"colorbar\":{\"outlinewidth\":0,\"ticks\":\"\"}}}],\"scatterpolar\":[{\"type\":\"scatterpolar\",\"marker\":{\"colorbar\":{\"outlinewidth\":0,\"ticks\":\"\"}}}],\"histogram\":[{\"marker\":{\"pattern\":{\"fillmode\":\"overlay\",\"size\":10,\"solidity\":0.2}},\"type\":\"histogram\"}],\"scattergl\":[{\"type\":\"scattergl\",\"marker\":{\"colorbar\":{\"outlinewidth\":0,\"ticks\":\"\"}}}],\"scatter3d\":[{\"type\":\"scatter3d\",\"line\":{\"colorbar\":{\"outlinewidth\":0,\"ticks\":\"\"}},\"marker\":{\"colorbar\":{\"outlinewidth\":0,\"ticks\":\"\"}}}],\"scattermapbox\":[{\"type\":\"scattermapbox\",\"marker\":{\"colorbar\":{\"outlinewidth\":0,\"ticks\":\"\"}}}],\"scatterternary\":[{\"type\":\"scatterternary\",\"marker\":{\"colorbar\":{\"outlinewidth\":0,\"ticks\":\"\"}}}],\"scattercarpet\":[{\"type\":\"scattercarpet\",\"marker\":{\"colorbar\":{\"outlinewidth\":0,\"ticks\":\"\"}}}],\"carpet\":[{\"aaxis\":{\"endlinecolor\":\"#2a3f5f\",\"gridcolor\":\"white\",\"linecolor\":\"white\",\"minorgridcolor\":\"white\",\"startlinecolor\":\"#2a3f5f\"},\"baxis\":{\"endlinecolor\":\"#2a3f5f\",\"gridcolor\":\"white\",\"linecolor\":\"white\",\"minorgridcolor\":\"white\",\"startlinecolor\":\"#2a3f5f\"},\"type\":\"carpet\"}],\"table\":[{\"cells\":{\"fill\":{\"color\":\"#EBF0F8\"},\"line\":{\"color\":\"white\"}},\"header\":{\"fill\":{\"color\":\"#C8D4E3\"},\"line\":{\"color\":\"white\"}},\"type\":\"table\"}],\"barpolar\":[{\"marker\":{\"line\":{\"color\":\"#E5ECF6\",\"width\":0.5},\"pattern\":{\"fillmode\":\"overlay\",\"size\":10,\"solidity\":0.2}},\"type\":\"barpolar\"}],\"pie\":[{\"automargin\":true,\"type\":\"pie\"}]},\"layout\":{\"autotypenumbers\":\"strict\",\"colorway\":[\"#636efa\",\"#EF553B\",\"#00cc96\",\"#ab63fa\",\"#FFA15A\",\"#19d3f3\",\"#FF6692\",\"#B6E880\",\"#FF97FF\",\"#FECB52\"],\"font\":{\"color\":\"#2a3f5f\"},\"hovermode\":\"closest\",\"hoverlabel\":{\"align\":\"left\"},\"paper_bgcolor\":\"white\",\"plot_bgcolor\":\"#E5ECF6\",\"polar\":{\"bgcolor\":\"#E5ECF6\",\"angularaxis\":{\"gridcolor\":\"white\",\"linecolor\":\"white\",\"ticks\":\"\"},\"radialaxis\":{\"gridcolor\":\"white\",\"linecolor\":\"white\",\"ticks\":\"\"}},\"ternary\":{\"bgcolor\":\"#E5ECF6\",\"aaxis\":{\"gridcolor\":\"white\",\"linecolor\":\"white\",\"ticks\":\"\"},\"baxis\":{\"gridcolor\":\"white\",\"linecolor\":\"white\",\"ticks\":\"\"},\"caxis\":{\"gridcolor\":\"white\",\"linecolor\":\"white\",\"ticks\":\"\"}},\"coloraxis\":{\"colorbar\":{\"outlinewidth\":0,\"ticks\":\"\"}},\"colorscale\":{\"sequential\":[[0.0,\"#0d0887\"],[0.1111111111111111,\"#46039f\"],[0.2222222222222222,\"#7201a8\"],[0.3333333333333333,\"#9c179e\"],[0.4444444444444444,\"#bd3786\"],[0.5555555555555556,\"#d8576b\"],[0.6666666666666666,\"#ed7953\"],[0.7777777777777778,\"#fb9f3a\"],[0.8888888888888888,\"#fdca26\"],[1.0,\"#f0f921\"]],\"sequentialminus\":[[0.0,\"#0d0887\"],[0.1111111111111111,\"#46039f\"],[0.2222222222222222,\"#7201a8\"],[0.3333333333333333,\"#9c179e\"],[0.4444444444444444,\"#bd3786\"],[0.5555555555555556,\"#d8576b\"],[0.6666666666666666,\"#ed7953\"],[0.7777777777777778,\"#fb9f3a\"],[0.8888888888888888,\"#fdca26\"],[1.0,\"#f0f921\"]],\"diverging\":[[0,\"#8e0152\"],[0.1,\"#c51b7d\"],[0.2,\"#de77ae\"],[0.3,\"#f1b6da\"],[0.4,\"#fde0ef\"],[0.5,\"#f7f7f7\"],[0.6,\"#e6f5d0\"],[0.7,\"#b8e186\"],[0.8,\"#7fbc41\"],[0.9,\"#4d9221\"],[1,\"#276419\"]]},\"xaxis\":{\"gridcolor\":\"white\",\"linecolor\":\"white\",\"ticks\":\"\",\"title\":{\"standoff\":15},\"zerolinecolor\":\"white\",\"automargin\":true,\"zerolinewidth\":2},\"yaxis\":{\"gridcolor\":\"white\",\"linecolor\":\"white\",\"ticks\":\"\",\"title\":{\"standoff\":15},\"zerolinecolor\":\"white\",\"automargin\":true,\"zerolinewidth\":2},\"scene\":{\"xaxis\":{\"backgroundcolor\":\"#E5ECF6\",\"gridcolor\":\"white\",\"linecolor\":\"white\",\"showbackground\":true,\"ticks\":\"\",\"zerolinecolor\":\"white\",\"gridwidth\":2},\"yaxis\":{\"backgroundcolor\":\"#E5ECF6\",\"gridcolor\":\"white\",\"linecolor\":\"white\",\"showbackground\":true,\"ticks\":\"\",\"zerolinecolor\":\"white\",\"gridwidth\":2},\"zaxis\":{\"backgroundcolor\":\"#E5ECF6\",\"gridcolor\":\"white\",\"linecolor\":\"white\",\"showbackground\":true,\"ticks\":\"\",\"zerolinecolor\":\"white\",\"gridwidth\":2}},\"shapedefaults\":{\"line\":{\"color\":\"#2a3f5f\"}},\"annotationdefaults\":{\"arrowcolor\":\"#2a3f5f\",\"arrowhead\":0,\"arrowwidth\":1},\"geo\":{\"bgcolor\":\"white\",\"landcolor\":\"#E5ECF6\",\"subunitcolor\":\"white\",\"showland\":true,\"showlakes\":true,\"lakecolor\":\"white\"},\"title\":{\"x\":0.05},\"mapbox\":{\"style\":\"light\"}}}},                        {\"responsive\": true}                    ).then(function(){\n",
       "                            \n",
       "var gd = document.getElementById('63cd3b6c-0cdd-411d-8a76-da37890ebeb0');\n",
       "var x = new MutationObserver(function (mutations, observer) {{\n",
       "        var display = window.getComputedStyle(gd).display;\n",
       "        if (!display || display === 'none') {{\n",
       "            console.log([gd, 'removed!']);\n",
       "            Plotly.purge(gd);\n",
       "            observer.disconnect();\n",
       "        }}\n",
       "}});\n",
       "\n",
       "// Listen for the removal of the full notebook cells\n",
       "var notebookContainer = gd.closest('#notebook-container');\n",
       "if (notebookContainer) {{\n",
       "    x.observe(notebookContainer, {childList: true});\n",
       "}}\n",
       "\n",
       "// Listen for the clearing of the current output cell\n",
       "var outputEl = gd.closest('.output');\n",
       "if (outputEl) {{\n",
       "    x.observe(outputEl, {childList: true});\n",
       "}}\n",
       "\n",
       "                        })                };                });            </script>        </div>"
      ]
     },
     "metadata": {},
     "output_type": "display_data"
    }
   ],
   "source": [
    "#Windows:\n",
    "#%cd $opath\\ScriptsPlot\n",
    "#%run ConvergencePlot -f \"NrMmtc_SimPerScriptCampaign_UlTdd_Prbs96_ueNumScenario84.yaml\" -p $opath\\results_cluster_NrMmtc_SimPerScriptCampaign_UlTdd_Prbs96_ueNumScenario84_Lambda\n",
    "\n",
    "#Linux:\n",
    "%cd $plots_result_path\"PlotScripts\"\n",
    "%run ConvergencePlot -j \"20\" -f \"Placement_Manaus_Case_1_2.yaml\" -p '/home/oai-ufrn/Repositories/tests/open_ran_datacenter_placement/Results/results_Placement_Manaus_Case_1_2_odcs/'"
   ]
  },
  {
   "cell_type": "code",
   "execution_count": 557,
   "metadata": {},
   "outputs": [],
   "source": [
    "pd.set_option('display.max_rows', None)\n",
    "pd.set_option('display.max_columns', None)"
   ]
  },
  {
   "cell_type": "code",
   "execution_count": null,
   "metadata": {},
   "outputs": [],
   "source": []
  }
 ],
 "metadata": {
  "kernelspec": {
   "display_name": "Python 3 (ipykernel)",
   "language": "python",
   "name": "python3"
  },
  "language_info": {
   "codemirror_mode": {
    "name": "ipython",
    "version": 3
   },
   "file_extension": ".py",
   "mimetype": "text/x-python",
   "name": "python",
   "nbconvert_exporter": "python",
   "pygments_lexer": "ipython3",
   "version": "3.10.12"
  }
 },
 "nbformat": 4,
 "nbformat_minor": 4
}
