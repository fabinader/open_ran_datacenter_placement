{
 "cells": [
  {
   "cell_type": "markdown",
   "metadata": {},
   "source": [
    "# Convergence Plot\n",
    "\n",
    "### Authors : Daniel Luna (UFRN), Vicente Sousa (UFRN) e Ricardo Queiroz (UFRN)"
   ]
  },
  {
   "cell_type": "code",
   "execution_count": 7,
   "metadata": {},
   "outputs": [
    {
     "name": "stdout",
     "output_type": "stream",
     "text": [
      "Writing ConvergencePlot.py\n"
     ]
    }
   ],
   "source": [
    "%%file ConvergencePlot.py\n",
    "#!/usr/bin/env python3\n",
    "# -*- coding: utf-8 -*-\n",
    "\"\"\"\n",
    "Created on Wed Oct  2 16:03:59 2019\n",
    "\n",
    "@author: daniel\n",
    "\"\"\"\n",
    "\n",
    "import numpy as np\n",
    "import pandas as pd\n",
    "import matplotlib.pyplot as plt\n",
    "#import seaborn as sns\n",
    "import scipy.stats as sci\n",
    "import scipy.stats as st\n",
    "import warnings\n",
    "warnings.filterwarnings(\"ignore\")\n",
    "from itertools import cycle\n",
    "import os\n",
    "import argparse\n",
    "import yaml \n",
    "from random import randint   \n",
    "import itertools\n",
    "import pandas as pd\n",
    "import plotly.graph_objects as go\n",
    "import plotly.express as px\n",
    "import plotly.io as pio\n",
    "\n",
    "class openSimulation:\n",
    "    def __init__(self, configurations_file):\n",
    "        self.email_to = 'fulano@gmail.com'            \n",
    "        with open(configurations_file, 'r') as f:\n",
    "            self.doc = yaml.load(f, Loader=yaml.loader.BaseLoader)\n",
    "            #self.doc = doc\n",
    "        self.campaign_name = os.path.splitext(configurations_file)[0]\n",
    "        \n",
    "         # Simu parameters\n",
    "        self.commandScript = ''\n",
    "        for iscenarioParameters in self.doc['scenarioParameters'].items():\n",
    "            commandraw= \" --\"+str(iscenarioParameters[0])+\"=\"+str(iscenarioParameters[1][0])\n",
    "            self.commandScript = self.commandScript + commandraw\n",
    "        #teste = self.commandScript.split(' ')\n",
    "        #print(teste[2].split('=')[1])\n",
    "\n",
    "        #Plot parameters\n",
    "        self.showPlot = True\n",
    "        self.plotCI = False\n",
    "        self.JobsConvergence = False\n",
    "        self.window = 0.1 # window of 1ms\n",
    "\n",
    "        # ns-3 script configuration\n",
    "        self.script = str(self.doc['ScriptParameters']['script'])\n",
    "        self.local_path = str(self.doc['ScriptParameters']['local_path'])\n",
    "        self.plot_path = os.getcwd()\n",
    "        #self.local_path = os.getcwd() + '/' + self.local_path\n",
    "        self.cluster_path = str(self.doc['ScriptParameters']['cluster_path'])\n",
    "        self.outputDirName = str(self.doc['ScriptParameters']['outputDir'][0])\n",
    "        self.outputDir = str(self.doc['ScriptParameters']['outputDir'][1])\n",
    "        self.seed = str(self.doc['ScriptParameters']['seed'])\n",
    "        self.CampaignTag = str(self.doc['ScriptParameters']['CampaignTag'])\n",
    "        self.configurations_file = configurations_file       \n",
    "        self.simLocation = str(self.doc['ScriptParameters']['simLocation'])\n",
    "\n",
    "        # Shell Script Parameters configuration\n",
    "        self.nOfCurlines=self.doc['ShellScriptParameters']['nOfCurlines']\n",
    "        self.SimTied = self.doc['ShellScriptParameters']['SimTied']\n",
    "        self.nOfCurlinesTied = self.doc['ShellScriptParameters']['nOfCurlinesTied']\n",
    "        self.daytime  = self.doc['ShellScriptParameters']['daytime']\n",
    "        self.htime  = self.doc['ShellScriptParameters']['htime']\n",
    "        self.ntasks = self.doc['ShellScriptParameters']['ntasks']\n",
    "        self.cpusPerTask = self.doc['ShellScriptParameters']['cpusPerTask']\n",
    "        self.numberOfJobsShellScript = int(self.doc['ShellScriptParameters']['numberOfJobsShellScript'])\n",
    "        \n",
    "         #Lines/curves\n",
    "        self.campaignX = self.doc['campaignLines']['campaignX']\n",
    "        self.campaignLines = self.doc['campaignLines']['campaignLines']\n",
    "        self.nJobs = int(self.doc['campaignLines']['jobs'])\n",
    "\n",
    "    def VetorMediaAll (self, vetor,janela):\n",
    "        NewVetorMedia = []\n",
    "        VetorMedia=[]\n",
    "        VetorVar=[]\n",
    "        VetorMoment3=[]\n",
    "        VetorMoment4=[]\n",
    "        VetorVpp=[]\n",
    "        VetorCorr=[]\n",
    "        #media = np.mean(vetor[0:janela])\n",
    "        #NewVetorMedia.append(np.ones(janela)*media)\n",
    "        for i in range(0,len(vetor),janela):\n",
    "            media = np.mean(vetor[i:i+janela])\n",
    "            VetorMedia = np.append(VetorMedia,media)\n",
    "            \n",
    "            variancia = np.var(vetor[i:i+janela])\n",
    "            VetorVar=np.append(VetorVar,variancia)\n",
    "            \n",
    "            momento3 = sci.moment(vetor[i:i+janela],moment=3)\n",
    "            VetorMoment3=np.append(VetorMoment3,momento3)\n",
    "            \n",
    "            momento4 = sci.moment(vetor[i:i+janela],moment=4)\n",
    "            VetorMoment4=np.append(VetorMoment4,momento4)\n",
    "            \n",
    "            vpp = np.max(vetor[i:i+janela]) - np.min(vetor[i:i+janela])\n",
    "            VetorVpp=np.append(VetorVpp,vpp)\n",
    "            \n",
    "            corr = vetor[i:i+janela].dot(np.conj(vetor[i:i+janela]))\n",
    "            VetorCorr=np.append(VetorCorr,corr)\n",
    "            \n",
    "            NewVetorMedia=np.concatenate((NewVetorMedia,np.ones(janela)*media),axis=0)\n",
    "        return NewVetorMedia,VetorMedia,VetorVar,VetorMoment3,VetorMoment4,VetorVpp,VetorCorr\n",
    "    \n",
    "    def plotCampaign(self,curCampaign, metric,jobs):\n",
    "        outputDir = self.plot_path\n",
    "        njobs = min(jobs,self.nJobs)\n",
    "        m_plr, m_plrCI, m_tput, m_tputCI, m_pkt, m_pktCI = [], [], [], [], [], []\n",
    "        m_tput1,m_tput2=[],[]\n",
    "        m_tputCI1,m_tputCI2,m_tputCI3,m_tputCI4=[],[],[],[]\n",
    "        m_tputCI5,m_tputCI6,m_tputCI7,m_tputCI8=[],[],[],[]\n",
    "        m_tputCI9,m_tputCI10=[],[]\n",
    "        markers_on_all = cycle(list(itertools.product([0], [1,2,3,4,5])))\n",
    "        markersA = cycle(('o','v', 'D', '>', 'h', '^', '*', '>', 's', 'H', 'D', 'd'))\n",
    "        colors = cycle(('b', 'g', 'r', 'c', 'm', 'y', 'k'))\n",
    "        linestyle = cycle(('-', '--'))# '-.', ':'))                    \n",
    "        ls_plotly = cycle((\"solid\",\"dot\",\"dash\",\"longdash\",\"dashdot\",\"longdashdot\")) \n",
    "        dfMeanTput = pd.DataFrame()\n",
    "        dfMeanPlr = pd.DataFrame()\n",
    "        dfMeanRxPkt = pd.DataFrame()    \n",
    "        nOfCurlines=int(self.nOfCurlines[0]) # number of Campaign Lines in 1 simulation (max value = 3)\n",
    "        SimTied = int(self.SimTied[0]) # whether or not the simulation parameters are tied (0 or 1)\n",
    "        nOfCurlinesTied = int(self.nOfCurlinesTied[0]) # number of Campaign Lines tied (max value = nOfCurlines)\n",
    "        print (nOfCurlines, SimTied,nOfCurlinesTied)\n",
    "        if nOfCurlines == 1 and SimTied == 0:\n",
    "            legend=[]\n",
    "            legendSims=[]\n",
    "            color=next(colors)\n",
    "            marker=next(markersA)\n",
    "            markers_on=next(markers_on_all)\n",
    "            linestyle_on =next(linestyle)\n",
    "            ls_plotly_on = next(ls_plotly)\n",
    "            curline = self.campaignLines[0]\n",
    "            campaignX = self.campaignX[0]\n",
    "            dfMovingMeanAllSims=pd.DataFrame()\n",
    "            dfMeanAllSims = pd.DataFrame()\n",
    "            vtLastTimeValueAllSims = []\n",
    "            isim = 0\n",
    "            for i in range(len(self.doc['scenarioParameters'][curline])):\n",
    "                for iCampaignX in range(len(self.doc['scenarioParameters'][campaignX])):\n",
    "                    df=pd.DataFrame()\n",
    "                    dfMovingMean=pd.DataFrame()\n",
    "                    vtLastTimeValue=[]\n",
    "                    if metric.split('-')[1] == 'PHY':\n",
    "                        if metric.split('-')[2] == 'SimTime':\n",
    "                            for iJob in range(0,njobs):\n",
    "                                if metric.split('-')[3] == 'NR':\n",
    "                                    vtMean = []\n",
    "                                    if self.UlMode: \n",
    "                                        filepath = outputDir +\"/JOB\"+str(iJob)+\"/Sim_\"+str(isim)+\"/GnbRxPacketTrace.txt\"\n",
    "                                    else:\n",
    "                                        filepath = outputDir +\"/JOB\"+str(iJob)+\"/Sim_\"+str(isim)+\"/UeRxPacketTrace.txt\"\n",
    "                                    df = pd.read_csv(filepath,sep='\\t',index_col=False)\n",
    "                                    df2 = pd.DataFrame(df, columns=['Time','tbSize','SINR(dB)'])\n",
    "                                    timeLastValue = df['Time'][len(df['Time'])-1]\n",
    "                                elif metric.split('-')[3] == 'LTE':\n",
    "                                    vtMean = []\n",
    "                                    if self.UlMode: \n",
    "                                        print('To be implemented')\n",
    "                                    elif not(self.UlMode) and metric.split('-')[0] == 'Tput':\n",
    "                                        filepath = outputDir +\"/JOB\"+str(iJob)+\"/Sim_\"+str(isim)+\"/DlRxPhyStats.txt\"\n",
    "                                        df = pd.read_csv(filepath,sep='\\t',index_col=False)\n",
    "                                    elif not(self.UlMode) and metric.split('-')[0] == 'SINR':    \n",
    "                                        filepath = outputDir +\"/JOB\"+str(iJob)+\"/Sim_\"+str(isim)+\"/DlRsrpSinrStats.txt\"\n",
    "                                        df = pd.read_csv(filepath,sep='\\t',index_col=False)\n",
    "                                        df['SINR(dB)']=10*np.log10(df['sinr'])\n",
    "                                    \n",
    "                                    df = df.rename({'% time': 'Time'},axis=1)\n",
    "                                    df2 = pd.DataFrame(df, columns=['Time','tbSize','SINR(dB)'])\n",
    "                                    \n",
    "                                    timeLastValue = df['Time'][len(df['Time'])-1]\n",
    "                                \n",
    "                                if metric.split('-')[0] == 'Tput': ## Calculate the PHY Throughput    \n",
    "                                    df2.dropna(inplace=True)    \n",
    "                                    ylabelpart2 = ' (kbps)'\n",
    "                                    ndf2ShapePos0 = df2.shape[0]\n",
    "                                    self.window=0.1\n",
    "                                    WindowSize=len(df2[df2['Time']<=  df2.Time[0] + self.window])\n",
    "                                    WindowSizeH = WindowSize\n",
    "                                    WindowSizeL =0\n",
    "                                    while ndf2ShapePos0 != WindowSizeH:\n",
    "                                        if WindowSize == 0:\n",
    "                                            medias = 0\n",
    "                                        else:\n",
    "                                            [vetor,medias,variancia,moment3,moment4,vpp,correlacao] = self.VetorMediaAll(df2.tbSize[WindowSizeL:WindowSizeH].values,WindowSize)\n",
    "                                        vtMean = np.append(vtMean, medias);\n",
    "                                        self.window+=0.1\n",
    "                                        WindowSizeL = WindowSize\n",
    "                                        WindowSizeH=len(df2[df2['Time']<=  df2.Time[0] + self.window])\n",
    "                                        WindowSize = WindowSizeH - WindowSizeL\n",
    "                                    \n",
    "                                    vtMeandf = pd.DataFrame(vtMean)\n",
    "                                    dfMovingMean = pd.concat([dfMovingMean,vtMeandf], axis=1)\n",
    "                                    vtLastTimeValue = np.append(vtLastTimeValue,timeLastValue)\n",
    "                                elif metric.split('-')[0] == 'SINR': ## Calculate the PHY SINR\n",
    "                                    df2.dropna(inplace=True)    \n",
    "                                    ylabelpart2 = ' (dB)'\n",
    "                                    ndf2ShapePos0 = df2.shape[0]\n",
    "                                    self.window=0.1\n",
    "                                    WindowSize=len(df2[df2['Time']<=  df2.Time[0] + self.window])\n",
    "                                    WindowSizeH = WindowSize\n",
    "                                    WindowSizeL =0\n",
    "                                    while ndf2ShapePos0 != WindowSizeH:\n",
    "                                        if WindowSize == 0:\n",
    "                                            medias = 0\n",
    "                                        else:\n",
    "                                            [vetor,medias,variancia,moment3,moment4,vpp,correlacao] = self.VetorMediaAll(10**(df2['SINR(dB)'][WindowSizeL:WindowSizeH].values/10),WindowSize)\n",
    "                                        vtMean = np.append(vtMean, 10*np.log10(medias))\n",
    "                                        self.window+=0.1\n",
    "                                        WindowSizeL = WindowSize\n",
    "                                        WindowSizeH=len(df2[df2['Time']<=  df2.Time[0] + self.window])\n",
    "                                        WindowSize = WindowSizeH - WindowSizeL\n",
    "                                    \n",
    "                                    vtMeandf = pd.DataFrame(vtMean)\n",
    "                                    dfMovingMean = pd.concat([dfMovingMean,vtMeandf], axis=1)\n",
    "                                    vtLastTimeValue = np.append(vtLastTimeValue,timeLastValue)\n",
    "\n",
    "                                    \n",
    "                            vtLastTimeValueAllSims = np.append(vtLastTimeValueAllSims,vtLastTimeValue.mean())\n",
    "                            if metric.split('-')[0] == 'Tput':\n",
    "                                dfMovingMeanAllSims = pd.concat([dfMovingMeanAllSims,dfMovingMean.dropna().mean(axis=1)/0.1], axis=1) # dividing by the window to calcutate tput\n",
    "                            elif metric.split('-')[0] == 'SINR':\n",
    "                                dfMovingMeanAllSims = pd.concat([dfMovingMeanAllSims,dfMovingMean.dropna().mean(axis=1)], axis=1)\n",
    "                        elif metric.split('-')[2] == 'Jobs':\n",
    "                            vtMeanJobs = []\n",
    "                            for iJob in range(0,njobs):\n",
    "                                if metric.split('-')[3] == 'NR':\n",
    "                                    vtMean = []\n",
    "                                    if self.UlMode: \n",
    "                                        filepath = outputDir +\"/JOB\"+str(iJob)+\"/Sim_\"+str(isim)+\"/GnbRxPacketTrace.txt\"\n",
    "                                    else:\n",
    "                                        filepath = outputDir +\"/JOB\"+str(iJob)+\"/Sim_\"+str(isim)+\"/UeRxPacketTrace.txt\"\n",
    "                                    df = pd.read_csv(filepath,sep='\\t',index_col=False)\n",
    "                                    df2 = pd.DataFrame(df, columns=['Time','tbSize','SINR(dB)'])\n",
    "                                    timeLastValue = df['Time'][len(df['Time'])-1]\n",
    "                                elif metric.split('-')[3] == 'LTE':\n",
    "                                    vtMean = []\n",
    "                                    if self.UlMode: \n",
    "                                        print('To be implemented')\n",
    "                                    elif not(self.UlMode) and metric.split('-')[0] == 'Tput':\n",
    "                                        filepath = outputDir +\"/JOB\"+str(iJob)+\"/Sim_\"+str(isim)+\"/DlRxPhyStats.txt\"\n",
    "                                        df = pd.read_csv(filepath,sep='\\t',index_col=False)\n",
    "                                    elif not(self.UlMode) and metric.split('-')[0] == 'SINR':    \n",
    "                                        filepath = outputDir +\"/JOB\"+str(iJob)+\"/Sim_\"+str(isim)+\"/DlRsrpSinrStats.txt\"\n",
    "                                        df = pd.read_csv(filepath,sep='\\t',index_col=False)\n",
    "                                        df['SINR(dB)']=10*np.log10(df['sinr'])\n",
    "                                    \n",
    "                                    df = df.rename({'% time': 'Time'},axis=1)\n",
    "                                    df2 = pd.DataFrame(df, columns=['Time','tbSize','SINR(dB)'])\n",
    "                                if metric.split('-')[0] == 'Tput':\n",
    "                                    ylabelpart2 = '(kbps)'\n",
    "                                    vtMeanJobs = np.append(vtMeanJobs, df2['tbSize'].sum()/df2.iloc[-1,0]/1000) #kbps\n",
    "                                elif metric.split('-')[0] == 'SINR':\n",
    "                                    ylabelpart2 = '(dB)'\n",
    "                                    vtMeanJobs = np.append(vtMeanJobs,10*np.log10(np.mean(10**(df2['SINR(dB)']/10)))) #dB\n",
    "                            dfMeanJobs = pd.DataFrame(vtMeanJobs)\n",
    "                            dfMeanAllSims = pd.concat([dfMeanAllSims,dfMeanJobs], axis=1)  \n",
    "                    isim +=1\n",
    "            #Legend of 2/0/0\n",
    "            for ilegend in self.doc['scenarioParameters'][curline]:\n",
    "                legendEntry = self.CampaignTag + \": \" + curline + \" \" + ilegend\n",
    "                legend.append(legendEntry) \n",
    "                for ilegendcdf in self.doc['scenarioParameters'][campaignX]:\n",
    "                    legendSimsEntry = legendEntry + \",\" + \" \" + campaignX + \" \" + ilegendcdf \n",
    "                    legendSims.append(legendSimsEntry)\n",
    "        \n",
    "        \n",
    "        #//////////////////////////////////////////////////////////////////////////////////////////\n",
    "        #//////////////////////////////////////////////////////////////////////////////////////////\n",
    "        \n",
    "        elif nOfCurlines==3 and SimTied == 1 and nOfCurlinesTied == 3:\n",
    "            legend = []\n",
    "            legendSims = []\n",
    "            color = next(colors)\n",
    "            marker = next(markersA)\n",
    "            markers_on = next(markers_on_all)\n",
    "            linestyle_on = next(linestyle)\n",
    "            ls_plotly_on = next(ls_plotly)\n",
    "            curline = self.campaignLines[0]\n",
    "            curline1 = self.campaignLines[1]\n",
    "            curline2 = self.campaignLines[2]\n",
    "            campaignX = self.campaignX[0]\n",
    "            dfMeanAllSims = pd.DataFrame()\n",
    "            dfMeanJobsAccumulated = pd.DataFrame()\n",
    "            dfIntervalAllSims = pd.DataFrame()\n",
    "            isim = 0\n",
    "            for i in range(len(self.doc['scenarioParameters'][curline])):\n",
    "                for iCampaignX in range(len(self.doc['scenarioParameters'][campaignX])):\n",
    "                    df=pd.DataFrame()\n",
    "                    if metric.split('-')[1] == 'Jobs':\n",
    "                        vtJobs = []\n",
    "                        vtMeanJobs = []\n",
    "                        vtMeanJobsAccumulated = []\n",
    "                        vtInterval = []\n",
    "                        vtIntervalJobs = []\n",
    "                        for iJob in range(0,njobs):\n",
    "                            if metric.split('-')[2] == 'Capacity':\n",
    "                                filepath = outputDir +\"/JOB\"+str(iJob)+\"/Sim_\"+str(isim)+\"/df_capacities.csv\"\n",
    "                                df = pd.read_csv(filepath, usecols=['odc_locations', 'capacities'])                            \n",
    "                                vtJobs = np.append(vtJobs,df['capacities'])\n",
    "                                vtMeanJobs = np.mean(vtJobs)\n",
    "                                vtMeanJobsAccumulated = np.append(vtMeanJobsAccumulated,vtMeanJobs)\n",
    "                                #print(vtMeanJobsAccumulated)\n",
    "                                _, vtInterval = st.t.interval(0.99, len(vtJobs)-1, loc=vtMeanJobs, scale=st.sem(vtJobs))\n",
    "                                #print('vtinterval', vtInterval)\n",
    "                                vtIntervalJobs.append(vtInterval - vtMeanJobs)\n",
    "                                #print(vtIntervalJobs)\n",
    "                                ylabelpart2 = '(CPUs/ODC)'\n",
    "                            elif metric.split('-')[2] == 'Fiberlenght':\n",
    "                                filepath = outputDir +\"/JOB\"+str(iJob)+\"/Sim_\"+str(isim)+\"/df_fiberlength.csv\"\n",
    "                                df = pd.read_csv(filepath, usecols=['odc_locations', 'fiberlength'])\n",
    "                                vtJobs = np.append(vtJobs,df['fiberlength'])\n",
    "                                vtMeanJobs = np.mean(vtJobs)\n",
    "                                vtMeanJobsAccumulated = np.append(vtMeanJobsAccumulated,vtMeanJobs)\n",
    "                                #print(vtMeanJobsAccumulated)\n",
    "                                _, vtInterval = st.t.interval(0.99, len(vtJobs)-1, loc=vtMeanJobs, scale=st.sem(vtJobs))\n",
    "                                vtIntervalJobs.append(vtInterval - vtMeanJobs)\n",
    "                                #print(vtIntervalJobs)\n",
    "                                ylabelpart2 = '(kms)'\n",
    "                        dfMeanJobsAccumulated = pd.DataFrame(vtMeanJobsAccumulated)\n",
    "                        dfMeanAllSims = pd.concat([dfMeanAllSims,dfMeanJobsAccumulated], axis=1)\n",
    "                        dfIntervalJobs = pd.DataFrame(vtIntervalJobs)\n",
    "                        dfIntervalAllSims = pd.concat([dfIntervalAllSims,dfIntervalJobs], axis=1)\n",
    "                        #print(dfIntervalAllSims)\n",
    "                    isim +=1\n",
    "            #Legend of 3/1/3\n",
    "            for ilegend in self.doc['scenarioParameters'][curline]:\n",
    "                legendtag = self.CampaignTag + \": \" + curline + \" \" + ilegend\n",
    "                for ilegend1 in self.doc['scenarioParameters'][curline1]:\n",
    "                    legendtag1 = legendtag + \", \" + curline1 + \" \" + ilegend1\n",
    "                    for ilegend2 in self.doc['scenarioParameters'][curline2]:\n",
    "                        legendtag2 = legendtag1 + \", \" + curline2 + \" \" + ilegend2\n",
    "                        legend.append(legendtag2) \n",
    "                        for ilegendcdf in self.doc['scenarioParameters'][campaignX]:\n",
    "                            legendSimsEntry = legendtag2 + \",\" + \" \" + campaignX + \" \" + ilegendcdf \n",
    "                            legendSims.append(legendSimsEntry)\n",
    "\n",
    "        ##### START OF PLOTTING SECTION ####         \n",
    "\n",
    "        \n",
    "        #labelA = cycle(legend)\n",
    "        labelAsims = cycle(legendSims) \n",
    "        #label = next(labelA)\n",
    "        labelSims = next(labelAsims)\n",
    "        datatputPHY=[]\n",
    "        if metric.split('-')[1] == 'Jobs':\n",
    "            xlabel='Jobs'\n",
    "            ylabel=metric +\" \"+ ylabelpart2\n",
    "            plt.figure(figsize=(20,10))\n",
    "            for i in range (dfMeanAllSims.shape[1]):\n",
    "                resxData = np.linspace(1,njobs,len(dfMeanAllSims.iloc[:,i]))\n",
    "                resyData = dfMeanAllSims.iloc[:,i].to_numpy()\n",
    "                #plt.plot(resxData, resyData, label=labelSims, marker=marker,color=color,markevery=markers_on,ls=linestyle_on)\n",
    "                plt.errorbar(resxData,resyData, yerr = dfIntervalAllSims.iloc[:,i], marker=marker,color=color, ls = 'none', lw = 2, capthick = 2,markevery=markers_on)\n",
    "                trace1 = go.Scatter(\n",
    "                    x=resxData,\n",
    "                    y=resyData,\n",
    "                    error_y=dict(type='data', # value of error bar given in data coordinates\n",
    "                                array=dfIntervalAllSims.iloc[:,i],\n",
    "                                visible=True),\n",
    "                    name=labelSims,\n",
    "                    line_dash=ls_plotly_on,\n",
    "                    marker_symbol=markers_on\n",
    "                )\n",
    "                datatputPHY.append(trace1)\n",
    "                color=next(colors)\n",
    "                marker=next(markersA)\n",
    "                markers_on=next(markers_on_all)\n",
    "                labelSims = next(labelAsims)\n",
    "                linestyle_on=next(linestyle)\n",
    "                ls_plotly_on = next(ls_plotly)\n",
    "            layout = go.Layout(\n",
    "                yaxis=dict(\n",
    "                    domain=[0, 1]\n",
    "                ),\n",
    "                legend=dict(\n",
    "                    traceorder=\"normal\"\n",
    "                ),\n",
    "                xaxis_title=xlabel,\n",
    "                yaxis_title=ylabel\n",
    "                )\n",
    "            \n",
    "            fig = go.Figure(data=datatputPHY, layout=layout)\n",
    "            plt.xlabel(xlabel)\n",
    "            plt.ylabel(ylabel)\n",
    "            #plt.xlim([0.10, 0.55]) \n",
    "            #plt.legend(loc='best', numpoints=1)\n",
    "            plt.legend(loc='center left', bbox_to_anchor=(1, 0.5))\n",
    "            plt.grid()\n",
    "            #plt.tight_layout()\n",
    "            #plt.show()\n",
    "    \n",
    "        #os.makedirs(outputDir+\"/ps\", exist_ok=True)\n",
    "        os.makedirs(outputDir+\"/png\", exist_ok=True)\n",
    "        os.makedirs(outputDir+\"/html\", exist_ok=True)\n",
    "    \n",
    "        \n",
    "        if bool(self.plotCI):\n",
    "            imgfilename = metric + '_CI_'+curCampaign\n",
    "        else:\n",
    "            imgfilename = metric + '_CI_'+curCampaign\n",
    "        plt.savefig(outputDir+\"/png/\"+imgfilename+\".png\")\n",
    "        #plt.savefig(outputDir+\"/ps/\"+imgfilename+\".eps\")\n",
    "        pio.write_html(fig, file=outputDir+\"/html/\"+imgfilename+'.html', auto_open=True)\n",
    "        if bool(self.showPlot):\n",
    "            plt.show()\n",
    "            fig.show()\n",
    "        else:\n",
    "            plt.close()\n",
    "        \n",
    "            \n",
    "\n",
    "parser = argparse.ArgumentParser()\n",
    "parser.add_argument(\"-f\", \"--file\", type=str, help='Configuration File')\n",
    "parser.add_argument(\"-p\", \"--path\", type=str, help='Path')\n",
    "parser.add_argument(\"-j\", \"--jobs\", type=str, help='The script will ignore the value in .yaml')\n",
    "args = parser.parse_args()\n",
    "configurations_file = args.file\n",
    "plotpath = args.path\n",
    "jobs = int(args.jobs)\n",
    "os.chdir(plotpath)\n",
    "\n",
    "with open(configurations_file, 'r') as f:\n",
    "    doc = yaml.load(f, Loader=yaml.loader.BaseLoader)\n",
    "    campaign_name = os.path.splitext(configurations_file)[0]\n",
    "    print('Simulação escolhida: ')\n",
    "\n",
    "campaign = doc['campaignLines']['campaignX']\n",
    "print(campaign)\n",
    "simu = openSimulation(configurations_file)\n",
    "\n",
    "finalMetrics = ['PHY-Jobs-Capacity',\n",
    "                'PHY-Jobs-Fiberlenght']\n",
    "\n",
    "for iMet in finalMetrics:\n",
    "    for simC in campaign:\n",
    "        simu.plotCampaign(simC,iMet,jobs)\n"
   ]
  },
  {
   "cell_type": "markdown",
   "metadata": {},
   "source": [
    "# Convergence Metrics"
   ]
  },
  {
   "cell_type": "markdown",
   "metadata": {},
   "source": [
    "### Exemplo"
   ]
  },
  {
   "cell_type": "code",
   "execution_count": 8,
   "metadata": {},
   "outputs": [
    {
     "name": "stdout",
     "output_type": "stream",
     "text": [
      "Simulação escolhida: \n",
      "['odcs']\n",
      "3 1 3\n"
     ]
    },
    {
     "name": "stderr",
     "output_type": "stream",
     "text": [
      "No artists with labels found to put in legend.  Note that artists whose label start with an underscore are ignored when legend() is called with no argument.\n"
     ]
    },
    {
     "data": {
      "image/png": "[encoded data removed]",
      "text/plain": [
       "<Figure size 2000x1000 with 1 Axes>"
      ]
     },
     "metadata": {},
     "output_type": "display_data"
    },
    {
     "data": {
      "application/vnd.plotly.v1+json": {
       "config": {
        "plotlyServerURL": "https://plot.ly"
       },
       "data": [
        {
         "error_y": {
          "array": [
           0.2101064956369214,
           0.3597115866365499,
           0.24897667184173145,
           0.1935711113976737,
           0.16020420287512138,
           0.1378409735008077,
           0.12176578894831636,
           0.10962447065301717,
           0.10011007735036515,
           0.09243854872748614,
           0.08611078155979612,
           0.08079381676377295,
           0.07625691980658189,
           0.0723350772206075,
           0.06890710269694722,
           0.06588195588373225,
           0.06318988998895492,
           0.0607765494165875,
           0.05859893025377971,
           0.05662255153765727
          ],
          "type": "data",
          "visible": true
         },
         "line": {
          "dash": "solid"
         },
         "marker": {
          "symbol": [
           0,
           1
          ]
         },
         "name": "teste: wcpu 0, wodc 0, wd 1, odcs 0",
         "type": "scatter",
         "x": [
          1,
          2,
          3,
          4,
          5,
          6,
          7,
          8,
          9,
          10,
          11,
          12,
          13,
          14,
          15,
          16,
          17,
          18,
          19,
          20
         ],
         "y": [
          42.10843373493976,
          42.235649546827794,
          42.19315895372233,
          42.171945701357465,
          42.15922798552473,
          42.15075376884422,
          42.144702842377264,
          42.14016578749058,
          42.136637642330875,
          42.13381555153707,
          42.131506849315066,
          42.129583124058264,
          42.127955493741304,
          42.12656048213517,
          42.125351546805945,
          42.12429378531073,
          42.12336051045728,
          42.12253096752595,
          42.121788772597526,
          42.12112081952395
         ]
        },
        {
         "error_y": {
          "array": [
           14.904394851521744,
           10.382825577116748,
           8.435988185953562,
           7.287937829973828,
           6.508997395820714,
           5.936089478227061,
           5.491932634505147,
           5.13455752943716,
           4.838947744369975,
           4.589142978132372,
           4.374417748939592,
           4.1872624141130075,
           4.0222410048558,
           3.8753086982347043,
           3.743385191736607,
           3.6240778083594165,
           3.5154959443568714,
           3.416123259432368,
           3.324727508155277,
           3.2402955758954164
          ],
          "type": "data",
          "visible": true
         },
         "line": {
          "dash": "dot"
         },
         "marker": {
          "symbol": [
           0,
           2
          ]
         },
         "name": "teste: wcpu 0, wodc 0, wd 1, odcs 83",
         "type": "scatter",
         "x": [
          1,
          2,
          3,
          4,
          5,
          6,
          7,
          8,
          9,
          10,
          11,
          12,
          13,
          14,
          15,
          16,
          17,
          18,
          19,
          20
         ],
         "y": [
          84.21686746987952,
          84.21686746987952,
          84.21686746987952,
          84.21686746987952,
          84.21686746987952,
          84.21686746987952,
          84.21686746987952,
          84.21686746987952,
          84.21686746987952,
          84.21686746987952,
          84.21686746987952,
          84.21686746987952,
          84.21686746987952,
          84.21686746987952,
          84.21686746987952,
          84.21686746987952,
          84.21686746987952,
          84.21686746987952,
          84.21686746987952,
          84.21686746987952
         ]
        },
        {
         "error_y": {
          "array": [
           24.215562386511323,
           16.7359534880664,
           13.563081957301705,
           11.702466557485593,
           10.443813839758349,
           9.519800350688428,
           8.804355676829687,
           8.229233066071117,
           7.753845681826789,
           7.352343710302563,
           7.007379012821929,
           6.706817994063556,
           6.441885298949131,
           6.20605612396389,
           5.994364662301052,
           5.802955711865508,
           5.62878445855651,
           5.469409839041276,
           5.322848855397751,
           5.187471673198587
          ],
          "type": "data",
          "visible": true
         },
         "line": {
          "dash": "dash"
         },
         "marker": {
          "symbol": [
           0,
           3
          ]
         },
         "name": "teste: wcpu 0, wodc 0, wd 1, odcs 55",
         "type": "scatter",
         "x": [
          1,
          2,
          3,
          4,
          5,
          6,
          7,
          8,
          9,
          10,
          11,
          12,
          13,
          14,
          15,
          16,
          17,
          18,
          19,
          20
         ],
         "y": [
          127.0909090909091,
          127.0909090909091,
          127.0909090909091,
          127.0909090909091,
          127.0909090909091,
          127.0909090909091,
          127.0909090909091,
          127.0909090909091,
          127.0909090909091,
          127.0909090909091,
          127.0909090909091,
          127.0909090909091,
          127.0909090909091,
          127.0909090909091,
          127.0909090909091,
          127.0909090909091,
          127.0909090909091,
          127.0909090909091,
          127.0909090909091,
          127.0909090909091
         ]
        },
        {
         "error_y": {
          "array": [
           42.19632115699923,
           28.922743278431028,
           23.377765814850193,
           20.144631466179362,
           17.964139387320046,
           16.36640486641744,
           15.130914311115959,
           14.138680854147424,
           13.319105195952687,
           12.627300406788635,
           12.033183003365991,
           11.51573489319037,
           11.059768747151907,
           10.654000632733442,
           10.289848162345123,
           9.96065202538307,
           9.661155225703538,
           9.387144914388443,
           9.135200037876444,
           8.90250973580848
          ],
          "type": "data",
          "visible": true
         },
         "line": {
          "dash": "longdash"
         },
         "marker": {
          "symbol": [
           0,
           4
          ]
         },
         "name": "teste: wcpu 0, wodc 0, wd 1, odcs 41",
         "type": "scatter",
         "x": [
          1,
          2,
          3,
          4,
          5,
          6,
          7,
          8,
          9,
          10,
          11,
          12,
          13,
          14,
          15,
          16,
          17,
          18,
          19,
          20
         ],
         "y": [
          170.4878048780488,
          170.4878048780488,
          170.4878048780488,
          170.4878048780488,
          170.4878048780488,
          170.4878048780488,
          170.4878048780488,
          170.4878048780488,
          170.4878048780488,
          170.4878048780488,
          170.4878048780488,
          170.4878048780488,
          170.4878048780488,
          170.4878048780488,
          170.4878048780488,
          170.4878048780488,
          170.4878048780488,
          170.4878048780488,
          170.4878048780488,
          170.4878048780488
         ]
        },
        {
         "error_y": {
          "array": [
           0.2101064956369214,
           0.3597115866365499,
           0.24897667184173145,
           0.1935711113976737,
           0.16020420287512138,
           0.1378409735008077,
           0.12176578894831636,
           0.10962447065301717,
           0.10011007735036515,
           0.09243854872748614,
           0.08611078155979612,
           0.08079381676377295,
           0.07625691980658189,
           0.0723350772206075,
           0.06890710269694722,
           0.06588195588373225,
           0.06318988998895492,
           0.0607765494165875,
           0.05859893025377971,
           0.05662255153765727
          ],
          "type": "data",
          "visible": true
         },
         "line": {
          "dash": "dashdot"
         },
         "marker": {
          "symbol": [
           0,
           5
          ]
         },
         "name": "teste: wcpu 0, wodc 0, wd 0.5, odcs 0",
         "type": "scatter",
         "x": [
          1,
          2,
          3,
          4,
          5,
          6,
          7,
          8,
          9,
          10,
          11,
          12,
          13,
          14,
          15,
          16,
          17,
          18,
          19,
          20
         ],
         "y": [
          42.10843373493976,
          42.235649546827794,
          42.19315895372233,
          42.171945701357465,
          42.15922798552473,
          42.15075376884422,
          42.144702842377264,
          42.14016578749058,
          42.136637642330875,
          42.13381555153707,
          42.131506849315066,
          42.129583124058264,
          42.127955493741304,
          42.12656048213517,
          42.125351546805945,
          42.12429378531073,
          42.12336051045728,
          42.12253096752595,
          42.121788772597526,
          42.12112081952395
         ]
        },
        {
         "error_y": {
          "array": [
           14.904394851521744,
           10.382825577116748,
           8.435988185953562,
           7.287937829973828,
           6.508997395820714,
           5.936089478227061,
           5.491932634505147,
           5.13455752943716,
           4.838947744369975,
           4.589142978132372,
           4.374417748939592,
           4.1872624141130075,
           4.0222410048558,
           3.8753086982347043,
           3.743385191736607,
           3.6240778083594165,
           3.5154959443568714,
           3.416123259432368,
           3.324727508155277,
           3.2402955758954164
          ],
          "type": "data",
          "visible": true
         },
         "line": {
          "dash": "longdashdot"
         },
         "marker": {
          "symbol": [
           0,
           1
          ]
         },
         "name": "teste: wcpu 0, wodc 0, wd 0.5, odcs 83",
         "type": "scatter",
         "x": [
          1,
          2,
          3,
          4,
          5,
          6,
          7,
          8,
          9,
          10,
          11,
          12,
          13,
          14,
          15,
          16,
          17,
          18,
          19,
          20
         ],
         "y": [
          84.21686746987952,
          84.21686746987952,
          84.21686746987952,
          84.21686746987952,
          84.21686746987952,
          84.21686746987952,
          84.21686746987952,
          84.21686746987952,
          84.21686746987952,
          84.21686746987952,
          84.21686746987952,
          84.21686746987952,
          84.21686746987952,
          84.21686746987952,
          84.21686746987952,
          84.21686746987952,
          84.21686746987952,
          84.21686746987952,
          84.21686746987952,
          84.21686746987952
         ]
        },
        {
         "error_y": {
          "array": [
           24.215562386511323,
           16.7359534880664,
           13.563081957301705,
           11.702466557485593,
           10.443813839758349,
           9.519800350688428,
           8.804355676829687,
           8.229233066071117,
           7.753845681826789,
           7.352343710302563,
           7.007379012821929,
           6.706817994063556,
           6.441885298949131,
           6.20605612396389,
           5.994364662301052,
           5.802955711865508,
           5.62878445855651,
           5.469409839041276,
           5.322848855397751,
           5.187471673198587
          ],
          "type": "data",
          "visible": true
         },
         "line": {
          "dash": "solid"
         },
         "marker": {
          "symbol": [
           0,
           2
          ]
         },
         "name": "teste: wcpu 0, wodc 0, wd 0.5, odcs 55",
         "type": "scatter",
         "x": [
          1,
          2,
          3,
          4,
          5,
          6,
          7,
          8,
          9,
          10,
          11,
          12,
          13,
          14,
          15,
          16,
          17,
          18,
          19,
          20
         ],
         "y": [
          127.0909090909091,
          127.0909090909091,
          127.0909090909091,
          127.0909090909091,
          127.0909090909091,
          127.0909090909091,
          127.0909090909091,
          127.0909090909091,
          127.0909090909091,
          127.0909090909091,
          127.0909090909091,
          127.0909090909091,
          127.0909090909091,
          127.0909090909091,
          127.0909090909091,
          127.0909090909091,
          127.0909090909091,
          127.0909090909091,
          127.0909090909091,
          127.0909090909091
         ]
        },
        {
         "error_y": {
          "array": [
           42.19632115699923,
           28.922743278431028,
           23.377765814850193,
           20.144631466179362,
           17.964139387320046,
           16.36640486641744,
           15.130914311115959,
           14.138680854147424,
           13.319105195952687,
           12.627300406788635,
           12.033183003365991,
           11.51573489319037,
           11.059768747151907,
           10.654000632733442,
           10.289848162345123,
           9.96065202538307,
           9.661155225703538,
           9.387144914388443,
           9.135200037876444,
           8.90250973580848
          ],
          "type": "data",
          "visible": true
         },
         "line": {
          "dash": "dot"
         },
         "marker": {
          "symbol": [
           0,
           3
          ]
         },
         "name": "teste: wcpu 0, wodc 0, wd 0.5, odcs 41",
         "type": "scatter",
         "x": [
          1,
          2,
          3,
          4,
          5,
          6,
          7,
          8,
          9,
          10,
          11,
          12,
          13,
          14,
          15,
          16,
          17,
          18,
          19,
          20
         ],
         "y": [
          170.4878048780488,
          170.4878048780488,
          170.4878048780488,
          170.4878048780488,
          170.4878048780488,
          170.4878048780488,
          170.4878048780488,
          170.4878048780488,
          170.4878048780488,
          170.4878048780488,
          170.4878048780488,
          170.4878048780488,
          170.4878048780488,
          170.4878048780488,
          170.4878048780488,
          170.4878048780488,
          170.4878048780488,
          170.4878048780488,
          170.4878048780488,
          170.4878048780488
         ]
        }
       ],
       "layout": {
        "autosize": true,
        "legend": {
         "traceorder": "normal"
        },
        "template": {
         "data": {
          "bar": [
           {
            "error_x": {
             "color": "#2a3f5f"
            },
            "error_y": {
             "color": "#2a3f5f"
            },
            "marker": {
             "line": {
              "color": "#E5ECF6",
              "width": 0.5
             },
             "pattern": {
              "fillmode": "overlay",
              "size": 10,
              "solidity": 0.2
             }
            },
            "type": "bar"
           }
          ],
          "barpolar": [
           {
            "marker": {
             "line": {
              "color": "#E5ECF6",
              "width": 0.5
             },
             "pattern": {
              "fillmode": "overlay",
              "size": 10,
              "solidity": 0.2
             }
            },
            "type": "barpolar"
           }
          ],
          "carpet": [
           {
            "aaxis": {
             "endlinecolor": "#2a3f5f",
             "gridcolor": "white",
             "linecolor": "white",
             "minorgridcolor": "white",
             "startlinecolor": "#2a3f5f"
            },
            "baxis": {
             "endlinecolor": "#2a3f5f",
             "gridcolor": "white",
             "linecolor": "white",
             "minorgridcolor": "white",
             "startlinecolor": "#2a3f5f"
            },
            "type": "carpet"
           }
          ],
          "choropleth": [
           {
            "colorbar": {
             "outlinewidth": 0,
             "ticks": ""
            },
            "type": "choropleth"
           }
          ],
          "contour": [
           {
            "colorbar": {
             "outlinewidth": 0,
             "ticks": ""
            },
            "colorscale": [
             [
              0,
              "#0d0887"
             ],
             [
              0.1111111111111111,
              "#46039f"
             ],
             [
              0.2222222222222222,
              "#7201a8"
             ],
             [
              0.3333333333333333,
              "#9c179e"
             ],
             [
              0.4444444444444444,
              "#bd3786"
             ],
             [
              0.5555555555555556,
              "#d8576b"
             ],
             [
              0.6666666666666666,
              "#ed7953"
             ],
             [
              0.7777777777777778,
              "#fb9f3a"
             ],
             [
              0.8888888888888888,
              "#fdca26"
             ],
             [
              1,
              "#f0f921"
             ]
            ],
            "type": "contour"
           }
          ],
          "contourcarpet": [
           {
            "colorbar": {
             "outlinewidth": 0,
             "ticks": ""
            },
            "type": "contourcarpet"
           }
          ],
          "heatmap": [
           {
            "colorbar": {
             "outlinewidth": 0,
             "ticks": ""
            },
            "colorscale": [
             [
              0,
              "#0d0887"
             ],
             [
              0.1111111111111111,
              "#46039f"
             ],
             [
              0.2222222222222222,
              "#7201a8"
             ],
             [
              0.3333333333333333,
              "#9c179e"
             ],
             [
              0.4444444444444444,
              "#bd3786"
             ],
             [
              0.5555555555555556,
              "#d8576b"
             ],
             [
              0.6666666666666666,
              "#ed7953"
             ],
             [
              0.7777777777777778,
              "#fb9f3a"
             ],
             [
              0.8888888888888888,
              "#fdca26"
             ],
             [
              1,
              "#f0f921"
             ]
            ],
            "type": "heatmap"
           }
          ],
          "heatmapgl": [
           {
            "colorbar": {
             "outlinewidth": 0,
             "ticks": ""
            },
            "colorscale": [
             [
              0,
              "#0d0887"
             ],
             [
              0.1111111111111111,
              "#46039f"
             ],
             [
              0.2222222222222222,
              "#7201a8"
             ],
             [
              0.3333333333333333,
              "#9c179e"
             ],
             [
              0.4444444444444444,
              "#bd3786"
             ],
             [
              0.5555555555555556,
              "#d8576b"
             ],
             [
              0.6666666666666666,
              "#ed7953"
             ],
             [
              0.7777777777777778,
              "#fb9f3a"
             ],
             [
              0.8888888888888888,
              "#fdca26"
             ],
             [
              1,
              "#f0f921"
             ]
            ],
            "type": "heatmapgl"
           }
          ],
          "histogram": [
           {
            "marker": {
             "pattern": {
              "fillmode": "overlay",
              "size": 10,
              "solidity": 0.2
             }
            },
            "type": "histogram"
           }
          ],
          "histogram2d": [
           {
            "colorbar": {
             "outlinewidth": 0,
             "ticks": ""
            },
            "colorscale": [
             [
              0,
              "#0d0887"
             ],
             [
              0.1111111111111111,
              "#46039f"
             ],
             [
              0.2222222222222222,
              "#7201a8"
             ],
             [
              0.3333333333333333,
              "#9c179e"
             ],
             [
              0.4444444444444444,
              "#bd3786"
             ],
             [
              0.5555555555555556,
              "#d8576b"
             ],
             [
              0.6666666666666666,
              "#ed7953"
             ],
             [
              0.7777777777777778,
              "#fb9f3a"
             ],
             [
              0.8888888888888888,
              "#fdca26"
             ],
             [
              1,
              "#f0f921"
             ]
            ],
            "type": "histogram2d"
           }
          ],
          "histogram2dcontour": [
           {
            "colorbar": {
             "outlinewidth": 0,
             "ticks": ""
            },
            "colorscale": [
             [
              0,
              "#0d0887"
             ],
             [
              0.1111111111111111,
              "#46039f"
             ],
             [
              0.2222222222222222,
              "#7201a8"
             ],
             [
              0.3333333333333333,
              "#9c179e"
             ],
             [
              0.4444444444444444,
              "#bd3786"
             ],
             [
              0.5555555555555556,
              "#d8576b"
             ],
             [
              0.6666666666666666,
              "#ed7953"
             ],
             [
              0.7777777777777778,
              "#fb9f3a"
             ],
             [
              0.8888888888888888,
              "#fdca26"
             ],
             [
              1,
              "#f0f921"
             ]
            ],
            "type": "histogram2dcontour"
           }
          ],
          "mesh3d": [
           {
            "colorbar": {
             "outlinewidth": 0,
             "ticks": ""
            },
            "type": "mesh3d"
           }
          ],
          "parcoords": [
           {
            "line": {
             "colorbar": {
              "outlinewidth": 0,
              "ticks": ""
             }
            },
            "type": "parcoords"
           }
          ],
          "pie": [
           {
            "automargin": true,
            "type": "pie"
           }
          ],
          "scatter": [
           {
            "fillpattern": {
             "fillmode": "overlay",
             "size": 10,
             "solidity": 0.2
            },
            "type": "scatter"
           }
          ],
          "scatter3d": [
           {
            "line": {
             "colorbar": {
              "outlinewidth": 0,
              "ticks": ""
             }
            },
            "marker": {
             "colorbar": {
              "outlinewidth": 0,
              "ticks": ""
             }
            },
            "type": "scatter3d"
           }
          ],
          "scattercarpet": [
           {
            "marker": {
             "colorbar": {
              "outlinewidth": 0,
              "ticks": ""
             }
            },
            "type": "scattercarpet"
           }
          ],
          "scattergeo": [
           {
            "marker": {
             "colorbar": {
              "outlinewidth": 0,
              "ticks": ""
             }
            },
            "type": "scattergeo"
           }
          ],
          "scattergl": [
           {
            "marker": {
             "colorbar": {
              "outlinewidth": 0,
              "ticks": ""
             }
            },
            "type": "scattergl"
           }
          ],
          "scattermapbox": [
           {
            "marker": {
             "colorbar": {
              "outlinewidth": 0,
              "ticks": ""
             }
            },
            "type": "scattermapbox"
           }
          ],
          "scatterpolar": [
           {
            "marker": {
             "colorbar": {
              "outlinewidth": 0,
              "ticks": ""
             }
            },
            "type": "scatterpolar"
           }
          ],
          "scatterpolargl": [
           {
            "marker": {
             "colorbar": {
              "outlinewidth": 0,
              "ticks": ""
             }
            },
            "type": "scatterpolargl"
           }
          ],
          "scatterternary": [
           {
            "marker": {
             "colorbar": {
              "outlinewidth": 0,
              "ticks": ""
             }
            },
            "type": "scatterternary"
           }
          ],
          "surface": [
           {
            "colorbar": {
             "outlinewidth": 0,
             "ticks": ""
            },
            "colorscale": [
             [
              0,
              "#0d0887"
             ],
             [
              0.1111111111111111,
              "#46039f"
             ],
             [
              0.2222222222222222,
              "#7201a8"
             ],
             [
              0.3333333333333333,
              "#9c179e"
             ],
             [
              0.4444444444444444,
              "#bd3786"
             ],
             [
              0.5555555555555556,
              "#d8576b"
             ],
             [
              0.6666666666666666,
              "#ed7953"
             ],
             [
              0.7777777777777778,
              "#fb9f3a"
             ],
             [
              0.8888888888888888,
              "#fdca26"
             ],
             [
              1,
              "#f0f921"
             ]
            ],
            "type": "surface"
           }
          ],
          "table": [
           {
            "cells": {
             "fill": {
              "color": "#EBF0F8"
             },
             "line": {
              "color": "white"
             }
            },
            "header": {
             "fill": {
              "color": "#C8D4E3"
             },
             "line": {
              "color": "white"
             }
            },
            "type": "table"
           }
          ]
         },
         "layout": {
          "annotationdefaults": {
           "arrowcolor": "#2a3f5f",
           "arrowhead": 0,
           "arrowwidth": 1
          },
          "autotypenumbers": "strict",
          "coloraxis": {
           "colorbar": {
            "outlinewidth": 0,
            "ticks": ""
           }
          },
          "colorscale": {
           "diverging": [
            [
             0,
             "#8e0152"
            ],
            [
             0.1,
             "#c51b7d"
            ],
            [
             0.2,
             "#de77ae"
            ],
            [
             0.3,
             "#f1b6da"
            ],
            [
             0.4,
             "#fde0ef"
            ],
            [
             0.5,
             "#f7f7f7"
            ],
            [
             0.6,
             "#e6f5d0"
            ],
            [
             0.7,
             "#b8e186"
            ],
            [
             0.8,
             "#7fbc41"
            ],
            [
             0.9,
             "#4d9221"
            ],
            [
             1,
             "#276419"
            ]
           ],
           "sequential": [
            [
             0,
             "#0d0887"
            ],
            [
             0.1111111111111111,
             "#46039f"
            ],
            [
             0.2222222222222222,
             "#7201a8"
            ],
            [
             0.3333333333333333,
             "#9c179e"
            ],
            [
             0.4444444444444444,
             "#bd3786"
            ],
            [
             0.5555555555555556,
             "#d8576b"
            ],
            [
             0.6666666666666666,
             "#ed7953"
            ],
            [
             0.7777777777777778,
             "#fb9f3a"
            ],
            [
             0.8888888888888888,
             "#fdca26"
            ],
            [
             1,
             "#f0f921"
            ]
           ],
           "sequentialminus": [
            [
             0,
             "#0d0887"
            ],
            [
             0.1111111111111111,
             "#46039f"
            ],
            [
             0.2222222222222222,
             "#7201a8"
            ],
            [
             0.3333333333333333,
             "#9c179e"
            ],
            [
             0.4444444444444444,
             "#bd3786"
            ],
            [
             0.5555555555555556,
             "#d8576b"
            ],
            [
             0.6666666666666666,
             "#ed7953"
            ],
            [
             0.7777777777777778,
             "#fb9f3a"
            ],
            [
             0.8888888888888888,
             "#fdca26"
            ],
            [
             1,
             "#f0f921"
            ]
           ]
          },
          "colorway": [
           "#636efa",
           "#EF553B",
           "#00cc96",
           "#ab63fa",
           "#FFA15A",
           "#19d3f3",
           "#FF6692",
           "#B6E880",
           "#FF97FF",
           "#FECB52"
          ],
          "font": {
           "color": "#2a3f5f"
          },
          "geo": {
           "bgcolor": "white",
           "lakecolor": "white",
           "landcolor": "#E5ECF6",
           "showlakes": true,
           "showland": true,
           "subunitcolor": "white"
          },
          "hoverlabel": {
           "align": "left"
          },
          "hovermode": "closest",
          "mapbox": {
           "style": "light"
          },
          "paper_bgcolor": "white",
          "plot_bgcolor": "#E5ECF6",
          "polar": {
           "angularaxis": {
            "gridcolor": "white",
            "linecolor": "white",
            "ticks": ""
           },
           "bgcolor": "#E5ECF6",
           "radialaxis": {
            "gridcolor": "white",
            "linecolor": "white",
            "ticks": ""
           }
          },
          "scene": {
           "xaxis": {
            "backgroundcolor": "#E5ECF6",
            "gridcolor": "white",
            "gridwidth": 2,
            "linecolor": "white",
            "showbackground": true,
            "ticks": "",
            "zerolinecolor": "white"
           },
           "yaxis": {
            "backgroundcolor": "#E5ECF6",
            "gridcolor": "white",
            "gridwidth": 2,
            "linecolor": "white",
            "showbackground": true,
            "ticks": "",
            "zerolinecolor": "white"
           },
           "zaxis": {
            "backgroundcolor": "#E5ECF6",
            "gridcolor": "white",
            "gridwidth": 2,
            "linecolor": "white",
            "showbackground": true,
            "ticks": "",
            "zerolinecolor": "white"
           }
          },
          "shapedefaults": {
           "line": {
            "color": "#2a3f5f"
           }
          },
          "ternary": {
           "aaxis": {
            "gridcolor": "white",
            "linecolor": "white",
            "ticks": ""
           },
           "baxis": {
            "gridcolor": "white",
            "linecolor": "white",
            "ticks": ""
           },
           "bgcolor": "#E5ECF6",
           "caxis": {
            "gridcolor": "white",
            "linecolor": "white",
            "ticks": ""
           }
          },
          "title": {
           "x": 0.05
          },
          "xaxis": {
           "automargin": true,
           "gridcolor": "white",
           "linecolor": "white",
           "ticks": "",
           "title": {
            "standoff": 15
           },
           "zerolinecolor": "white",
           "zerolinewidth": 2
          },
          "yaxis": {
           "automargin": true,
           "gridcolor": "white",
           "linecolor": "white",
           "ticks": "",
           "title": {
            "standoff": 15
           },
           "zerolinecolor": "white",
           "zerolinewidth": 2
          }
         }
        },
        "xaxis": {
         "autorange": true,
         "range": [
          -0.05555555555555536,
          21.055555555555557
         ],
         "title": {
          "text": "Jobs"
         },
         "type": "linear"
        },
        "yaxis": {
         "autorange": true,
         "domain": [
          0,
          1
         ],
         "range": [
          32.386594178254754,
          222.17346981698452
         ],
         "title": {
          "text": "PHY-Jobs-Capacity (CPUs/ODC)"
         },
         "type": "linear"
        }
       }
      },
      "image/png": "[encoded data removed]",
      "text/html": [
       "<div>                            <div id=\"d24a91d0-0184-404d-84ce-a1b5bae1b6db\" class=\"plotly-graph-div\" style=\"height:525px; width:100%;\"></div>            <script type=\"text/javascript\">                require([\"plotly\"], function(Plotly) {                    window.PLOTLYENV=window.PLOTLYENV || {};                                    if (document.getElementById(\"d24a91d0-0184-404d-84ce-a1b5bae1b6db\")) {                    Plotly.newPlot(                        \"d24a91d0-0184-404d-84ce-a1b5bae1b6db\",                        [{\"error_y\":{\"array\":[0.2101064956369214,0.3597115866365499,0.24897667184173145,0.1935711113976737,0.16020420287512138,0.1378409735008077,0.12176578894831636,0.10962447065301717,0.10011007735036515,0.09243854872748614,0.08611078155979612,0.08079381676377295,0.07625691980658189,0.0723350772206075,0.06890710269694722,0.06588195588373225,0.06318988998895492,0.0607765494165875,0.05859893025377971,0.05662255153765727],\"type\":\"data\",\"visible\":true},\"line\":{\"dash\":\"solid\"},\"marker\":{\"symbol\":[0,1]},\"name\":\"teste: wcpu 0, wodc 0, wd 1, odcs 0\",\"x\":[1.0,2.0,3.0,4.0,5.0,6.0,7.0,8.0,9.0,10.0,11.0,12.0,13.0,14.0,15.0,16.0,17.0,18.0,19.0,20.0],\"y\":[42.10843373493976,42.235649546827794,42.19315895372233,42.171945701357465,42.15922798552473,42.15075376884422,42.144702842377264,42.14016578749058,42.136637642330875,42.13381555153707,42.131506849315066,42.129583124058264,42.127955493741304,42.12656048213517,42.125351546805945,42.12429378531073,42.12336051045728,42.12253096752595,42.121788772597526,42.12112081952395],\"type\":\"scatter\"},{\"error_y\":{\"array\":[14.904394851521744,10.382825577116748,8.435988185953562,7.287937829973828,6.508997395820714,5.936089478227061,5.491932634505147,5.13455752943716,4.838947744369975,4.589142978132372,4.374417748939592,4.1872624141130075,4.0222410048558,3.8753086982347043,3.743385191736607,3.6240778083594165,3.5154959443568714,3.416123259432368,3.324727508155277,3.2402955758954164],\"type\":\"data\",\"visible\":true},\"line\":{\"dash\":\"dot\"},\"marker\":{\"symbol\":[0,2]},\"name\":\"teste: wcpu 0, wodc 0, wd 1, odcs 83\",\"x\":[1.0,2.0,3.0,4.0,5.0,6.0,7.0,8.0,9.0,10.0,11.0,12.0,13.0,14.0,15.0,16.0,17.0,18.0,19.0,20.0],\"y\":[84.21686746987952,84.21686746987952,84.21686746987952,84.21686746987952,84.21686746987952,84.21686746987952,84.21686746987952,84.21686746987952,84.21686746987952,84.21686746987952,84.21686746987952,84.21686746987952,84.21686746987952,84.21686746987952,84.21686746987952,84.21686746987952,84.21686746987952,84.21686746987952,84.21686746987952,84.21686746987952],\"type\":\"scatter\"},{\"error_y\":{\"array\":[24.215562386511323,16.7359534880664,13.563081957301705,11.702466557485593,10.443813839758349,9.519800350688428,8.804355676829687,8.229233066071117,7.753845681826789,7.352343710302563,7.007379012821929,6.706817994063556,6.441885298949131,6.20605612396389,5.994364662301052,5.802955711865508,5.62878445855651,5.469409839041276,5.322848855397751,5.187471673198587],\"type\":\"data\",\"visible\":true},\"line\":{\"dash\":\"dash\"},\"marker\":{\"symbol\":[0,3]},\"name\":\"teste: wcpu 0, wodc 0, wd 1, odcs 55\",\"x\":[1.0,2.0,3.0,4.0,5.0,6.0,7.0,8.0,9.0,10.0,11.0,12.0,13.0,14.0,15.0,16.0,17.0,18.0,19.0,20.0],\"y\":[127.0909090909091,127.0909090909091,127.0909090909091,127.0909090909091,127.0909090909091,127.0909090909091,127.0909090909091,127.0909090909091,127.0909090909091,127.0909090909091,127.0909090909091,127.0909090909091,127.0909090909091,127.0909090909091,127.0909090909091,127.0909090909091,127.0909090909091,127.0909090909091,127.0909090909091,127.0909090909091],\"type\":\"scatter\"},{\"error_y\":{\"array\":[42.19632115699923,28.922743278431028,23.377765814850193,20.144631466179362,17.964139387320046,16.36640486641744,15.130914311115959,14.138680854147424,13.319105195952687,12.627300406788635,12.033183003365991,11.51573489319037,11.059768747151907,10.654000632733442,10.289848162345123,9.96065202538307,9.661155225703538,9.387144914388443,9.135200037876444,8.90250973580848],\"type\":\"data\",\"visible\":true},\"line\":{\"dash\":\"longdash\"},\"marker\":{\"symbol\":[0,4]},\"name\":\"teste: wcpu 0, wodc 0, wd 1, odcs 41\",\"x\":[1.0,2.0,3.0,4.0,5.0,6.0,7.0,8.0,9.0,10.0,11.0,12.0,13.0,14.0,15.0,16.0,17.0,18.0,19.0,20.0],\"y\":[170.4878048780488,170.4878048780488,170.4878048780488,170.4878048780488,170.4878048780488,170.4878048780488,170.4878048780488,170.4878048780488,170.4878048780488,170.4878048780488,170.4878048780488,170.4878048780488,170.4878048780488,170.4878048780488,170.4878048780488,170.4878048780488,170.4878048780488,170.4878048780488,170.4878048780488,170.4878048780488],\"type\":\"scatter\"},{\"error_y\":{\"array\":[0.2101064956369214,0.3597115866365499,0.24897667184173145,0.1935711113976737,0.16020420287512138,0.1378409735008077,0.12176578894831636,0.10962447065301717,0.10011007735036515,0.09243854872748614,0.08611078155979612,0.08079381676377295,0.07625691980658189,0.0723350772206075,0.06890710269694722,0.06588195588373225,0.06318988998895492,0.0607765494165875,0.05859893025377971,0.05662255153765727],\"type\":\"data\",\"visible\":true},\"line\":{\"dash\":\"dashdot\"},\"marker\":{\"symbol\":[0,5]},\"name\":\"teste: wcpu 0, wodc 0, wd 0.5, odcs 0\",\"x\":[1.0,2.0,3.0,4.0,5.0,6.0,7.0,8.0,9.0,10.0,11.0,12.0,13.0,14.0,15.0,16.0,17.0,18.0,19.0,20.0],\"y\":[42.10843373493976,42.235649546827794,42.19315895372233,42.171945701357465,42.15922798552473,42.15075376884422,42.144702842377264,42.14016578749058,42.136637642330875,42.13381555153707,42.131506849315066,42.129583124058264,42.127955493741304,42.12656048213517,42.125351546805945,42.12429378531073,42.12336051045728,42.12253096752595,42.121788772597526,42.12112081952395],\"type\":\"scatter\"},{\"error_y\":{\"array\":[14.904394851521744,10.382825577116748,8.435988185953562,7.287937829973828,6.508997395820714,5.936089478227061,5.491932634505147,5.13455752943716,4.838947744369975,4.589142978132372,4.374417748939592,4.1872624141130075,4.0222410048558,3.8753086982347043,3.743385191736607,3.6240778083594165,3.5154959443568714,3.416123259432368,3.324727508155277,3.2402955758954164],\"type\":\"data\",\"visible\":true},\"line\":{\"dash\":\"longdashdot\"},\"marker\":{\"symbol\":[0,1]},\"name\":\"teste: wcpu 0, wodc 0, wd 0.5, odcs 83\",\"x\":[1.0,2.0,3.0,4.0,5.0,6.0,7.0,8.0,9.0,10.0,11.0,12.0,13.0,14.0,15.0,16.0,17.0,18.0,19.0,20.0],\"y\":[84.21686746987952,84.21686746987952,84.21686746987952,84.21686746987952,84.21686746987952,84.21686746987952,84.21686746987952,84.21686746987952,84.21686746987952,84.21686746987952,84.21686746987952,84.21686746987952,84.21686746987952,84.21686746987952,84.21686746987952,84.21686746987952,84.21686746987952,84.21686746987952,84.21686746987952,84.21686746987952],\"type\":\"scatter\"},{\"error_y\":{\"array\":[24.215562386511323,16.7359534880664,13.563081957301705,11.702466557485593,10.443813839758349,9.519800350688428,8.804355676829687,8.229233066071117,7.753845681826789,7.352343710302563,7.007379012821929,6.706817994063556,6.441885298949131,6.20605612396389,5.994364662301052,5.802955711865508,5.62878445855651,5.469409839041276,5.322848855397751,5.187471673198587],\"type\":\"data\",\"visible\":true},\"line\":{\"dash\":\"solid\"},\"marker\":{\"symbol\":[0,2]},\"name\":\"teste: wcpu 0, wodc 0, wd 0.5, odcs 55\",\"x\":[1.0,2.0,3.0,4.0,5.0,6.0,7.0,8.0,9.0,10.0,11.0,12.0,13.0,14.0,15.0,16.0,17.0,18.0,19.0,20.0],\"y\":[127.0909090909091,127.0909090909091,127.0909090909091,127.0909090909091,127.0909090909091,127.0909090909091,127.0909090909091,127.0909090909091,127.0909090909091,127.0909090909091,127.0909090909091,127.0909090909091,127.0909090909091,127.0909090909091,127.0909090909091,127.0909090909091,127.0909090909091,127.0909090909091,127.0909090909091,127.0909090909091],\"type\":\"scatter\"},{\"error_y\":{\"array\":[42.19632115699923,28.922743278431028,23.377765814850193,20.144631466179362,17.964139387320046,16.36640486641744,15.130914311115959,14.138680854147424,13.319105195952687,12.627300406788635,12.033183003365991,11.51573489319037,11.059768747151907,10.654000632733442,10.289848162345123,9.96065202538307,9.661155225703538,9.387144914388443,9.135200037876444,8.90250973580848],\"type\":\"data\",\"visible\":true},\"line\":{\"dash\":\"dot\"},\"marker\":{\"symbol\":[0,3]},\"name\":\"teste: wcpu 0, wodc 0, wd 0.5, odcs 41\",\"x\":[1.0,2.0,3.0,4.0,5.0,6.0,7.0,8.0,9.0,10.0,11.0,12.0,13.0,14.0,15.0,16.0,17.0,18.0,19.0,20.0],\"y\":[170.4878048780488,170.4878048780488,170.4878048780488,170.4878048780488,170.4878048780488,170.4878048780488,170.4878048780488,170.4878048780488,170.4878048780488,170.4878048780488,170.4878048780488,170.4878048780488,170.4878048780488,170.4878048780488,170.4878048780488,170.4878048780488,170.4878048780488,170.4878048780488,170.4878048780488,170.4878048780488],\"type\":\"scatter\"}],                        {\"legend\":{\"traceorder\":\"normal\"},\"xaxis\":{\"title\":{\"text\":\"Jobs\"}},\"yaxis\":{\"domain\":[0,1],\"title\":{\"text\":\"PHY-Jobs-Capacity (CPUs\\u002fODC)\"}},\"template\":{\"data\":{\"histogram2dcontour\":[{\"type\":\"histogram2dcontour\",\"colorbar\":{\"outlinewidth\":0,\"ticks\":\"\"},\"colorscale\":[[0.0,\"#0d0887\"],[0.1111111111111111,\"#46039f\"],[0.2222222222222222,\"#7201a8\"],[0.3333333333333333,\"#9c179e\"],[0.4444444444444444,\"#bd3786\"],[0.5555555555555556,\"#d8576b\"],[0.6666666666666666,\"#ed7953\"],[0.7777777777777778,\"#fb9f3a\"],[0.8888888888888888,\"#fdca26\"],[1.0,\"#f0f921\"]]}],\"choropleth\":[{\"type\":\"choropleth\",\"colorbar\":{\"outlinewidth\":0,\"ticks\":\"\"}}],\"histogram2d\":[{\"type\":\"histogram2d\",\"colorbar\":{\"outlinewidth\":0,\"ticks\":\"\"},\"colorscale\":[[0.0,\"#0d0887\"],[0.1111111111111111,\"#46039f\"],[0.2222222222222222,\"#7201a8\"],[0.3333333333333333,\"#9c179e\"],[0.4444444444444444,\"#bd3786\"],[0.5555555555555556,\"#d8576b\"],[0.6666666666666666,\"#ed7953\"],[0.7777777777777778,\"#fb9f3a\"],[0.8888888888888888,\"#fdca26\"],[1.0,\"#f0f921\"]]}],\"heatmap\":[{\"type\":\"heatmap\",\"colorbar\":{\"outlinewidth\":0,\"ticks\":\"\"},\"colorscale\":[[0.0,\"#0d0887\"],[0.1111111111111111,\"#46039f\"],[0.2222222222222222,\"#7201a8\"],[0.3333333333333333,\"#9c179e\"],[0.4444444444444444,\"#bd3786\"],[0.5555555555555556,\"#d8576b\"],[0.6666666666666666,\"#ed7953\"],[0.7777777777777778,\"#fb9f3a\"],[0.8888888888888888,\"#fdca26\"],[1.0,\"#f0f921\"]]}],\"heatmapgl\":[{\"type\":\"heatmapgl\",\"colorbar\":{\"outlinewidth\":0,\"ticks\":\"\"},\"colorscale\":[[0.0,\"#0d0887\"],[0.1111111111111111,\"#46039f\"],[0.2222222222222222,\"#7201a8\"],[0.3333333333333333,\"#9c179e\"],[0.4444444444444444,\"#bd3786\"],[0.5555555555555556,\"#d8576b\"],[0.6666666666666666,\"#ed7953\"],[0.7777777777777778,\"#fb9f3a\"],[0.8888888888888888,\"#fdca26\"],[1.0,\"#f0f921\"]]}],\"contourcarpet\":[{\"type\":\"contourcarpet\",\"colorbar\":{\"outlinewidth\":0,\"ticks\":\"\"}}],\"contour\":[{\"type\":\"contour\",\"colorbar\":{\"outlinewidth\":0,\"ticks\":\"\"},\"colorscale\":[[0.0,\"#0d0887\"],[0.1111111111111111,\"#46039f\"],[0.2222222222222222,\"#7201a8\"],[0.3333333333333333,\"#9c179e\"],[0.4444444444444444,\"#bd3786\"],[0.5555555555555556,\"#d8576b\"],[0.6666666666666666,\"#ed7953\"],[0.7777777777777778,\"#fb9f3a\"],[0.8888888888888888,\"#fdca26\"],[1.0,\"#f0f921\"]]}],\"surface\":[{\"type\":\"surface\",\"colorbar\":{\"outlinewidth\":0,\"ticks\":\"\"},\"colorscale\":[[0.0,\"#0d0887\"],[0.1111111111111111,\"#46039f\"],[0.2222222222222222,\"#7201a8\"],[0.3333333333333333,\"#9c179e\"],[0.4444444444444444,\"#bd3786\"],[0.5555555555555556,\"#d8576b\"],[0.6666666666666666,\"#ed7953\"],[0.7777777777777778,\"#fb9f3a\"],[0.8888888888888888,\"#fdca26\"],[1.0,\"#f0f921\"]]}],\"mesh3d\":[{\"type\":\"mesh3d\",\"colorbar\":{\"outlinewidth\":0,\"ticks\":\"\"}}],\"scatter\":[{\"fillpattern\":{\"fillmode\":\"overlay\",\"size\":10,\"solidity\":0.2},\"type\":\"scatter\"}],\"parcoords\":[{\"type\":\"parcoords\",\"line\":{\"colorbar\":{\"outlinewidth\":0,\"ticks\":\"\"}}}],\"scatterpolargl\":[{\"type\":\"scatterpolargl\",\"marker\":{\"colorbar\":{\"outlinewidth\":0,\"ticks\":\"\"}}}],\"bar\":[{\"error_x\":{\"color\":\"#2a3f5f\"},\"error_y\":{\"color\":\"#2a3f5f\"},\"marker\":{\"line\":{\"color\":\"#E5ECF6\",\"width\":0.5},\"pattern\":{\"fillmode\":\"overlay\",\"size\":10,\"solidity\":0.2}},\"type\":\"bar\"}],\"scattergeo\":[{\"type\":\"scattergeo\",\"marker\":{\"colorbar\":{\"outlinewidth\":0,\"ticks\":\"\"}}}],\"scatterpolar\":[{\"type\":\"scatterpolar\",\"marker\":{\"colorbar\":{\"outlinewidth\":0,\"ticks\":\"\"}}}],\"histogram\":[{\"marker\":{\"pattern\":{\"fillmode\":\"overlay\",\"size\":10,\"solidity\":0.2}},\"type\":\"histogram\"}],\"scattergl\":[{\"type\":\"scattergl\",\"marker\":{\"colorbar\":{\"outlinewidth\":0,\"ticks\":\"\"}}}],\"scatter3d\":[{\"type\":\"scatter3d\",\"line\":{\"colorbar\":{\"outlinewidth\":0,\"ticks\":\"\"}},\"marker\":{\"colorbar\":{\"outlinewidth\":0,\"ticks\":\"\"}}}],\"scattermapbox\":[{\"type\":\"scattermapbox\",\"marker\":{\"colorbar\":{\"outlinewidth\":0,\"ticks\":\"\"}}}],\"scatterternary\":[{\"type\":\"scatterternary\",\"marker\":{\"colorbar\":{\"outlinewidth\":0,\"ticks\":\"\"}}}],\"scattercarpet\":[{\"type\":\"scattercarpet\",\"marker\":{\"colorbar\":{\"outlinewidth\":0,\"ticks\":\"\"}}}],\"carpet\":[{\"aaxis\":{\"endlinecolor\":\"#2a3f5f\",\"gridcolor\":\"white\",\"linecolor\":\"white\",\"minorgridcolor\":\"white\",\"startlinecolor\":\"#2a3f5f\"},\"baxis\":{\"endlinecolor\":\"#2a3f5f\",\"gridcolor\":\"white\",\"linecolor\":\"white\",\"minorgridcolor\":\"white\",\"startlinecolor\":\"#2a3f5f\"},\"type\":\"carpet\"}],\"table\":[{\"cells\":{\"fill\":{\"color\":\"#EBF0F8\"},\"line\":{\"color\":\"white\"}},\"header\":{\"fill\":{\"color\":\"#C8D4E3\"},\"line\":{\"color\":\"white\"}},\"type\":\"table\"}],\"barpolar\":[{\"marker\":{\"line\":{\"color\":\"#E5ECF6\",\"width\":0.5},\"pattern\":{\"fillmode\":\"overlay\",\"size\":10,\"solidity\":0.2}},\"type\":\"barpolar\"}],\"pie\":[{\"automargin\":true,\"type\":\"pie\"}]},\"layout\":{\"autotypenumbers\":\"strict\",\"colorway\":[\"#636efa\",\"#EF553B\",\"#00cc96\",\"#ab63fa\",\"#FFA15A\",\"#19d3f3\",\"#FF6692\",\"#B6E880\",\"#FF97FF\",\"#FECB52\"],\"font\":{\"color\":\"#2a3f5f\"},\"hovermode\":\"closest\",\"hoverlabel\":{\"align\":\"left\"},\"paper_bgcolor\":\"white\",\"plot_bgcolor\":\"#E5ECF6\",\"polar\":{\"bgcolor\":\"#E5ECF6\",\"angularaxis\":{\"gridcolor\":\"white\",\"linecolor\":\"white\",\"ticks\":\"\"},\"radialaxis\":{\"gridcolor\":\"white\",\"linecolor\":\"white\",\"ticks\":\"\"}},\"ternary\":{\"bgcolor\":\"#E5ECF6\",\"aaxis\":{\"gridcolor\":\"white\",\"linecolor\":\"white\",\"ticks\":\"\"},\"baxis\":{\"gridcolor\":\"white\",\"linecolor\":\"white\",\"ticks\":\"\"},\"caxis\":{\"gridcolor\":\"white\",\"linecolor\":\"white\",\"ticks\":\"\"}},\"coloraxis\":{\"colorbar\":{\"outlinewidth\":0,\"ticks\":\"\"}},\"colorscale\":{\"sequential\":[[0.0,\"#0d0887\"],[0.1111111111111111,\"#46039f\"],[0.2222222222222222,\"#7201a8\"],[0.3333333333333333,\"#9c179e\"],[0.4444444444444444,\"#bd3786\"],[0.5555555555555556,\"#d8576b\"],[0.6666666666666666,\"#ed7953\"],[0.7777777777777778,\"#fb9f3a\"],[0.8888888888888888,\"#fdca26\"],[1.0,\"#f0f921\"]],\"sequentialminus\":[[0.0,\"#0d0887\"],[0.1111111111111111,\"#46039f\"],[0.2222222222222222,\"#7201a8\"],[0.3333333333333333,\"#9c179e\"],[0.4444444444444444,\"#bd3786\"],[0.5555555555555556,\"#d8576b\"],[0.6666666666666666,\"#ed7953\"],[0.7777777777777778,\"#fb9f3a\"],[0.8888888888888888,\"#fdca26\"],[1.0,\"#f0f921\"]],\"diverging\":[[0,\"#8e0152\"],[0.1,\"#c51b7d\"],[0.2,\"#de77ae\"],[0.3,\"#f1b6da\"],[0.4,\"#fde0ef\"],[0.5,\"#f7f7f7\"],[0.6,\"#e6f5d0\"],[0.7,\"#b8e186\"],[0.8,\"#7fbc41\"],[0.9,\"#4d9221\"],[1,\"#276419\"]]},\"xaxis\":{\"gridcolor\":\"white\",\"linecolor\":\"white\",\"ticks\":\"\",\"title\":{\"standoff\":15},\"zerolinecolor\":\"white\",\"automargin\":true,\"zerolinewidth\":2},\"yaxis\":{\"gridcolor\":\"white\",\"linecolor\":\"white\",\"ticks\":\"\",\"title\":{\"standoff\":15},\"zerolinecolor\":\"white\",\"automargin\":true,\"zerolinewidth\":2},\"scene\":{\"xaxis\":{\"backgroundcolor\":\"#E5ECF6\",\"gridcolor\":\"white\",\"linecolor\":\"white\",\"showbackground\":true,\"ticks\":\"\",\"zerolinecolor\":\"white\",\"gridwidth\":2},\"yaxis\":{\"backgroundcolor\":\"#E5ECF6\",\"gridcolor\":\"white\",\"linecolor\":\"white\",\"showbackground\":true,\"ticks\":\"\",\"zerolinecolor\":\"white\",\"gridwidth\":2},\"zaxis\":{\"backgroundcolor\":\"#E5ECF6\",\"gridcolor\":\"white\",\"linecolor\":\"white\",\"showbackground\":true,\"ticks\":\"\",\"zerolinecolor\":\"white\",\"gridwidth\":2}},\"shapedefaults\":{\"line\":{\"color\":\"#2a3f5f\"}},\"annotationdefaults\":{\"arrowcolor\":\"#2a3f5f\",\"arrowhead\":0,\"arrowwidth\":1},\"geo\":{\"bgcolor\":\"white\",\"landcolor\":\"#E5ECF6\",\"subunitcolor\":\"white\",\"showland\":true,\"showlakes\":true,\"lakecolor\":\"white\"},\"title\":{\"x\":0.05},\"mapbox\":{\"style\":\"light\"}}}},                        {\"responsive\": true}                    ).then(function(){\n",
       "                            \n",
       "var gd = document.getElementById('d24a91d0-0184-404d-84ce-a1b5bae1b6db');\n",
       "var x = new MutationObserver(function (mutations, observer) {{\n",
       "        var display = window.getComputedStyle(gd).display;\n",
       "        if (!display || display === 'none') {{\n",
       "            console.log([gd, 'removed!']);\n",
       "            Plotly.purge(gd);\n",
       "            observer.disconnect();\n",
       "        }}\n",
       "}});\n",
       "\n",
       "// Listen for the removal of the full notebook cells\n",
       "var notebookContainer = gd.closest('#notebook-container');\n",
       "if (notebookContainer) {{\n",
       "    x.observe(notebookContainer, {childList: true});\n",
       "}}\n",
       "\n",
       "// Listen for the clearing of the current output cell\n",
       "var outputEl = gd.closest('.output');\n",
       "if (outputEl) {{\n",
       "    x.observe(outputEl, {childList: true});\n",
       "}}\n",
       "\n",
       "                        })                };                });            </script>        </div>"
      ]
     },
     "metadata": {},
     "output_type": "display_data"
    },
    {
     "name": "stdout",
     "output_type": "stream",
     "text": [
      "3 1 3\n"
     ]
    },
    {
     "name": "stderr",
     "output_type": "stream",
     "text": [
      "No artists with labels found to put in legend.  Note that artists whose label start with an underscore are ignored when legend() is called with no argument.\n"
     ]
    },
    {
     "data": {
      "image/png": "[encoded data removed]",
      "text/plain": [
       "<Figure size 2000x1000 with 1 Axes>"
      ]
     },
     "metadata": {},
     "output_type": "display_data"
    },
    {
     "data": {
      "application/vnd.plotly.v1+json": {
       "config": {
        "plotlyServerURL": "https://plot.ly"
       },
       "data": [
        {
         "error_y": {
          "array": [
           null,
           0.004215525420752404,
           0.0028020703903881023,
           0.002098464255312856,
           0.0016772930829229405,
           0.0013969243911635437,
           0.0011968624234332253,
           0.0010469259050090974,
           0.000930373696487915,
           0.0008371728952831118,
           0.0007609447595374411,
           0.0006974399095426302,
           0.0006437182346362264,
           0.0005976807100386551,
           0.0005577887064380167,
           0.0005228886741048236,
           0.0004920987671594206,
           0.00046473329663674533,
           0.0004402510625343144,
           0.0004182191998578622
          ],
          "type": "data",
          "visible": true
         },
         "line": {
          "dash": "solid"
         },
         "marker": {
          "symbol": [
           0,
           1
          ]
         },
         "name": "teste: wcpu 0, wodc 0, wd 1, odcs 0",
         "type": "scatter",
         "x": [
          1,
          2,
          3,
          4,
          5,
          6,
          7,
          8,
          9,
          10,
          11,
          12,
          13,
          14,
          15,
          16,
          17,
          18,
          19,
          20
         ],
         "y": [
          0,
          0.0016271075064726718,
          0.0010836470515944757,
          0.0008123266736688603,
          0.0006496653614504878,
          0.0005412789795401551,
          0.00046388680847756625,
          0.00040585726046906887,
          0.00036073180485094065,
          0.00032463688043547583,
          0.00029510826555750923,
          0.000270503558333729,
          0.0002496859455922366,
          0.00023184355774535272,
          0.00021638111074425648,
          0.00020285219760544422,
          0.0001909154855166446,
          0.00018030551879559905,
          0.00017081274489135883,
          0.00016226953439061597
         ]
        },
        {
         "error_y": {
          "array": [
           0.40283547816303833,
           0.2806266572851972,
           0.22800760235625228,
           0.19697813630187433,
           0.17592496068632357,
           0.1604404249352016,
           0.14843576883862486,
           0.1387766466288476,
           0.1307869153916177,
           0.12403520064860274,
           0.11823161444216868,
           0.1131731864048886,
           0.10871299335662932,
           0.10474171196044013,
           0.10117608790454757,
           0.09795145199615174,
           0.09501670506136861,
           0.09233086350612951,
           0.08986062224276048,
           0.08757859884342323
          ],
          "type": "data",
          "visible": true
         },
         "line": {
          "dash": "dot"
         },
         "marker": {
          "symbol": [
           0,
           2
          ]
         },
         "name": "teste: wcpu 0, wodc 0, wd 1, odcs 83",
         "type": "scatter",
         "x": [
          1,
          2,
          3,
          4,
          5,
          6,
          7,
          8,
          9,
          10,
          11,
          12,
          13,
          14,
          15,
          16,
          17,
          18,
          19,
          20
         ],
         "y": [
          1.1769901979514799,
          1.1769901979514799,
          1.1769901979514799,
          1.17699019795148,
          1.17699019795148,
          1.1769901979514799,
          1.1769901979514799,
          1.17699019795148,
          1.1769901979514799,
          1.1769901979514799,
          1.17699019795148,
          1.1769901979514799,
          1.17699019795148,
          1.1769901979514799,
          1.1769901979514799,
          1.17699019795148,
          1.1769901979514799,
          1.1769901979514799,
          1.17699019795148,
          1.1769901979514799
         ]
        },
        {
         "error_y": {
          "array": [
           0.8638579561269744,
           0.5970328643736278,
           0.48384489574950784,
           0.4174699179245529,
           0.37256915754348574,
           0.33960620622477844,
           0.31408366977417757,
           0.2935669361496447,
           0.2766081239788978,
           0.2622850755621049,
           0.2499789191431412,
           0.23925680485928424,
           0.2298056835985096,
           0.22139279168023895,
           0.21384098055635414,
           0.20701272102356016,
           0.20079939339159925,
           0.1951139159752402,
           0.18988554796307344,
           0.18505614718128793
          ],
          "type": "data",
          "visible": true
         },
         "line": {
          "dash": "dash"
         },
         "marker": {
          "symbol": [
           0,
           3
          ]
         },
         "name": "teste: wcpu 0, wodc 0, wd 1, odcs 55",
         "type": "scatter",
         "x": [
          1,
          2,
          3,
          4,
          5,
          6,
          7,
          8,
          9,
          10,
          11,
          12,
          13,
          14,
          15,
          16,
          17,
          18,
          19,
          20
         ],
         "y": [
          3.2174626179335224,
          3.217462617933522,
          3.2174626179335224,
          3.217462617933522,
          3.2174626179335215,
          3.2174626179335224,
          3.217462617933522,
          3.217462617933522,
          3.217462617933522,
          3.2174626179335215,
          3.217462617933522,
          3.2174626179335215,
          3.2174626179335215,
          3.217462617933522,
          3.217462617933522,
          3.217462617933522,
          3.2174626179335215,
          3.217462617933522,
          3.2174626179335215,
          3.2174626179335215
         ]
        },
        {
         "error_y": {
          "array": [
           1.7290207258167305,
           1.1851275467787739,
           0.9579186172835623,
           0.8254389094577865,
           0.736091878876624,
           0.6706237047503771,
           0.6199987043215724,
           0.5793413160728624,
           0.5457586894234643,
           0.5174115542731403,
           0.493067221025127,
           0.47186446015648364,
           0.4531809613311246,
           0.43655435833664313,
           0.42163298245849123,
           0.4081439642678184,
           0.39587189505033926,
           0.3846441506792466,
           0.37432055133911035,
           0.36478592026368784
          ],
          "type": "data",
          "visible": true
         },
         "line": {
          "dash": "longdash"
         },
         "marker": {
          "symbol": [
           0,
           4
          ]
         },
         "name": "teste: wcpu 0, wodc 0, wd 1, odcs 41",
         "type": "scatter",
         "x": [
          1,
          2,
          3,
          4,
          5,
          6,
          7,
          8,
          9,
          10,
          11,
          12,
          13,
          14,
          15,
          16,
          17,
          18,
          19,
          20
         ],
         "y": [
          5.850647444766555,
          5.850647444766554,
          5.850647444766554,
          5.850647444766554,
          5.850647444766554,
          5.850647444766554,
          5.850647444766555,
          5.850647444766554,
          5.850647444766555,
          5.850647444766555,
          5.850647444766555,
          5.850647444766555,
          5.850647444766555,
          5.850647444766555,
          5.850647444766555,
          5.850647444766554,
          5.850647444766554,
          5.850647444766555,
          5.850647444766554,
          5.850647444766554
         ]
        },
        {
         "error_y": {
          "array": [
           null,
           0.004215525420752404,
           0.0028020703903881023,
           0.002098464255312856,
           0.0016772930829229405,
           0.0013969243911635437,
           0.0011968624234332253,
           0.0010469259050090974,
           0.000930373696487915,
           0.0008371728952831118,
           0.0007609447595374411,
           0.0006974399095426302,
           0.0006437182346362264,
           0.0005976807100386551,
           0.0005577887064380167,
           0.0005228886741048236,
           0.0004920987671594206,
           0.00046473329663674533,
           0.0004402510625343144,
           0.0004182191998578622
          ],
          "type": "data",
          "visible": true
         },
         "line": {
          "dash": "dashdot"
         },
         "marker": {
          "symbol": [
           0,
           5
          ]
         },
         "name": "teste: wcpu 0, wodc 0, wd 0.5, odcs 0",
         "type": "scatter",
         "x": [
          1,
          2,
          3,
          4,
          5,
          6,
          7,
          8,
          9,
          10,
          11,
          12,
          13,
          14,
          15,
          16,
          17,
          18,
          19,
          20
         ],
         "y": [
          0,
          0.0016271075064726718,
          0.0010836470515944757,
          0.0008123266736688603,
          0.0006496653614504878,
          0.0005412789795401551,
          0.00046388680847756625,
          0.00040585726046906887,
          0.00036073180485094065,
          0.00032463688043547583,
          0.00029510826555750923,
          0.000270503558333729,
          0.0002496859455922366,
          0.00023184355774535272,
          0.00021638111074425648,
          0.00020285219760544422,
          0.0001909154855166446,
          0.00018030551879559905,
          0.00017081274489135883,
          0.00016226953439061597
         ]
        },
        {
         "error_y": {
          "array": [
           0.40283547816303833,
           0.2806266572851972,
           0.22800760235625228,
           0.19697813630187433,
           0.17592496068632357,
           0.1604404249352016,
           0.14843576883862486,
           0.1387766466288476,
           0.1307869153916177,
           0.12403520064860274,
           0.11823161444216868,
           0.1131731864048886,
           0.10871299335662932,
           0.10474171196044013,
           0.10117608790454757,
           0.09795145199615174,
           0.09501670506136861,
           0.09233086350612951,
           0.08986062224276048,
           0.08757859884342323
          ],
          "type": "data",
          "visible": true
         },
         "line": {
          "dash": "longdashdot"
         },
         "marker": {
          "symbol": [
           0,
           1
          ]
         },
         "name": "teste: wcpu 0, wodc 0, wd 0.5, odcs 83",
         "type": "scatter",
         "x": [
          1,
          2,
          3,
          4,
          5,
          6,
          7,
          8,
          9,
          10,
          11,
          12,
          13,
          14,
          15,
          16,
          17,
          18,
          19,
          20
         ],
         "y": [
          1.1769901979514799,
          1.1769901979514799,
          1.1769901979514799,
          1.17699019795148,
          1.17699019795148,
          1.1769901979514799,
          1.1769901979514799,
          1.17699019795148,
          1.1769901979514799,
          1.1769901979514799,
          1.17699019795148,
          1.1769901979514799,
          1.17699019795148,
          1.1769901979514799,
          1.1769901979514799,
          1.17699019795148,
          1.1769901979514799,
          1.1769901979514799,
          1.17699019795148,
          1.1769901979514799
         ]
        },
        {
         "error_y": {
          "array": [
           0.8638579561269744,
           0.5970328643736278,
           0.48384489574950784,
           0.4174699179245529,
           0.37256915754348574,
           0.33960620622477844,
           0.31408366977417757,
           0.2935669361496447,
           0.2766081239788978,
           0.2622850755621049,
           0.2499789191431412,
           0.23925680485928424,
           0.2298056835985096,
           0.22139279168023895,
           0.21384098055635414,
           0.20701272102356016,
           0.20079939339159925,
           0.1951139159752402,
           0.18988554796307344,
           0.18505614718128793
          ],
          "type": "data",
          "visible": true
         },
         "line": {
          "dash": "solid"
         },
         "marker": {
          "symbol": [
           0,
           2
          ]
         },
         "name": "teste: wcpu 0, wodc 0, wd 0.5, odcs 55",
         "type": "scatter",
         "x": [
          1,
          2,
          3,
          4,
          5,
          6,
          7,
          8,
          9,
          10,
          11,
          12,
          13,
          14,
          15,
          16,
          17,
          18,
          19,
          20
         ],
         "y": [
          3.2174626179335224,
          3.217462617933522,
          3.2174626179335224,
          3.217462617933522,
          3.2174626179335215,
          3.2174626179335224,
          3.217462617933522,
          3.217462617933522,
          3.217462617933522,
          3.2174626179335215,
          3.217462617933522,
          3.2174626179335215,
          3.2174626179335215,
          3.217462617933522,
          3.217462617933522,
          3.217462617933522,
          3.2174626179335215,
          3.217462617933522,
          3.2174626179335215,
          3.2174626179335215
         ]
        },
        {
         "error_y": {
          "array": [
           1.7290207258167305,
           1.1851275467787739,
           0.9579186172835623,
           0.8254389094577865,
           0.736091878876624,
           0.6706237047503771,
           0.6199987043215724,
           0.5793413160728624,
           0.5457586894234643,
           0.5174115542731403,
           0.493067221025127,
           0.47186446015648364,
           0.4531809613311246,
           0.43655435833664313,
           0.42163298245849123,
           0.4081439642678184,
           0.39587189505033926,
           0.3846441506792466,
           0.37432055133911035,
           0.36478592026368784
          ],
          "type": "data",
          "visible": true
         },
         "line": {
          "dash": "dot"
         },
         "marker": {
          "symbol": [
           0,
           3
          ]
         },
         "name": "teste: wcpu 0, wodc 0, wd 0.5, odcs 41",
         "type": "scatter",
         "x": [
          1,
          2,
          3,
          4,
          5,
          6,
          7,
          8,
          9,
          10,
          11,
          12,
          13,
          14,
          15,
          16,
          17,
          18,
          19,
          20
         ],
         "y": [
          5.850647444766555,
          5.850647444766554,
          5.850647444766554,
          5.850647444766554,
          5.850647444766554,
          5.850647444766554,
          5.850647444766555,
          5.850647444766554,
          5.850647444766555,
          5.850647444766555,
          5.850647444766555,
          5.850647444766555,
          5.850647444766555,
          5.850647444766555,
          5.850647444766555,
          5.850647444766554,
          5.850647444766554,
          5.850647444766555,
          5.850647444766554,
          5.850647444766554
         ]
        }
       ],
       "layout": {
        "autosize": true,
        "legend": {
         "traceorder": "normal"
        },
        "template": {
         "data": {
          "bar": [
           {
            "error_x": {
             "color": "#2a3f5f"
            },
            "error_y": {
             "color": "#2a3f5f"
            },
            "marker": {
             "line": {
              "color": "#E5ECF6",
              "width": 0.5
             },
             "pattern": {
              "fillmode": "overlay",
              "size": 10,
              "solidity": 0.2
             }
            },
            "type": "bar"
           }
          ],
          "barpolar": [
           {
            "marker": {
             "line": {
              "color": "#E5ECF6",
              "width": 0.5
             },
             "pattern": {
              "fillmode": "overlay",
              "size": 10,
              "solidity": 0.2
             }
            },
            "type": "barpolar"
           }
          ],
          "carpet": [
           {
            "aaxis": {
             "endlinecolor": "#2a3f5f",
             "gridcolor": "white",
             "linecolor": "white",
             "minorgridcolor": "white",
             "startlinecolor": "#2a3f5f"
            },
            "baxis": {
             "endlinecolor": "#2a3f5f",
             "gridcolor": "white",
             "linecolor": "white",
             "minorgridcolor": "white",
             "startlinecolor": "#2a3f5f"
            },
            "type": "carpet"
           }
          ],
          "choropleth": [
           {
            "colorbar": {
             "outlinewidth": 0,
             "ticks": ""
            },
            "type": "choropleth"
           }
          ],
          "contour": [
           {
            "colorbar": {
             "outlinewidth": 0,
             "ticks": ""
            },
            "colorscale": [
             [
              0,
              "#0d0887"
             ],
             [
              0.1111111111111111,
              "#46039f"
             ],
             [
              0.2222222222222222,
              "#7201a8"
             ],
             [
              0.3333333333333333,
              "#9c179e"
             ],
             [
              0.4444444444444444,
              "#bd3786"
             ],
             [
              0.5555555555555556,
              "#d8576b"
             ],
             [
              0.6666666666666666,
              "#ed7953"
             ],
             [
              0.7777777777777778,
              "#fb9f3a"
             ],
             [
              0.8888888888888888,
              "#fdca26"
             ],
             [
              1,
              "#f0f921"
             ]
            ],
            "type": "contour"
           }
          ],
          "contourcarpet": [
           {
            "colorbar": {
             "outlinewidth": 0,
             "ticks": ""
            },
            "type": "contourcarpet"
           }
          ],
          "heatmap": [
           {
            "colorbar": {
             "outlinewidth": 0,
             "ticks": ""
            },
            "colorscale": [
             [
              0,
              "#0d0887"
             ],
             [
              0.1111111111111111,
              "#46039f"
             ],
             [
              0.2222222222222222,
              "#7201a8"
             ],
             [
              0.3333333333333333,
              "#9c179e"
             ],
             [
              0.4444444444444444,
              "#bd3786"
             ],
             [
              0.5555555555555556,
              "#d8576b"
             ],
             [
              0.6666666666666666,
              "#ed7953"
             ],
             [
              0.7777777777777778,
              "#fb9f3a"
             ],
             [
              0.8888888888888888,
              "#fdca26"
             ],
             [
              1,
              "#f0f921"
             ]
            ],
            "type": "heatmap"
           }
          ],
          "heatmapgl": [
           {
            "colorbar": {
             "outlinewidth": 0,
             "ticks": ""
            },
            "colorscale": [
             [
              0,
              "#0d0887"
             ],
             [
              0.1111111111111111,
              "#46039f"
             ],
             [
              0.2222222222222222,
              "#7201a8"
             ],
             [
              0.3333333333333333,
              "#9c179e"
             ],
             [
              0.4444444444444444,
              "#bd3786"
             ],
             [
              0.5555555555555556,
              "#d8576b"
             ],
             [
              0.6666666666666666,
              "#ed7953"
             ],
             [
              0.7777777777777778,
              "#fb9f3a"
             ],
             [
              0.8888888888888888,
              "#fdca26"
             ],
             [
              1,
              "#f0f921"
             ]
            ],
            "type": "heatmapgl"
           }
          ],
          "histogram": [
           {
            "marker": {
             "pattern": {
              "fillmode": "overlay",
              "size": 10,
              "solidity": 0.2
             }
            },
            "type": "histogram"
           }
          ],
          "histogram2d": [
           {
            "colorbar": {
             "outlinewidth": 0,
             "ticks": ""
            },
            "colorscale": [
             [
              0,
              "#0d0887"
             ],
             [
              0.1111111111111111,
              "#46039f"
             ],
             [
              0.2222222222222222,
              "#7201a8"
             ],
             [
              0.3333333333333333,
              "#9c179e"
             ],
             [
              0.4444444444444444,
              "#bd3786"
             ],
             [
              0.5555555555555556,
              "#d8576b"
             ],
             [
              0.6666666666666666,
              "#ed7953"
             ],
             [
              0.7777777777777778,
              "#fb9f3a"
             ],
             [
              0.8888888888888888,
              "#fdca26"
             ],
             [
              1,
              "#f0f921"
             ]
            ],
            "type": "histogram2d"
           }
          ],
          "histogram2dcontour": [
           {
            "colorbar": {
             "outlinewidth": 0,
             "ticks": ""
            },
            "colorscale": [
             [
              0,
              "#0d0887"
             ],
             [
              0.1111111111111111,
              "#46039f"
             ],
             [
              0.2222222222222222,
              "#7201a8"
             ],
             [
              0.3333333333333333,
              "#9c179e"
             ],
             [
              0.4444444444444444,
              "#bd3786"
             ],
             [
              0.5555555555555556,
              "#d8576b"
             ],
             [
              0.6666666666666666,
              "#ed7953"
             ],
             [
              0.7777777777777778,
              "#fb9f3a"
             ],
             [
              0.8888888888888888,
              "#fdca26"
             ],
             [
              1,
              "#f0f921"
             ]
            ],
            "type": "histogram2dcontour"
           }
          ],
          "mesh3d": [
           {
            "colorbar": {
             "outlinewidth": 0,
             "ticks": ""
            },
            "type": "mesh3d"
           }
          ],
          "parcoords": [
           {
            "line": {
             "colorbar": {
              "outlinewidth": 0,
              "ticks": ""
             }
            },
            "type": "parcoords"
           }
          ],
          "pie": [
           {
            "automargin": true,
            "type": "pie"
           }
          ],
          "scatter": [
           {
            "fillpattern": {
             "fillmode": "overlay",
             "size": 10,
             "solidity": 0.2
            },
            "type": "scatter"
           }
          ],
          "scatter3d": [
           {
            "line": {
             "colorbar": {
              "outlinewidth": 0,
              "ticks": ""
             }
            },
            "marker": {
             "colorbar": {
              "outlinewidth": 0,
              "ticks": ""
             }
            },
            "type": "scatter3d"
           }
          ],
          "scattercarpet": [
           {
            "marker": {
             "colorbar": {
              "outlinewidth": 0,
              "ticks": ""
             }
            },
            "type": "scattercarpet"
           }
          ],
          "scattergeo": [
           {
            "marker": {
             "colorbar": {
              "outlinewidth": 0,
              "ticks": ""
             }
            },
            "type": "scattergeo"
           }
          ],
          "scattergl": [
           {
            "marker": {
             "colorbar": {
              "outlinewidth": 0,
              "ticks": ""
             }
            },
            "type": "scattergl"
           }
          ],
          "scattermapbox": [
           {
            "marker": {
             "colorbar": {
              "outlinewidth": 0,
              "ticks": ""
             }
            },
            "type": "scattermapbox"
           }
          ],
          "scatterpolar": [
           {
            "marker": {
             "colorbar": {
              "outlinewidth": 0,
              "ticks": ""
             }
            },
            "type": "scatterpolar"
           }
          ],
          "scatterpolargl": [
           {
            "marker": {
             "colorbar": {
              "outlinewidth": 0,
              "ticks": ""
             }
            },
            "type": "scatterpolargl"
           }
          ],
          "scatterternary": [
           {
            "marker": {
             "colorbar": {
              "outlinewidth": 0,
              "ticks": ""
             }
            },
            "type": "scatterternary"
           }
          ],
          "surface": [
           {
            "colorbar": {
             "outlinewidth": 0,
             "ticks": ""
            },
            "colorscale": [
             [
              0,
              "#0d0887"
             ],
             [
              0.1111111111111111,
              "#46039f"
             ],
             [
              0.2222222222222222,
              "#7201a8"
             ],
             [
              0.3333333333333333,
              "#9c179e"
             ],
             [
              0.4444444444444444,
              "#bd3786"
             ],
             [
              0.5555555555555556,
              "#d8576b"
             ],
             [
              0.6666666666666666,
              "#ed7953"
             ],
             [
              0.7777777777777778,
              "#fb9f3a"
             ],
             [
              0.8888888888888888,
              "#fdca26"
             ],
             [
              1,
              "#f0f921"
             ]
            ],
            "type": "surface"
           }
          ],
          "table": [
           {
            "cells": {
             "fill": {
              "color": "#EBF0F8"
             },
             "line": {
              "color": "white"
             }
            },
            "header": {
             "fill": {
              "color": "#C8D4E3"
             },
             "line": {
              "color": "white"
             }
            },
            "type": "table"
           }
          ]
         },
         "layout": {
          "annotationdefaults": {
           "arrowcolor": "#2a3f5f",
           "arrowhead": 0,
           "arrowwidth": 1
          },
          "autotypenumbers": "strict",
          "coloraxis": {
           "colorbar": {
            "outlinewidth": 0,
            "ticks": ""
           }
          },
          "colorscale": {
           "diverging": [
            [
             0,
             "#8e0152"
            ],
            [
             0.1,
             "#c51b7d"
            ],
            [
             0.2,
             "#de77ae"
            ],
            [
             0.3,
             "#f1b6da"
            ],
            [
             0.4,
             "#fde0ef"
            ],
            [
             0.5,
             "#f7f7f7"
            ],
            [
             0.6,
             "#e6f5d0"
            ],
            [
             0.7,
             "#b8e186"
            ],
            [
             0.8,
             "#7fbc41"
            ],
            [
             0.9,
             "#4d9221"
            ],
            [
             1,
             "#276419"
            ]
           ],
           "sequential": [
            [
             0,
             "#0d0887"
            ],
            [
             0.1111111111111111,
             "#46039f"
            ],
            [
             0.2222222222222222,
             "#7201a8"
            ],
            [
             0.3333333333333333,
             "#9c179e"
            ],
            [
             0.4444444444444444,
             "#bd3786"
            ],
            [
             0.5555555555555556,
             "#d8576b"
            ],
            [
             0.6666666666666666,
             "#ed7953"
            ],
            [
             0.7777777777777778,
             "#fb9f3a"
            ],
            [
             0.8888888888888888,
             "#fdca26"
            ],
            [
             1,
             "#f0f921"
            ]
           ],
           "sequentialminus": [
            [
             0,
             "#0d0887"
            ],
            [
             0.1111111111111111,
             "#46039f"
            ],
            [
             0.2222222222222222,
             "#7201a8"
            ],
            [
             0.3333333333333333,
             "#9c179e"
            ],
            [
             0.4444444444444444,
             "#bd3786"
            ],
            [
             0.5555555555555556,
             "#d8576b"
            ],
            [
             0.6666666666666666,
             "#ed7953"
            ],
            [
             0.7777777777777778,
             "#fb9f3a"
            ],
            [
             0.8888888888888888,
             "#fdca26"
            ],
            [
             1,
             "#f0f921"
            ]
           ]
          },
          "colorway": [
           "#636efa",
           "#EF553B",
           "#00cc96",
           "#ab63fa",
           "#FFA15A",
           "#19d3f3",
           "#FF6692",
           "#B6E880",
           "#FF97FF",
           "#FECB52"
          ],
          "font": {
           "color": "#2a3f5f"
          },
          "geo": {
           "bgcolor": "white",
           "lakecolor": "white",
           "landcolor": "#E5ECF6",
           "showlakes": true,
           "showland": true,
           "subunitcolor": "white"
          },
          "hoverlabel": {
           "align": "left"
          },
          "hovermode": "closest",
          "mapbox": {
           "style": "light"
          },
          "paper_bgcolor": "white",
          "plot_bgcolor": "#E5ECF6",
          "polar": {
           "angularaxis": {
            "gridcolor": "white",
            "linecolor": "white",
            "ticks": ""
           },
           "bgcolor": "#E5ECF6",
           "radialaxis": {
            "gridcolor": "white",
            "linecolor": "white",
            "ticks": ""
           }
          },
          "scene": {
           "xaxis": {
            "backgroundcolor": "#E5ECF6",
            "gridcolor": "white",
            "gridwidth": 2,
            "linecolor": "white",
            "showbackground": true,
            "ticks": "",
            "zerolinecolor": "white"
           },
           "yaxis": {
            "backgroundcolor": "#E5ECF6",
            "gridcolor": "white",
            "gridwidth": 2,
            "linecolor": "white",
            "showbackground": true,
            "ticks": "",
            "zerolinecolor": "white"
           },
           "zaxis": {
            "backgroundcolor": "#E5ECF6",
            "gridcolor": "white",
            "gridwidth": 2,
            "linecolor": "white",
            "showbackground": true,
            "ticks": "",
            "zerolinecolor": "white"
           }
          },
          "shapedefaults": {
           "line": {
            "color": "#2a3f5f"
           }
          },
          "ternary": {
           "aaxis": {
            "gridcolor": "white",
            "linecolor": "white",
            "ticks": ""
           },
           "baxis": {
            "gridcolor": "white",
            "linecolor": "white",
            "ticks": ""
           },
           "bgcolor": "#E5ECF6",
           "caxis": {
            "gridcolor": "white",
            "linecolor": "white",
            "ticks": ""
           }
          },
          "title": {
           "x": 0.05
          },
          "xaxis": {
           "automargin": true,
           "gridcolor": "white",
           "linecolor": "white",
           "ticks": "",
           "title": {
            "standoff": 15
           },
           "zerolinecolor": "white",
           "zerolinewidth": 2
          },
          "yaxis": {
           "automargin": true,
           "gridcolor": "white",
           "linecolor": "white",
           "ticks": "",
           "title": {
            "standoff": 15
           },
           "zerolinecolor": "white",
           "zerolinewidth": 2
          }
         }
        },
        "xaxis": {
         "autorange": true,
         "range": [
          -0.05555555555555536,
          21.055555555555557
         ],
         "title": {
          "text": "Jobs"
         },
         "type": "linear"
        },
        "yaxis": {
         "autorange": true,
         "domain": [
          0,
          1
         ],
         "range": [
          -0.42382489505303333,
          8.000904647722038
         ],
         "title": {
          "text": "PHY-Jobs-Fiberlenght (kms)"
         },
         "type": "linear"
        }
       }
      },
      "image/png": "[encoded data removed]",
      "text/html": [
       "<div>                            <div id=\"ef0e442e-3708-4f4f-88e1-84212b1e471c\" class=\"plotly-graph-div\" style=\"height:525px; width:100%;\"></div>            <script type=\"text/javascript\">                require([\"plotly\"], function(Plotly) {                    window.PLOTLYENV=window.PLOTLYENV || {};                                    if (document.getElementById(\"ef0e442e-3708-4f4f-88e1-84212b1e471c\")) {                    Plotly.newPlot(                        \"ef0e442e-3708-4f4f-88e1-84212b1e471c\",                        [{\"error_y\":{\"array\":[null,0.004215525420752404,0.0028020703903881023,0.002098464255312856,0.0016772930829229405,0.0013969243911635437,0.0011968624234332253,0.0010469259050090974,0.000930373696487915,0.0008371728952831118,0.0007609447595374411,0.0006974399095426302,0.0006437182346362264,0.0005976807100386551,0.0005577887064380167,0.0005228886741048236,0.0004920987671594206,0.00046473329663674533,0.0004402510625343144,0.0004182191998578622],\"type\":\"data\",\"visible\":true},\"line\":{\"dash\":\"solid\"},\"marker\":{\"symbol\":[0,1]},\"name\":\"teste: wcpu 0, wodc 0, wd 1, odcs 0\",\"x\":[1.0,2.0,3.0,4.0,5.0,6.0,7.0,8.0,9.0,10.0,11.0,12.0,13.0,14.0,15.0,16.0,17.0,18.0,19.0,20.0],\"y\":[0.0,0.0016271075064726718,0.0010836470515944757,0.0008123266736688603,0.0006496653614504878,0.0005412789795401551,0.00046388680847756625,0.00040585726046906887,0.00036073180485094065,0.00032463688043547583,0.00029510826555750923,0.000270503558333729,0.0002496859455922366,0.00023184355774535272,0.00021638111074425648,0.00020285219760544422,0.0001909154855166446,0.00018030551879559905,0.00017081274489135883,0.00016226953439061597],\"type\":\"scatter\"},{\"error_y\":{\"array\":[0.40283547816303833,0.2806266572851972,0.22800760235625228,0.19697813630187433,0.17592496068632357,0.1604404249352016,0.14843576883862486,0.1387766466288476,0.1307869153916177,0.12403520064860274,0.11823161444216868,0.1131731864048886,0.10871299335662932,0.10474171196044013,0.10117608790454757,0.09795145199615174,0.09501670506136861,0.09233086350612951,0.08986062224276048,0.08757859884342323],\"type\":\"data\",\"visible\":true},\"line\":{\"dash\":\"dot\"},\"marker\":{\"symbol\":[0,2]},\"name\":\"teste: wcpu 0, wodc 0, wd 1, odcs 83\",\"x\":[1.0,2.0,3.0,4.0,5.0,6.0,7.0,8.0,9.0,10.0,11.0,12.0,13.0,14.0,15.0,16.0,17.0,18.0,19.0,20.0],\"y\":[1.1769901979514799,1.1769901979514799,1.1769901979514799,1.17699019795148,1.17699019795148,1.1769901979514799,1.1769901979514799,1.17699019795148,1.1769901979514799,1.1769901979514799,1.17699019795148,1.1769901979514799,1.17699019795148,1.1769901979514799,1.1769901979514799,1.17699019795148,1.1769901979514799,1.1769901979514799,1.17699019795148,1.1769901979514799],\"type\":\"scatter\"},{\"error_y\":{\"array\":[0.8638579561269744,0.5970328643736278,0.48384489574950784,0.4174699179245529,0.37256915754348574,0.33960620622477844,0.31408366977417757,0.2935669361496447,0.2766081239788978,0.2622850755621049,0.2499789191431412,0.23925680485928424,0.2298056835985096,0.22139279168023895,0.21384098055635414,0.20701272102356016,0.20079939339159925,0.1951139159752402,0.18988554796307344,0.18505614718128793],\"type\":\"data\",\"visible\":true},\"line\":{\"dash\":\"dash\"},\"marker\":{\"symbol\":[0,3]},\"name\":\"teste: wcpu 0, wodc 0, wd 1, odcs 55\",\"x\":[1.0,2.0,3.0,4.0,5.0,6.0,7.0,8.0,9.0,10.0,11.0,12.0,13.0,14.0,15.0,16.0,17.0,18.0,19.0,20.0],\"y\":[3.2174626179335224,3.217462617933522,3.2174626179335224,3.217462617933522,3.2174626179335215,3.2174626179335224,3.217462617933522,3.217462617933522,3.217462617933522,3.2174626179335215,3.217462617933522,3.2174626179335215,3.2174626179335215,3.217462617933522,3.217462617933522,3.217462617933522,3.2174626179335215,3.217462617933522,3.2174626179335215,3.2174626179335215],\"type\":\"scatter\"},{\"error_y\":{\"array\":[1.7290207258167305,1.1851275467787739,0.9579186172835623,0.8254389094577865,0.736091878876624,0.6706237047503771,0.6199987043215724,0.5793413160728624,0.5457586894234643,0.5174115542731403,0.493067221025127,0.47186446015648364,0.4531809613311246,0.43655435833664313,0.42163298245849123,0.4081439642678184,0.39587189505033926,0.3846441506792466,0.37432055133911035,0.36478592026368784],\"type\":\"data\",\"visible\":true},\"line\":{\"dash\":\"longdash\"},\"marker\":{\"symbol\":[0,4]},\"name\":\"teste: wcpu 0, wodc 0, wd 1, odcs 41\",\"x\":[1.0,2.0,3.0,4.0,5.0,6.0,7.0,8.0,9.0,10.0,11.0,12.0,13.0,14.0,15.0,16.0,17.0,18.0,19.0,20.0],\"y\":[5.850647444766555,5.850647444766554,5.850647444766554,5.850647444766554,5.850647444766554,5.850647444766554,5.850647444766555,5.850647444766554,5.850647444766555,5.850647444766555,5.850647444766555,5.850647444766555,5.850647444766555,5.850647444766555,5.850647444766555,5.850647444766554,5.850647444766554,5.850647444766555,5.850647444766554,5.850647444766554],\"type\":\"scatter\"},{\"error_y\":{\"array\":[null,0.004215525420752404,0.0028020703903881023,0.002098464255312856,0.0016772930829229405,0.0013969243911635437,0.0011968624234332253,0.0010469259050090974,0.000930373696487915,0.0008371728952831118,0.0007609447595374411,0.0006974399095426302,0.0006437182346362264,0.0005976807100386551,0.0005577887064380167,0.0005228886741048236,0.0004920987671594206,0.00046473329663674533,0.0004402510625343144,0.0004182191998578622],\"type\":\"data\",\"visible\":true},\"line\":{\"dash\":\"dashdot\"},\"marker\":{\"symbol\":[0,5]},\"name\":\"teste: wcpu 0, wodc 0, wd 0.5, odcs 0\",\"x\":[1.0,2.0,3.0,4.0,5.0,6.0,7.0,8.0,9.0,10.0,11.0,12.0,13.0,14.0,15.0,16.0,17.0,18.0,19.0,20.0],\"y\":[0.0,0.0016271075064726718,0.0010836470515944757,0.0008123266736688603,0.0006496653614504878,0.0005412789795401551,0.00046388680847756625,0.00040585726046906887,0.00036073180485094065,0.00032463688043547583,0.00029510826555750923,0.000270503558333729,0.0002496859455922366,0.00023184355774535272,0.00021638111074425648,0.00020285219760544422,0.0001909154855166446,0.00018030551879559905,0.00017081274489135883,0.00016226953439061597],\"type\":\"scatter\"},{\"error_y\":{\"array\":[0.40283547816303833,0.2806266572851972,0.22800760235625228,0.19697813630187433,0.17592496068632357,0.1604404249352016,0.14843576883862486,0.1387766466288476,0.1307869153916177,0.12403520064860274,0.11823161444216868,0.1131731864048886,0.10871299335662932,0.10474171196044013,0.10117608790454757,0.09795145199615174,0.09501670506136861,0.09233086350612951,0.08986062224276048,0.08757859884342323],\"type\":\"data\",\"visible\":true},\"line\":{\"dash\":\"longdashdot\"},\"marker\":{\"symbol\":[0,1]},\"name\":\"teste: wcpu 0, wodc 0, wd 0.5, odcs 83\",\"x\":[1.0,2.0,3.0,4.0,5.0,6.0,7.0,8.0,9.0,10.0,11.0,12.0,13.0,14.0,15.0,16.0,17.0,18.0,19.0,20.0],\"y\":[1.1769901979514799,1.1769901979514799,1.1769901979514799,1.17699019795148,1.17699019795148,1.1769901979514799,1.1769901979514799,1.17699019795148,1.1769901979514799,1.1769901979514799,1.17699019795148,1.1769901979514799,1.17699019795148,1.1769901979514799,1.1769901979514799,1.17699019795148,1.1769901979514799,1.1769901979514799,1.17699019795148,1.1769901979514799],\"type\":\"scatter\"},{\"error_y\":{\"array\":[0.8638579561269744,0.5970328643736278,0.48384489574950784,0.4174699179245529,0.37256915754348574,0.33960620622477844,0.31408366977417757,0.2935669361496447,0.2766081239788978,0.2622850755621049,0.2499789191431412,0.23925680485928424,0.2298056835985096,0.22139279168023895,0.21384098055635414,0.20701272102356016,0.20079939339159925,0.1951139159752402,0.18988554796307344,0.18505614718128793],\"type\":\"data\",\"visible\":true},\"line\":{\"dash\":\"solid\"},\"marker\":{\"symbol\":[0,2]},\"name\":\"teste: wcpu 0, wodc 0, wd 0.5, odcs 55\",\"x\":[1.0,2.0,3.0,4.0,5.0,6.0,7.0,8.0,9.0,10.0,11.0,12.0,13.0,14.0,15.0,16.0,17.0,18.0,19.0,20.0],\"y\":[3.2174626179335224,3.217462617933522,3.2174626179335224,3.217462617933522,3.2174626179335215,3.2174626179335224,3.217462617933522,3.217462617933522,3.217462617933522,3.2174626179335215,3.217462617933522,3.2174626179335215,3.2174626179335215,3.217462617933522,3.217462617933522,3.217462617933522,3.2174626179335215,3.217462617933522,3.2174626179335215,3.2174626179335215],\"type\":\"scatter\"},{\"error_y\":{\"array\":[1.7290207258167305,1.1851275467787739,0.9579186172835623,0.8254389094577865,0.736091878876624,0.6706237047503771,0.6199987043215724,0.5793413160728624,0.5457586894234643,0.5174115542731403,0.493067221025127,0.47186446015648364,0.4531809613311246,0.43655435833664313,0.42163298245849123,0.4081439642678184,0.39587189505033926,0.3846441506792466,0.37432055133911035,0.36478592026368784],\"type\":\"data\",\"visible\":true},\"line\":{\"dash\":\"dot\"},\"marker\":{\"symbol\":[0,3]},\"name\":\"teste: wcpu 0, wodc 0, wd 0.5, odcs 41\",\"x\":[1.0,2.0,3.0,4.0,5.0,6.0,7.0,8.0,9.0,10.0,11.0,12.0,13.0,14.0,15.0,16.0,17.0,18.0,19.0,20.0],\"y\":[5.850647444766555,5.850647444766554,5.850647444766554,5.850647444766554,5.850647444766554,5.850647444766554,5.850647444766555,5.850647444766554,5.850647444766555,5.850647444766555,5.850647444766555,5.850647444766555,5.850647444766555,5.850647444766555,5.850647444766555,5.850647444766554,5.850647444766554,5.850647444766555,5.850647444766554,5.850647444766554],\"type\":\"scatter\"}],                        {\"legend\":{\"traceorder\":\"normal\"},\"xaxis\":{\"title\":{\"text\":\"Jobs\"}},\"yaxis\":{\"domain\":[0,1],\"title\":{\"text\":\"PHY-Jobs-Fiberlenght (kms)\"}},\"template\":{\"data\":{\"histogram2dcontour\":[{\"type\":\"histogram2dcontour\",\"colorbar\":{\"outlinewidth\":0,\"ticks\":\"\"},\"colorscale\":[[0.0,\"#0d0887\"],[0.1111111111111111,\"#46039f\"],[0.2222222222222222,\"#7201a8\"],[0.3333333333333333,\"#9c179e\"],[0.4444444444444444,\"#bd3786\"],[0.5555555555555556,\"#d8576b\"],[0.6666666666666666,\"#ed7953\"],[0.7777777777777778,\"#fb9f3a\"],[0.8888888888888888,\"#fdca26\"],[1.0,\"#f0f921\"]]}],\"choropleth\":[{\"type\":\"choropleth\",\"colorbar\":{\"outlinewidth\":0,\"ticks\":\"\"}}],\"histogram2d\":[{\"type\":\"histogram2d\",\"colorbar\":{\"outlinewidth\":0,\"ticks\":\"\"},\"colorscale\":[[0.0,\"#0d0887\"],[0.1111111111111111,\"#46039f\"],[0.2222222222222222,\"#7201a8\"],[0.3333333333333333,\"#9c179e\"],[0.4444444444444444,\"#bd3786\"],[0.5555555555555556,\"#d8576b\"],[0.6666666666666666,\"#ed7953\"],[0.7777777777777778,\"#fb9f3a\"],[0.8888888888888888,\"#fdca26\"],[1.0,\"#f0f921\"]]}],\"heatmap\":[{\"type\":\"heatmap\",\"colorbar\":{\"outlinewidth\":0,\"ticks\":\"\"},\"colorscale\":[[0.0,\"#0d0887\"],[0.1111111111111111,\"#46039f\"],[0.2222222222222222,\"#7201a8\"],[0.3333333333333333,\"#9c179e\"],[0.4444444444444444,\"#bd3786\"],[0.5555555555555556,\"#d8576b\"],[0.6666666666666666,\"#ed7953\"],[0.7777777777777778,\"#fb9f3a\"],[0.8888888888888888,\"#fdca26\"],[1.0,\"#f0f921\"]]}],\"heatmapgl\":[{\"type\":\"heatmapgl\",\"colorbar\":{\"outlinewidth\":0,\"ticks\":\"\"},\"colorscale\":[[0.0,\"#0d0887\"],[0.1111111111111111,\"#46039f\"],[0.2222222222222222,\"#7201a8\"],[0.3333333333333333,\"#9c179e\"],[0.4444444444444444,\"#bd3786\"],[0.5555555555555556,\"#d8576b\"],[0.6666666666666666,\"#ed7953\"],[0.7777777777777778,\"#fb9f3a\"],[0.8888888888888888,\"#fdca26\"],[1.0,\"#f0f921\"]]}],\"contourcarpet\":[{\"type\":\"contourcarpet\",\"colorbar\":{\"outlinewidth\":0,\"ticks\":\"\"}}],\"contour\":[{\"type\":\"contour\",\"colorbar\":{\"outlinewidth\":0,\"ticks\":\"\"},\"colorscale\":[[0.0,\"#0d0887\"],[0.1111111111111111,\"#46039f\"],[0.2222222222222222,\"#7201a8\"],[0.3333333333333333,\"#9c179e\"],[0.4444444444444444,\"#bd3786\"],[0.5555555555555556,\"#d8576b\"],[0.6666666666666666,\"#ed7953\"],[0.7777777777777778,\"#fb9f3a\"],[0.8888888888888888,\"#fdca26\"],[1.0,\"#f0f921\"]]}],\"surface\":[{\"type\":\"surface\",\"colorbar\":{\"outlinewidth\":0,\"ticks\":\"\"},\"colorscale\":[[0.0,\"#0d0887\"],[0.1111111111111111,\"#46039f\"],[0.2222222222222222,\"#7201a8\"],[0.3333333333333333,\"#9c179e\"],[0.4444444444444444,\"#bd3786\"],[0.5555555555555556,\"#d8576b\"],[0.6666666666666666,\"#ed7953\"],[0.7777777777777778,\"#fb9f3a\"],[0.8888888888888888,\"#fdca26\"],[1.0,\"#f0f921\"]]}],\"mesh3d\":[{\"type\":\"mesh3d\",\"colorbar\":{\"outlinewidth\":0,\"ticks\":\"\"}}],\"scatter\":[{\"fillpattern\":{\"fillmode\":\"overlay\",\"size\":10,\"solidity\":0.2},\"type\":\"scatter\"}],\"parcoords\":[{\"type\":\"parcoords\",\"line\":{\"colorbar\":{\"outlinewidth\":0,\"ticks\":\"\"}}}],\"scatterpolargl\":[{\"type\":\"scatterpolargl\",\"marker\":{\"colorbar\":{\"outlinewidth\":0,\"ticks\":\"\"}}}],\"bar\":[{\"error_x\":{\"color\":\"#2a3f5f\"},\"error_y\":{\"color\":\"#2a3f5f\"},\"marker\":{\"line\":{\"color\":\"#E5ECF6\",\"width\":0.5},\"pattern\":{\"fillmode\":\"overlay\",\"size\":10,\"solidity\":0.2}},\"type\":\"bar\"}],\"scattergeo\":[{\"type\":\"scattergeo\",\"marker\":{\"colorbar\":{\"outlinewidth\":0,\"ticks\":\"\"}}}],\"scatterpolar\":[{\"type\":\"scatterpolar\",\"marker\":{\"colorbar\":{\"outlinewidth\":0,\"ticks\":\"\"}}}],\"histogram\":[{\"marker\":{\"pattern\":{\"fillmode\":\"overlay\",\"size\":10,\"solidity\":0.2}},\"type\":\"histogram\"}],\"scattergl\":[{\"type\":\"scattergl\",\"marker\":{\"colorbar\":{\"outlinewidth\":0,\"ticks\":\"\"}}}],\"scatter3d\":[{\"type\":\"scatter3d\",\"line\":{\"colorbar\":{\"outlinewidth\":0,\"ticks\":\"\"}},\"marker\":{\"colorbar\":{\"outlinewidth\":0,\"ticks\":\"\"}}}],\"scattermapbox\":[{\"type\":\"scattermapbox\",\"marker\":{\"colorbar\":{\"outlinewidth\":0,\"ticks\":\"\"}}}],\"scatterternary\":[{\"type\":\"scatterternary\",\"marker\":{\"colorbar\":{\"outlinewidth\":0,\"ticks\":\"\"}}}],\"scattercarpet\":[{\"type\":\"scattercarpet\",\"marker\":{\"colorbar\":{\"outlinewidth\":0,\"ticks\":\"\"}}}],\"carpet\":[{\"aaxis\":{\"endlinecolor\":\"#2a3f5f\",\"gridcolor\":\"white\",\"linecolor\":\"white\",\"minorgridcolor\":\"white\",\"startlinecolor\":\"#2a3f5f\"},\"baxis\":{\"endlinecolor\":\"#2a3f5f\",\"gridcolor\":\"white\",\"linecolor\":\"white\",\"minorgridcolor\":\"white\",\"startlinecolor\":\"#2a3f5f\"},\"type\":\"carpet\"}],\"table\":[{\"cells\":{\"fill\":{\"color\":\"#EBF0F8\"},\"line\":{\"color\":\"white\"}},\"header\":{\"fill\":{\"color\":\"#C8D4E3\"},\"line\":{\"color\":\"white\"}},\"type\":\"table\"}],\"barpolar\":[{\"marker\":{\"line\":{\"color\":\"#E5ECF6\",\"width\":0.5},\"pattern\":{\"fillmode\":\"overlay\",\"size\":10,\"solidity\":0.2}},\"type\":\"barpolar\"}],\"pie\":[{\"automargin\":true,\"type\":\"pie\"}]},\"layout\":{\"autotypenumbers\":\"strict\",\"colorway\":[\"#636efa\",\"#EF553B\",\"#00cc96\",\"#ab63fa\",\"#FFA15A\",\"#19d3f3\",\"#FF6692\",\"#B6E880\",\"#FF97FF\",\"#FECB52\"],\"font\":{\"color\":\"#2a3f5f\"},\"hovermode\":\"closest\",\"hoverlabel\":{\"align\":\"left\"},\"paper_bgcolor\":\"white\",\"plot_bgcolor\":\"#E5ECF6\",\"polar\":{\"bgcolor\":\"#E5ECF6\",\"angularaxis\":{\"gridcolor\":\"white\",\"linecolor\":\"white\",\"ticks\":\"\"},\"radialaxis\":{\"gridcolor\":\"white\",\"linecolor\":\"white\",\"ticks\":\"\"}},\"ternary\":{\"bgcolor\":\"#E5ECF6\",\"aaxis\":{\"gridcolor\":\"white\",\"linecolor\":\"white\",\"ticks\":\"\"},\"baxis\":{\"gridcolor\":\"white\",\"linecolor\":\"white\",\"ticks\":\"\"},\"caxis\":{\"gridcolor\":\"white\",\"linecolor\":\"white\",\"ticks\":\"\"}},\"coloraxis\":{\"colorbar\":{\"outlinewidth\":0,\"ticks\":\"\"}},\"colorscale\":{\"sequential\":[[0.0,\"#0d0887\"],[0.1111111111111111,\"#46039f\"],[0.2222222222222222,\"#7201a8\"],[0.3333333333333333,\"#9c179e\"],[0.4444444444444444,\"#bd3786\"],[0.5555555555555556,\"#d8576b\"],[0.6666666666666666,\"#ed7953\"],[0.7777777777777778,\"#fb9f3a\"],[0.8888888888888888,\"#fdca26\"],[1.0,\"#f0f921\"]],\"sequentialminus\":[[0.0,\"#0d0887\"],[0.1111111111111111,\"#46039f\"],[0.2222222222222222,\"#7201a8\"],[0.3333333333333333,\"#9c179e\"],[0.4444444444444444,\"#bd3786\"],[0.5555555555555556,\"#d8576b\"],[0.6666666666666666,\"#ed7953\"],[0.7777777777777778,\"#fb9f3a\"],[0.8888888888888888,\"#fdca26\"],[1.0,\"#f0f921\"]],\"diverging\":[[0,\"#8e0152\"],[0.1,\"#c51b7d\"],[0.2,\"#de77ae\"],[0.3,\"#f1b6da\"],[0.4,\"#fde0ef\"],[0.5,\"#f7f7f7\"],[0.6,\"#e6f5d0\"],[0.7,\"#b8e186\"],[0.8,\"#7fbc41\"],[0.9,\"#4d9221\"],[1,\"#276419\"]]},\"xaxis\":{\"gridcolor\":\"white\",\"linecolor\":\"white\",\"ticks\":\"\",\"title\":{\"standoff\":15},\"zerolinecolor\":\"white\",\"automargin\":true,\"zerolinewidth\":2},\"yaxis\":{\"gridcolor\":\"white\",\"linecolor\":\"white\",\"ticks\":\"\",\"title\":{\"standoff\":15},\"zerolinecolor\":\"white\",\"automargin\":true,\"zerolinewidth\":2},\"scene\":{\"xaxis\":{\"backgroundcolor\":\"#E5ECF6\",\"gridcolor\":\"white\",\"linecolor\":\"white\",\"showbackground\":true,\"ticks\":\"\",\"zerolinecolor\":\"white\",\"gridwidth\":2},\"yaxis\":{\"backgroundcolor\":\"#E5ECF6\",\"gridcolor\":\"white\",\"linecolor\":\"white\",\"showbackground\":true,\"ticks\":\"\",\"zerolinecolor\":\"white\",\"gridwidth\":2},\"zaxis\":{\"backgroundcolor\":\"#E5ECF6\",\"gridcolor\":\"white\",\"linecolor\":\"white\",\"showbackground\":true,\"ticks\":\"\",\"zerolinecolor\":\"white\",\"gridwidth\":2}},\"shapedefaults\":{\"line\":{\"color\":\"#2a3f5f\"}},\"annotationdefaults\":{\"arrowcolor\":\"#2a3f5f\",\"arrowhead\":0,\"arrowwidth\":1},\"geo\":{\"bgcolor\":\"white\",\"landcolor\":\"#E5ECF6\",\"subunitcolor\":\"white\",\"showland\":true,\"showlakes\":true,\"lakecolor\":\"white\"},\"title\":{\"x\":0.05},\"mapbox\":{\"style\":\"light\"}}}},                        {\"responsive\": true}                    ).then(function(){\n",
       "                            \n",
       "var gd = document.getElementById('ef0e442e-3708-4f4f-88e1-84212b1e471c');\n",
       "var x = new MutationObserver(function (mutations, observer) {{\n",
       "        var display = window.getComputedStyle(gd).display;\n",
       "        if (!display || display === 'none') {{\n",
       "            console.log([gd, 'removed!']);\n",
       "            Plotly.purge(gd);\n",
       "            observer.disconnect();\n",
       "        }}\n",
       "}});\n",
       "\n",
       "// Listen for the removal of the full notebook cells\n",
       "var notebookContainer = gd.closest('#notebook-container');\n",
       "if (notebookContainer) {{\n",
       "    x.observe(notebookContainer, {childList: true});\n",
       "}}\n",
       "\n",
       "// Listen for the clearing of the current output cell\n",
       "var outputEl = gd.closest('.output');\n",
       "if (outputEl) {{\n",
       "    x.observe(outputEl, {childList: true});\n",
       "}}\n",
       "\n",
       "                        })                };                });            </script>        </div>"
      ]
     },
     "metadata": {},
     "output_type": "display_data"
    }
   ],
   "source": [
    "#Windows:\n",
    "#%cd $opath\\ScriptsPlot\n",
    "#%run ConvergencePlot -f \"NrMmtc_SimPerScriptCampaign_UlTdd_Prbs96_ueNumScenario84.yaml\" -p $opath\\results_cluster_NrMmtc_SimPerScriptCampaign_UlTdd_Prbs96_ueNumScenario84_Lambda\n",
    "\n",
    "#Linux:\n",
    "%run ConvergencePlot -j \"20\" -f \"Placement_Recife_Case_1_2_cluster.yaml\" -p '/home/oai-ufrn/Repositories/open_ran_datacenter_placement/Results/results_Placement_Recife_Case_1_2_cluster_odcs/'"
   ]
  },
  {
   "cell_type": "code",
   "execution_count": 9,
   "metadata": {},
   "outputs": [
    {
     "name": "stdout",
     "output_type": "stream",
     "text": [
      "[Errno 2] No such file or directory: '$plots_result_pathPlotScripts'\n",
      "/home/oai-ufrn/Repositories/open_ran_datacenter_placement/Plots\n",
      "Simulação escolhida: \n",
      "['odcs']\n",
      "3 1 3\n"
     ]
    },
    {
     "name": "stderr",
     "output_type": "stream",
     "text": [
      "No artists with labels found to put in legend.  Note that artists whose label start with an underscore are ignored when legend() is called with no argument.\n"
     ]
    },
    {
     "data": {
      "image/png": "[encoded data removed]",
      "text/plain": [
       "<Figure size 2000x1000 with 1 Axes>"
      ]
     },
     "metadata": {},
     "output_type": "display_data"
    },
    {
     "data": {
      "application/vnd.plotly.v1+json": {
       "config": {
        "plotlyServerURL": "https://plot.ly"
       },
       "data": [
        {
         "error_y": {
          "array": [
           2.1849963357465896,
           1.4691573454868987,
           1.1735223746457422,
           1.0236579391992535,
           0.9133615222444789,
           0.8410685022800877,
           0.7901600131180189,
           0.7413447495109224,
           0.6912952140496458,
           0.663483939270769,
           0.6316723628846574,
           0.6092304359817149,
           0.5848268809317858,
           0.5686718474592354,
           0.5505717153409222,
           0.5326653315622423,
           0.519616196352267,
           0.5034450650851952,
           0.48884306530781885,
           0.4750504696428095
          ],
          "type": "data",
          "visible": true
         },
         "line": {
          "dash": "solid"
         },
         "marker": {
          "symbol": [
           0,
           1
          ]
         },
         "name": "teste: wcpu 0, wodc 0, wd 1, odcs 0",
         "type": "scatter",
         "x": [
          1,
          2,
          3,
          4,
          5,
          6,
          7,
          8,
          9,
          10,
          11,
          12,
          13,
          14,
          15,
          16,
          17,
          18,
          19,
          20
         ],
         "y": [
          50.62676056338028,
          50.03944315545244,
          49.78914967295113,
          49.909169800404975,
          49.87742830712303,
          49.971809229581,
          50.014576776544644,
          50.032187907785996,
          49.96859312652851,
          49.97566909975669,
          49.98146002317497,
          50.024934763699626,
          50.02158786797502,
          50.06433427292323,
          50.08980413408686,
          50.1266705403835,
          50.15581395348837,
          50.10079370200684,
          50.08225372769494,
          50.091743119266056
         ]
        },
        {
         "error_y": {
          "array": [
           8.185581763876357,
           5.777545226262546,
           4.722327514433161,
           4.069877331416578,
           3.631777730343188,
           3.3368630662369156,
           3.0857335507806027,
           2.8889309176192057,
           2.7209497589116154,
           2.5794555211381436,
           2.462929224289141,
           2.3615977035778712,
           2.2673600268381193,
           2.183756177855429,
           2.109789088024627,
           2.0438054295403276,
           1.9848956191197686,
           1.9304076234230791,
           1.8808484151606564,
           1.8319317342791805
          ],
          "type": "data",
          "visible": true
         },
         "line": {
          "dash": "dot"
         },
         "marker": {
          "symbol": [
           0,
           2
          ]
         },
         "name": "teste: wcpu 0, wodc 0, wd 1, odcs 493",
         "type": "scatter",
         "x": [
          1,
          2,
          3,
          4,
          5,
          6,
          7,
          8,
          9,
          10,
          11,
          12,
          13,
          14,
          15,
          16,
          17,
          18,
          19,
          20
         ],
         "y": [
          89.8625,
          89.67567567567568,
          89.4896265560166,
          89.16589147286821,
          89.1198347107438,
          89.21199586349535,
          89.27794204612655,
          89.28124191461836,
          89.22224775913583,
          89.21199586349535,
          89.23716381418093,
          89.35059554634904,
          89.3470363288719,
          89.35720627404558,
          89.39071566731141,
          89.39689119170984,
          89.42414634146341,
          89.4896265560166,
          89.5091743119266,
          89.49891067538127
         ]
        },
        {
         "error_y": {
          "array": [
           14.280898547963318,
           10.047841284076469,
           8.230280123422887,
           7.115716705987097,
           6.361351370859978,
           5.802711536791122,
           5.368248692181538,
           5.018719582745717,
           4.729629324077706,
           4.486011256805028,
           4.276323013150005,
           4.093219145377191,
           3.9317855832763087,
           3.7897889502108626,
           3.664566684056041,
           3.5484147858450115,
           3.441693261245007,
           3.344055495628652,
           3.2542819481795675,
           3.1713706344913533
          ],
          "type": "data",
          "visible": true
         },
         "line": {
          "dash": "dash"
         },
         "marker": {
          "symbol": [
           0,
           3
          ]
         },
         "name": "teste: wcpu 0, wodc 0, wd 1, odcs 328",
         "type": "scatter",
         "x": [
          1,
          2,
          3,
          4,
          5,
          6,
          7,
          8,
          9,
          10,
          11,
          12,
          13,
          14,
          15,
          16,
          17,
          18,
          19,
          20
         ],
         "y": [
          131.90825688073394,
          131.70687022900762,
          132.04285714285714,
          132.00918133129304,
          132.06981016533987,
          132.04285714285714,
          131.9659090909091,
          131.90825688073394,
          131.86345108695653,
          131.8679302965454,
          131.8715953307393,
          131.841059602649,
          131.81523272214386,
          131.87944966149814,
          131.90825688073394,
          131.90825688073394,
          131.88453237410073,
          131.86345108695653,
          131.84459459459458,
          131.8276283618582
         ]
        },
        {
         "error_y": {
          "array": [
           55.45866950753958,
           39.44624556739382,
           31.36055403045424,
           27.078602015942977,
           24.11580340138545,
           21.75215072000117,
           20.227293221909918,
           18.985908846905886,
           17.778789235179772,
           16.88442097601677,
           16.033356411226464,
           15.28320025096184,
           14.746504778910207,
           14.1977987006415,
           13.808257890018695,
           13.398186523653749,
           13.098122096160239,
           12.761011076702687,
           12.436370351883,
           12.131271110315481
          ],
          "type": "data",
          "visible": true
         },
         "line": {
          "dash": "longdash"
         },
         "marker": {
          "symbol": [
           0,
           4
          ]
         },
         "name": "teste: wcpu 0, wodc 0, wd 1, odcs 246",
         "type": "scatter",
         "x": [
          1,
          2,
          3,
          4,
          5,
          6,
          7,
          8,
          9,
          10,
          11,
          12,
          13,
          14,
          15,
          16,
          17,
          18,
          19,
          20
         ],
         "y": [
          310.31654676258995,
          304.8339222614841,
          305.9148936170213,
          307.55080213903744,
          307.660485021398,
          305.55371900826447,
          307.1597151576806,
          306.18633540372673,
          303.99843382928736,
          303.54679802955667,
          303.1782747603834,
          303.4044548651817,
          304.9168026101142,
          304.68012108980827,
          305.9148936170213,
          305.23839009287923,
          305.40524781341105,
          305.55371900826447,
          305.2312849162011,
          305.26539278131634
         ]
        },
        {
         "error_y": {
          "array": [
           2.1849963357465896,
           1.4691573454868987,
           1.1735223746457422,
           1.0236579391992535,
           0.9133615222444789,
           0.8410685022800877,
           0.7901600131180189,
           0.7413447495109224,
           0.7070044605450576,
           0.6767762009291189,
           0.6432184623714505,
           0.6193196255454438,
           0.593784387228169,
           0.576638708332446,
           0.5577504221346601,
           0.5391961417265492,
           0.525558110837018,
           0.5089043647136648,
           0.49388552503130256,
           0.4797340109171273
          ],
          "type": "data",
          "visible": true
         },
         "line": {
          "dash": "dashdot"
         },
         "marker": {
          "symbol": [
           0,
           5
          ]
         },
         "name": "teste: wcpu 0, wodc 0, wd 0.5, odcs 0",
         "type": "scatter",
         "x": [
          1,
          2,
          3,
          4,
          5,
          6,
          7,
          8,
          9,
          10,
          11,
          12,
          13,
          14,
          15,
          16,
          17,
          18,
          19,
          20
         ],
         "y": [
          50.62676056338028,
          50.03944315545244,
          49.78914967295113,
          49.909169800404975,
          49.87742830712303,
          49.971809229581,
          50.014576776544644,
          50.032187907785996,
          50.03299394251837,
          50.0336387890036,
          50.03416640303701,
          50.07332881880623,
          50.06625,
          50.105874543644205,
          50.12861238087859,
          50.16310510248583,
          50.19014373716632,
          50.13314392716472,
          50.11287758346582,
          50.120845921450154
         ]
        },
        {
         "error_y": {
          "array": [
           8.185581763876357,
           5.777545226262546,
           4.722327514433161,
           4.069877331416578,
           3.631777730343188,
           3.3368630662369156,
           3.0857335507806027,
           2.8889309176192057,
           2.7212190151072235,
           2.579684388466248,
           2.4631294424103203,
           2.3617733471196516,
           2.267514988118023,
           2.1838941006958947,
           2.1099130235904653,
           2.04391833148145,
           1.9849993128547965,
           1.9305026762426678,
           1.8809366249738702,
           1.8320130358410864
          ],
          "type": "data",
          "visible": true
         },
         "line": {
          "dash": "longdashdot"
         },
         "marker": {
          "symbol": [
           0,
           1
          ]
         },
         "name": "teste: wcpu 0, wodc 0, wd 0.5, odcs 493",
         "type": "scatter",
         "x": [
          1,
          2,
          3,
          4,
          5,
          6,
          7,
          8,
          9,
          10,
          11,
          12,
          13,
          14,
          15,
          16,
          17,
          18,
          19,
          20
         ],
         "y": [
          89.8625,
          89.67567567567568,
          89.4896265560166,
          89.16589147286821,
          89.1198347107438,
          89.21199586349535,
          89.27794204612655,
          89.28124191461836,
          89.26327891469303,
          89.24891371818747,
          89.27074317968015,
          89.38145398031428,
          89.37551801083838,
          89.38365896980461,
          89.41542288557214,
          89.42005700958798,
          89.44596242986094,
          89.51026054876642,
          89.52873060956959,
          89.51748469440697
         ]
        },
        {
         "error_y": {
          "array": [
           14.280898547963318,
           10.047841284076469,
           8.230280123422887,
           7.115716705987097,
           6.361351370859978,
           5.802711536791122,
           5.368248692181538,
           5.018719582745717,
           4.730399359381067,
           4.486668247029627,
           4.276892053672128,
           4.093718602389515,
           3.9322285658504086,
           3.790184952817043,
           3.6649244863906176,
           3.548739641515823,
           3.4419898713957195,
           3.344327728586876,
           3.2545329691907625,
           3.17160306188822
          ],
          "type": "data",
          "visible": true
         },
         "line": {
          "dash": "solid"
         },
         "marker": {
          "symbol": [
           0,
           2
          ]
         },
         "name": "teste: wcpu 0, wodc 0, wd 0.5, odcs 328",
         "type": "scatter",
         "x": [
          1,
          2,
          3,
          4,
          5,
          6,
          7,
          8,
          9,
          10,
          11,
          12,
          13,
          14,
          15,
          16,
          17,
          18,
          19,
          20
         ],
         "y": [
          131.90825688073394,
          131.70687022900762,
          132.04285714285714,
          132.00918133129304,
          132.06981016533987,
          132.04285714285714,
          131.9659090909091,
          131.90825688073394,
          131.90825688073394,
          131.90825688073394,
          131.90825688073394,
          131.87464968152867,
          131.84622619327533,
          131.90825688073394,
          131.93515497553017,
          131.93347352322692,
          131.90825688073394,
          131.8858501783591,
          131.86580852775543,
          131.84777624942686
         ]
        },
        {
         "error_y": {
          "array": [
           55.45866950753958,
           39.44624556739382,
           31.36055403045424,
           27.078602015942977,
           24.11580340138545,
           21.75215072000117,
           20.227293221909918,
           18.985908846905886,
           17.907887067756235,
           16.994573125130785,
           16.12864034361411,
           15.366713388913297,
           14.820775298647959,
           14.264205600374453,
           13.86832983643842,
           13.452700952621626,
           13.148019646876264,
           12.80684708195929,
           12.478631929815151,
           12.170410507568647
          ],
          "type": "data",
          "visible": true
         },
         "line": {
          "dash": "dot"
         },
         "marker": {
          "symbol": [
           0,
           3
          ]
         },
         "name": "teste: wcpu 0, wodc 0, wd 0.5, odcs 246",
         "type": "scatter",
         "x": [
          1,
          2,
          3,
          4,
          5,
          6,
          7,
          8,
          9,
          10,
          11,
          12,
          13,
          14,
          15,
          16,
          17,
          18,
          19,
          20
         ],
         "y": [
          310.31654676258995,
          304.8339222614841,
          305.9148936170213,
          307.55080213903744,
          307.660485021398,
          305.55371900826447,
          307.1597151576806,
          306.18633540372673,
          305.4335169158143,
          304.8339222614841,
          304.34509300833867,
          304.4752941176471,
          305.9148936170213,
          305.60526315789474,
          306.78520625889047,
          306.05055432372507,
          306.1703549060543,
          306.2769230769231,
          305.9148936170213,
          305.9148936170213
         ]
        }
       ],
       "layout": {
        "autosize": true,
        "legend": {
         "traceorder": "normal"
        },
        "template": {
         "data": {
          "bar": [
           {
            "error_x": {
             "color": "#2a3f5f"
            },
            "error_y": {
             "color": "#2a3f5f"
            },
            "marker": {
             "line": {
              "color": "#E5ECF6",
              "width": 0.5
             },
             "pattern": {
              "fillmode": "overlay",
              "size": 10,
              "solidity": 0.2
             }
            },
            "type": "bar"
           }
          ],
          "barpolar": [
           {
            "marker": {
             "line": {
              "color": "#E5ECF6",
              "width": 0.5
             },
             "pattern": {
              "fillmode": "overlay",
              "size": 10,
              "solidity": 0.2
             }
            },
            "type": "barpolar"
           }
          ],
          "carpet": [
           {
            "aaxis": {
             "endlinecolor": "#2a3f5f",
             "gridcolor": "white",
             "linecolor": "white",
             "minorgridcolor": "white",
             "startlinecolor": "#2a3f5f"
            },
            "baxis": {
             "endlinecolor": "#2a3f5f",
             "gridcolor": "white",
             "linecolor": "white",
             "minorgridcolor": "white",
             "startlinecolor": "#2a3f5f"
            },
            "type": "carpet"
           }
          ],
          "choropleth": [
           {
            "colorbar": {
             "outlinewidth": 0,
             "ticks": ""
            },
            "type": "choropleth"
           }
          ],
          "contour": [
           {
            "colorbar": {
             "outlinewidth": 0,
             "ticks": ""
            },
            "colorscale": [
             [
              0,
              "#0d0887"
             ],
             [
              0.1111111111111111,
              "#46039f"
             ],
             [
              0.2222222222222222,
              "#7201a8"
             ],
             [
              0.3333333333333333,
              "#9c179e"
             ],
             [
              0.4444444444444444,
              "#bd3786"
             ],
             [
              0.5555555555555556,
              "#d8576b"
             ],
             [
              0.6666666666666666,
              "#ed7953"
             ],
             [
              0.7777777777777778,
              "#fb9f3a"
             ],
             [
              0.8888888888888888,
              "#fdca26"
             ],
             [
              1,
              "#f0f921"
             ]
            ],
            "type": "contour"
           }
          ],
          "contourcarpet": [
           {
            "colorbar": {
             "outlinewidth": 0,
             "ticks": ""
            },
            "type": "contourcarpet"
           }
          ],
          "heatmap": [
           {
            "colorbar": {
             "outlinewidth": 0,
             "ticks": ""
            },
            "colorscale": [
             [
              0,
              "#0d0887"
             ],
             [
              0.1111111111111111,
              "#46039f"
             ],
             [
              0.2222222222222222,
              "#7201a8"
             ],
             [
              0.3333333333333333,
              "#9c179e"
             ],
             [
              0.4444444444444444,
              "#bd3786"
             ],
             [
              0.5555555555555556,
              "#d8576b"
             ],
             [
              0.6666666666666666,
              "#ed7953"
             ],
             [
              0.7777777777777778,
              "#fb9f3a"
             ],
             [
              0.8888888888888888,
              "#fdca26"
             ],
             [
              1,
              "#f0f921"
             ]
            ],
            "type": "heatmap"
           }
          ],
          "heatmapgl": [
           {
            "colorbar": {
             "outlinewidth": 0,
             "ticks": ""
            },
            "colorscale": [
             [
              0,
              "#0d0887"
             ],
             [
              0.1111111111111111,
              "#46039f"
             ],
             [
              0.2222222222222222,
              "#7201a8"
             ],
             [
              0.3333333333333333,
              "#9c179e"
             ],
             [
              0.4444444444444444,
              "#bd3786"
             ],
             [
              0.5555555555555556,
              "#d8576b"
             ],
             [
              0.6666666666666666,
              "#ed7953"
             ],
             [
              0.7777777777777778,
              "#fb9f3a"
             ],
             [
              0.8888888888888888,
              "#fdca26"
             ],
             [
              1,
              "#f0f921"
             ]
            ],
            "type": "heatmapgl"
           }
          ],
          "histogram": [
           {
            "marker": {
             "pattern": {
              "fillmode": "overlay",
              "size": 10,
              "solidity": 0.2
             }
            },
            "type": "histogram"
           }
          ],
          "histogram2d": [
           {
            "colorbar": {
             "outlinewidth": 0,
             "ticks": ""
            },
            "colorscale": [
             [
              0,
              "#0d0887"
             ],
             [
              0.1111111111111111,
              "#46039f"
             ],
             [
              0.2222222222222222,
              "#7201a8"
             ],
             [
              0.3333333333333333,
              "#9c179e"
             ],
             [
              0.4444444444444444,
              "#bd3786"
             ],
             [
              0.5555555555555556,
              "#d8576b"
             ],
             [
              0.6666666666666666,
              "#ed7953"
             ],
             [
              0.7777777777777778,
              "#fb9f3a"
             ],
             [
              0.8888888888888888,
              "#fdca26"
             ],
             [
              1,
              "#f0f921"
             ]
            ],
            "type": "histogram2d"
           }
          ],
          "histogram2dcontour": [
           {
            "colorbar": {
             "outlinewidth": 0,
             "ticks": ""
            },
            "colorscale": [
             [
              0,
              "#0d0887"
             ],
             [
              0.1111111111111111,
              "#46039f"
             ],
             [
              0.2222222222222222,
              "#7201a8"
             ],
             [
              0.3333333333333333,
              "#9c179e"
             ],
             [
              0.4444444444444444,
              "#bd3786"
             ],
             [
              0.5555555555555556,
              "#d8576b"
             ],
             [
              0.6666666666666666,
              "#ed7953"
             ],
             [
              0.7777777777777778,
              "#fb9f3a"
             ],
             [
              0.8888888888888888,
              "#fdca26"
             ],
             [
              1,
              "#f0f921"
             ]
            ],
            "type": "histogram2dcontour"
           }
          ],
          "mesh3d": [
           {
            "colorbar": {
             "outlinewidth": 0,
             "ticks": ""
            },
            "type": "mesh3d"
           }
          ],
          "parcoords": [
           {
            "line": {
             "colorbar": {
              "outlinewidth": 0,
              "ticks": ""
             }
            },
            "type": "parcoords"
           }
          ],
          "pie": [
           {
            "automargin": true,
            "type": "pie"
           }
          ],
          "scatter": [
           {
            "fillpattern": {
             "fillmode": "overlay",
             "size": 10,
             "solidity": 0.2
            },
            "type": "scatter"
           }
          ],
          "scatter3d": [
           {
            "line": {
             "colorbar": {
              "outlinewidth": 0,
              "ticks": ""
             }
            },
            "marker": {
             "colorbar": {
              "outlinewidth": 0,
              "ticks": ""
             }
            },
            "type": "scatter3d"
           }
          ],
          "scattercarpet": [
           {
            "marker": {
             "colorbar": {
              "outlinewidth": 0,
              "ticks": ""
             }
            },
            "type": "scattercarpet"
           }
          ],
          "scattergeo": [
           {
            "marker": {
             "colorbar": {
              "outlinewidth": 0,
              "ticks": ""
             }
            },
            "type": "scattergeo"
           }
          ],
          "scattergl": [
           {
            "marker": {
             "colorbar": {
              "outlinewidth": 0,
              "ticks": ""
             }
            },
            "type": "scattergl"
           }
          ],
          "scattermapbox": [
           {
            "marker": {
             "colorbar": {
              "outlinewidth": 0,
              "ticks": ""
             }
            },
            "type": "scattermapbox"
           }
          ],
          "scatterpolar": [
           {
            "marker": {
             "colorbar": {
              "outlinewidth": 0,
              "ticks": ""
             }
            },
            "type": "scatterpolar"
           }
          ],
          "scatterpolargl": [
           {
            "marker": {
             "colorbar": {
              "outlinewidth": 0,
              "ticks": ""
             }
            },
            "type": "scatterpolargl"
           }
          ],
          "scatterternary": [
           {
            "marker": {
             "colorbar": {
              "outlinewidth": 0,
              "ticks": ""
             }
            },
            "type": "scatterternary"
           }
          ],
          "surface": [
           {
            "colorbar": {
             "outlinewidth": 0,
             "ticks": ""
            },
            "colorscale": [
             [
              0,
              "#0d0887"
             ],
             [
              0.1111111111111111,
              "#46039f"
             ],
             [
              0.2222222222222222,
              "#7201a8"
             ],
             [
              0.3333333333333333,
              "#9c179e"
             ],
             [
              0.4444444444444444,
              "#bd3786"
             ],
             [
              0.5555555555555556,
              "#d8576b"
             ],
             [
              0.6666666666666666,
              "#ed7953"
             ],
             [
              0.7777777777777778,
              "#fb9f3a"
             ],
             [
              0.8888888888888888,
              "#fdca26"
             ],
             [
              1,
              "#f0f921"
             ]
            ],
            "type": "surface"
           }
          ],
          "table": [
           {
            "cells": {
             "fill": {
              "color": "#EBF0F8"
             },
             "line": {
              "color": "white"
             }
            },
            "header": {
             "fill": {
              "color": "#C8D4E3"
             },
             "line": {
              "color": "white"
             }
            },
            "type": "table"
           }
          ]
         },
         "layout": {
          "annotationdefaults": {
           "arrowcolor": "#2a3f5f",
           "arrowhead": 0,
           "arrowwidth": 1
          },
          "autotypenumbers": "strict",
          "coloraxis": {
           "colorbar": {
            "outlinewidth": 0,
            "ticks": ""
           }
          },
          "colorscale": {
           "diverging": [
            [
             0,
             "#8e0152"
            ],
            [
             0.1,
             "#c51b7d"
            ],
            [
             0.2,
             "#de77ae"
            ],
            [
             0.3,
             "#f1b6da"
            ],
            [
             0.4,
             "#fde0ef"
            ],
            [
             0.5,
             "#f7f7f7"
            ],
            [
             0.6,
             "#e6f5d0"
            ],
            [
             0.7,
             "#b8e186"
            ],
            [
             0.8,
             "#7fbc41"
            ],
            [
             0.9,
             "#4d9221"
            ],
            [
             1,
             "#276419"
            ]
           ],
           "sequential": [
            [
             0,
             "#0d0887"
            ],
            [
             0.1111111111111111,
             "#46039f"
            ],
            [
             0.2222222222222222,
             "#7201a8"
            ],
            [
             0.3333333333333333,
             "#9c179e"
            ],
            [
             0.4444444444444444,
             "#bd3786"
            ],
            [
             0.5555555555555556,
             "#d8576b"
            ],
            [
             0.6666666666666666,
             "#ed7953"
            ],
            [
             0.7777777777777778,
             "#fb9f3a"
            ],
            [
             0.8888888888888888,
             "#fdca26"
            ],
            [
             1,
             "#f0f921"
            ]
           ],
           "sequentialminus": [
            [
             0,
             "#0d0887"
            ],
            [
             0.1111111111111111,
             "#46039f"
            ],
            [
             0.2222222222222222,
             "#7201a8"
            ],
            [
             0.3333333333333333,
             "#9c179e"
            ],
            [
             0.4444444444444444,
             "#bd3786"
            ],
            [
             0.5555555555555556,
             "#d8576b"
            ],
            [
             0.6666666666666666,
             "#ed7953"
            ],
            [
             0.7777777777777778,
             "#fb9f3a"
            ],
            [
             0.8888888888888888,
             "#fdca26"
            ],
            [
             1,
             "#f0f921"
            ]
           ]
          },
          "colorway": [
           "#636efa",
           "#EF553B",
           "#00cc96",
           "#ab63fa",
           "#FFA15A",
           "#19d3f3",
           "#FF6692",
           "#B6E880",
           "#FF97FF",
           "#FECB52"
          ],
          "font": {
           "color": "#2a3f5f"
          },
          "geo": {
           "bgcolor": "white",
           "lakecolor": "white",
           "landcolor": "#E5ECF6",
           "showlakes": true,
           "showland": true,
           "subunitcolor": "white"
          },
          "hoverlabel": {
           "align": "left"
          },
          "hovermode": "closest",
          "mapbox": {
           "style": "light"
          },
          "paper_bgcolor": "white",
          "plot_bgcolor": "#E5ECF6",
          "polar": {
           "angularaxis": {
            "gridcolor": "white",
            "linecolor": "white",
            "ticks": ""
           },
           "bgcolor": "#E5ECF6",
           "radialaxis": {
            "gridcolor": "white",
            "linecolor": "white",
            "ticks": ""
           }
          },
          "scene": {
           "xaxis": {
            "backgroundcolor": "#E5ECF6",
            "gridcolor": "white",
            "gridwidth": 2,
            "linecolor": "white",
            "showbackground": true,
            "ticks": "",
            "zerolinecolor": "white"
           },
           "yaxis": {
            "backgroundcolor": "#E5ECF6",
            "gridcolor": "white",
            "gridwidth": 2,
            "linecolor": "white",
            "showbackground": true,
            "ticks": "",
            "zerolinecolor": "white"
           },
           "zaxis": {
            "backgroundcolor": "#E5ECF6",
            "gridcolor": "white",
            "gridwidth": 2,
            "linecolor": "white",
            "showbackground": true,
            "ticks": "",
            "zerolinecolor": "white"
           }
          },
          "shapedefaults": {
           "line": {
            "color": "#2a3f5f"
           }
          },
          "ternary": {
           "aaxis": {
            "gridcolor": "white",
            "linecolor": "white",
            "ticks": ""
           },
           "baxis": {
            "gridcolor": "white",
            "linecolor": "white",
            "ticks": ""
           },
           "bgcolor": "#E5ECF6",
           "caxis": {
            "gridcolor": "white",
            "linecolor": "white",
            "ticks": ""
           }
          },
          "title": {
           "x": 0.05
          },
          "xaxis": {
           "automargin": true,
           "gridcolor": "white",
           "linecolor": "white",
           "ticks": "",
           "title": {
            "standoff": 15
           },
           "zerolinecolor": "white",
           "zerolinewidth": 2
          },
          "yaxis": {
           "automargin": true,
           "gridcolor": "white",
           "linecolor": "white",
           "ticks": "",
           "title": {
            "standoff": 15
           },
           "zerolinecolor": "white",
           "zerolinewidth": 2
          }
         }
        },
        "xaxis": {
         "autorange": true,
         "range": [
          -0.05555555555555558,
          21.055555555555557
         ],
         "title": {
          "text": "Jobs"
         },
         "type": "linear"
        },
        "yaxis": {
         "autorange": true,
         "domain": [
          0,
          1
         ],
         "range": [
          30.81212800305059,
          383.40485249471266
         ],
         "title": {
          "text": "PHY-Jobs-Capacity (CPUs/ODC)"
         },
         "type": "linear"
        }
       }
      },
      "image/png": "[encoded data removed]",
      "text/html": [
       "<div>                            <div id=\"91349330-507f-4110-8170-8e241fbe21dd\" class=\"plotly-graph-div\" style=\"height:525px; width:100%;\"></div>            <script type=\"text/javascript\">                require([\"plotly\"], function(Plotly) {                    window.PLOTLYENV=window.PLOTLYENV || {};                                    if (document.getElementById(\"91349330-507f-4110-8170-8e241fbe21dd\")) {                    Plotly.newPlot(                        \"91349330-507f-4110-8170-8e241fbe21dd\",                        [{\"error_y\":{\"array\":[2.1849963357465896,1.4691573454868987,1.1735223746457422,1.0236579391992535,0.9133615222444789,0.8410685022800877,0.7901600131180189,0.7413447495109224,0.6912952140496458,0.663483939270769,0.6316723628846574,0.6092304359817149,0.5848268809317858,0.5686718474592354,0.5505717153409222,0.5326653315622423,0.519616196352267,0.5034450650851952,0.48884306530781885,0.4750504696428095],\"type\":\"data\",\"visible\":true},\"line\":{\"dash\":\"solid\"},\"marker\":{\"symbol\":[0,1]},\"name\":\"teste: wcpu 0, wodc 0, wd 1, odcs 0\",\"x\":[1.0,2.0,3.0,4.0,5.0,6.0,7.0,8.0,9.0,10.0,11.0,12.0,13.0,14.0,15.0,16.0,17.0,18.0,19.0,20.0],\"y\":[50.62676056338028,50.03944315545244,49.78914967295113,49.909169800404975,49.87742830712303,49.971809229581,50.014576776544644,50.032187907785996,49.96859312652851,49.97566909975669,49.98146002317497,50.024934763699626,50.02158786797502,50.06433427292323,50.08980413408686,50.1266705403835,50.15581395348837,50.10079370200684,50.08225372769494,50.091743119266056],\"type\":\"scatter\"},{\"error_y\":{\"array\":[8.185581763876357,5.777545226262546,4.722327514433161,4.069877331416578,3.631777730343188,3.3368630662369156,3.0857335507806027,2.8889309176192057,2.7209497589116154,2.5794555211381436,2.462929224289141,2.3615977035778712,2.2673600268381193,2.183756177855429,2.109789088024627,2.0438054295403276,1.9848956191197686,1.9304076234230791,1.8808484151606564,1.8319317342791805],\"type\":\"data\",\"visible\":true},\"line\":{\"dash\":\"dot\"},\"marker\":{\"symbol\":[0,2]},\"name\":\"teste: wcpu 0, wodc 0, wd 1, odcs 493\",\"x\":[1.0,2.0,3.0,4.0,5.0,6.0,7.0,8.0,9.0,10.0,11.0,12.0,13.0,14.0,15.0,16.0,17.0,18.0,19.0,20.0],\"y\":[89.8625,89.67567567567568,89.4896265560166,89.16589147286821,89.1198347107438,89.21199586349535,89.27794204612655,89.28124191461836,89.22224775913583,89.21199586349535,89.23716381418093,89.35059554634904,89.3470363288719,89.35720627404558,89.39071566731141,89.39689119170984,89.42414634146341,89.4896265560166,89.5091743119266,89.49891067538127],\"type\":\"scatter\"},{\"error_y\":{\"array\":[14.280898547963318,10.047841284076469,8.230280123422887,7.115716705987097,6.361351370859978,5.802711536791122,5.368248692181538,5.018719582745717,4.729629324077706,4.486011256805028,4.276323013150005,4.093219145377191,3.9317855832763087,3.7897889502108626,3.664566684056041,3.5484147858450115,3.441693261245007,3.344055495628652,3.2542819481795675,3.1713706344913533],\"type\":\"data\",\"visible\":true},\"line\":{\"dash\":\"dash\"},\"marker\":{\"symbol\":[0,3]},\"name\":\"teste: wcpu 0, wodc 0, wd 1, odcs 328\",\"x\":[1.0,2.0,3.0,4.0,5.0,6.0,7.0,8.0,9.0,10.0,11.0,12.0,13.0,14.0,15.0,16.0,17.0,18.0,19.0,20.0],\"y\":[131.90825688073394,131.70687022900762,132.04285714285714,132.00918133129304,132.06981016533987,132.04285714285714,131.9659090909091,131.90825688073394,131.86345108695653,131.8679302965454,131.8715953307393,131.841059602649,131.81523272214386,131.87944966149814,131.90825688073394,131.90825688073394,131.88453237410073,131.86345108695653,131.84459459459458,131.8276283618582],\"type\":\"scatter\"},{\"error_y\":{\"array\":[55.45866950753958,39.44624556739382,31.36055403045424,27.078602015942977,24.11580340138545,21.75215072000117,20.227293221909918,18.985908846905886,17.778789235179772,16.88442097601677,16.033356411226464,15.28320025096184,14.746504778910207,14.1977987006415,13.808257890018695,13.398186523653749,13.098122096160239,12.761011076702687,12.436370351883,12.131271110315481],\"type\":\"data\",\"visible\":true},\"line\":{\"dash\":\"longdash\"},\"marker\":{\"symbol\":[0,4]},\"name\":\"teste: wcpu 0, wodc 0, wd 1, odcs 246\",\"x\":[1.0,2.0,3.0,4.0,5.0,6.0,7.0,8.0,9.0,10.0,11.0,12.0,13.0,14.0,15.0,16.0,17.0,18.0,19.0,20.0],\"y\":[310.31654676258995,304.8339222614841,305.9148936170213,307.55080213903744,307.660485021398,305.55371900826447,307.1597151576806,306.18633540372673,303.99843382928736,303.54679802955667,303.1782747603834,303.4044548651817,304.9168026101142,304.68012108980827,305.9148936170213,305.23839009287923,305.40524781341105,305.55371900826447,305.2312849162011,305.26539278131634],\"type\":\"scatter\"},{\"error_y\":{\"array\":[2.1849963357465896,1.4691573454868987,1.1735223746457422,1.0236579391992535,0.9133615222444789,0.8410685022800877,0.7901600131180189,0.7413447495109224,0.7070044605450576,0.6767762009291189,0.6432184623714505,0.6193196255454438,0.593784387228169,0.576638708332446,0.5577504221346601,0.5391961417265492,0.525558110837018,0.5089043647136648,0.49388552503130256,0.4797340109171273],\"type\":\"data\",\"visible\":true},\"line\":{\"dash\":\"dashdot\"},\"marker\":{\"symbol\":[0,5]},\"name\":\"teste: wcpu 0, wodc 0, wd 0.5, odcs 0\",\"x\":[1.0,2.0,3.0,4.0,5.0,6.0,7.0,8.0,9.0,10.0,11.0,12.0,13.0,14.0,15.0,16.0,17.0,18.0,19.0,20.0],\"y\":[50.62676056338028,50.03944315545244,49.78914967295113,49.909169800404975,49.87742830712303,49.971809229581,50.014576776544644,50.032187907785996,50.03299394251837,50.0336387890036,50.03416640303701,50.07332881880623,50.06625,50.105874543644205,50.12861238087859,50.16310510248583,50.19014373716632,50.13314392716472,50.11287758346582,50.120845921450154],\"type\":\"scatter\"},{\"error_y\":{\"array\":[8.185581763876357,5.777545226262546,4.722327514433161,4.069877331416578,3.631777730343188,3.3368630662369156,3.0857335507806027,2.8889309176192057,2.7212190151072235,2.579684388466248,2.4631294424103203,2.3617733471196516,2.267514988118023,2.1838941006958947,2.1099130235904653,2.04391833148145,1.9849993128547965,1.9305026762426678,1.8809366249738702,1.8320130358410864],\"type\":\"data\",\"visible\":true},\"line\":{\"dash\":\"longdashdot\"},\"marker\":{\"symbol\":[0,1]},\"name\":\"teste: wcpu 0, wodc 0, wd 0.5, odcs 493\",\"x\":[1.0,2.0,3.0,4.0,5.0,6.0,7.0,8.0,9.0,10.0,11.0,12.0,13.0,14.0,15.0,16.0,17.0,18.0,19.0,20.0],\"y\":[89.8625,89.67567567567568,89.4896265560166,89.16589147286821,89.1198347107438,89.21199586349535,89.27794204612655,89.28124191461836,89.26327891469303,89.24891371818747,89.27074317968015,89.38145398031428,89.37551801083838,89.38365896980461,89.41542288557214,89.42005700958798,89.44596242986094,89.51026054876642,89.52873060956959,89.51748469440697],\"type\":\"scatter\"},{\"error_y\":{\"array\":[14.280898547963318,10.047841284076469,8.230280123422887,7.115716705987097,6.361351370859978,5.802711536791122,5.368248692181538,5.018719582745717,4.730399359381067,4.486668247029627,4.276892053672128,4.093718602389515,3.9322285658504086,3.790184952817043,3.6649244863906176,3.548739641515823,3.4419898713957195,3.344327728586876,3.2545329691907625,3.17160306188822],\"type\":\"data\",\"visible\":true},\"line\":{\"dash\":\"solid\"},\"marker\":{\"symbol\":[0,2]},\"name\":\"teste: wcpu 0, wodc 0, wd 0.5, odcs 328\",\"x\":[1.0,2.0,3.0,4.0,5.0,6.0,7.0,8.0,9.0,10.0,11.0,12.0,13.0,14.0,15.0,16.0,17.0,18.0,19.0,20.0],\"y\":[131.90825688073394,131.70687022900762,132.04285714285714,132.00918133129304,132.06981016533987,132.04285714285714,131.9659090909091,131.90825688073394,131.90825688073394,131.90825688073394,131.90825688073394,131.87464968152867,131.84622619327533,131.90825688073394,131.93515497553017,131.93347352322692,131.90825688073394,131.8858501783591,131.86580852775543,131.84777624942686],\"type\":\"scatter\"},{\"error_y\":{\"array\":[55.45866950753958,39.44624556739382,31.36055403045424,27.078602015942977,24.11580340138545,21.75215072000117,20.227293221909918,18.985908846905886,17.907887067756235,16.994573125130785,16.12864034361411,15.366713388913297,14.820775298647959,14.264205600374453,13.86832983643842,13.452700952621626,13.148019646876264,12.80684708195929,12.478631929815151,12.170410507568647],\"type\":\"data\",\"visible\":true},\"line\":{\"dash\":\"dot\"},\"marker\":{\"symbol\":[0,3]},\"name\":\"teste: wcpu 0, wodc 0, wd 0.5, odcs 246\",\"x\":[1.0,2.0,3.0,4.0,5.0,6.0,7.0,8.0,9.0,10.0,11.0,12.0,13.0,14.0,15.0,16.0,17.0,18.0,19.0,20.0],\"y\":[310.31654676258995,304.8339222614841,305.9148936170213,307.55080213903744,307.660485021398,305.55371900826447,307.1597151576806,306.18633540372673,305.4335169158143,304.8339222614841,304.34509300833867,304.4752941176471,305.9148936170213,305.60526315789474,306.78520625889047,306.05055432372507,306.1703549060543,306.2769230769231,305.9148936170213,305.9148936170213],\"type\":\"scatter\"}],                        {\"legend\":{\"traceorder\":\"normal\"},\"xaxis\":{\"title\":{\"text\":\"Jobs\"}},\"yaxis\":{\"domain\":[0,1],\"title\":{\"text\":\"PHY-Jobs-Capacity (CPUs\\u002fODC)\"}},\"template\":{\"data\":{\"histogram2dcontour\":[{\"type\":\"histogram2dcontour\",\"colorbar\":{\"outlinewidth\":0,\"ticks\":\"\"},\"colorscale\":[[0.0,\"#0d0887\"],[0.1111111111111111,\"#46039f\"],[0.2222222222222222,\"#7201a8\"],[0.3333333333333333,\"#9c179e\"],[0.4444444444444444,\"#bd3786\"],[0.5555555555555556,\"#d8576b\"],[0.6666666666666666,\"#ed7953\"],[0.7777777777777778,\"#fb9f3a\"],[0.8888888888888888,\"#fdca26\"],[1.0,\"#f0f921\"]]}],\"choropleth\":[{\"type\":\"choropleth\",\"colorbar\":{\"outlinewidth\":0,\"ticks\":\"\"}}],\"histogram2d\":[{\"type\":\"histogram2d\",\"colorbar\":{\"outlinewidth\":0,\"ticks\":\"\"},\"colorscale\":[[0.0,\"#0d0887\"],[0.1111111111111111,\"#46039f\"],[0.2222222222222222,\"#7201a8\"],[0.3333333333333333,\"#9c179e\"],[0.4444444444444444,\"#bd3786\"],[0.5555555555555556,\"#d8576b\"],[0.6666666666666666,\"#ed7953\"],[0.7777777777777778,\"#fb9f3a\"],[0.8888888888888888,\"#fdca26\"],[1.0,\"#f0f921\"]]}],\"heatmap\":[{\"type\":\"heatmap\",\"colorbar\":{\"outlinewidth\":0,\"ticks\":\"\"},\"colorscale\":[[0.0,\"#0d0887\"],[0.1111111111111111,\"#46039f\"],[0.2222222222222222,\"#7201a8\"],[0.3333333333333333,\"#9c179e\"],[0.4444444444444444,\"#bd3786\"],[0.5555555555555556,\"#d8576b\"],[0.6666666666666666,\"#ed7953\"],[0.7777777777777778,\"#fb9f3a\"],[0.8888888888888888,\"#fdca26\"],[1.0,\"#f0f921\"]]}],\"heatmapgl\":[{\"type\":\"heatmapgl\",\"colorbar\":{\"outlinewidth\":0,\"ticks\":\"\"},\"colorscale\":[[0.0,\"#0d0887\"],[0.1111111111111111,\"#46039f\"],[0.2222222222222222,\"#7201a8\"],[0.3333333333333333,\"#9c179e\"],[0.4444444444444444,\"#bd3786\"],[0.5555555555555556,\"#d8576b\"],[0.6666666666666666,\"#ed7953\"],[0.7777777777777778,\"#fb9f3a\"],[0.8888888888888888,\"#fdca26\"],[1.0,\"#f0f921\"]]}],\"contourcarpet\":[{\"type\":\"contourcarpet\",\"colorbar\":{\"outlinewidth\":0,\"ticks\":\"\"}}],\"contour\":[{\"type\":\"contour\",\"colorbar\":{\"outlinewidth\":0,\"ticks\":\"\"},\"colorscale\":[[0.0,\"#0d0887\"],[0.1111111111111111,\"#46039f\"],[0.2222222222222222,\"#7201a8\"],[0.3333333333333333,\"#9c179e\"],[0.4444444444444444,\"#bd3786\"],[0.5555555555555556,\"#d8576b\"],[0.6666666666666666,\"#ed7953\"],[0.7777777777777778,\"#fb9f3a\"],[0.8888888888888888,\"#fdca26\"],[1.0,\"#f0f921\"]]}],\"surface\":[{\"type\":\"surface\",\"colorbar\":{\"outlinewidth\":0,\"ticks\":\"\"},\"colorscale\":[[0.0,\"#0d0887\"],[0.1111111111111111,\"#46039f\"],[0.2222222222222222,\"#7201a8\"],[0.3333333333333333,\"#9c179e\"],[0.4444444444444444,\"#bd3786\"],[0.5555555555555556,\"#d8576b\"],[0.6666666666666666,\"#ed7953\"],[0.7777777777777778,\"#fb9f3a\"],[0.8888888888888888,\"#fdca26\"],[1.0,\"#f0f921\"]]}],\"mesh3d\":[{\"type\":\"mesh3d\",\"colorbar\":{\"outlinewidth\":0,\"ticks\":\"\"}}],\"scatter\":[{\"fillpattern\":{\"fillmode\":\"overlay\",\"size\":10,\"solidity\":0.2},\"type\":\"scatter\"}],\"parcoords\":[{\"type\":\"parcoords\",\"line\":{\"colorbar\":{\"outlinewidth\":0,\"ticks\":\"\"}}}],\"scatterpolargl\":[{\"type\":\"scatterpolargl\",\"marker\":{\"colorbar\":{\"outlinewidth\":0,\"ticks\":\"\"}}}],\"bar\":[{\"error_x\":{\"color\":\"#2a3f5f\"},\"error_y\":{\"color\":\"#2a3f5f\"},\"marker\":{\"line\":{\"color\":\"#E5ECF6\",\"width\":0.5},\"pattern\":{\"fillmode\":\"overlay\",\"size\":10,\"solidity\":0.2}},\"type\":\"bar\"}],\"scattergeo\":[{\"type\":\"scattergeo\",\"marker\":{\"colorbar\":{\"outlinewidth\":0,\"ticks\":\"\"}}}],\"scatterpolar\":[{\"type\":\"scatterpolar\",\"marker\":{\"colorbar\":{\"outlinewidth\":0,\"ticks\":\"\"}}}],\"histogram\":[{\"marker\":{\"pattern\":{\"fillmode\":\"overlay\",\"size\":10,\"solidity\":0.2}},\"type\":\"histogram\"}],\"scattergl\":[{\"type\":\"scattergl\",\"marker\":{\"colorbar\":{\"outlinewidth\":0,\"ticks\":\"\"}}}],\"scatter3d\":[{\"type\":\"scatter3d\",\"line\":{\"colorbar\":{\"outlinewidth\":0,\"ticks\":\"\"}},\"marker\":{\"colorbar\":{\"outlinewidth\":0,\"ticks\":\"\"}}}],\"scattermapbox\":[{\"type\":\"scattermapbox\",\"marker\":{\"colorbar\":{\"outlinewidth\":0,\"ticks\":\"\"}}}],\"scatterternary\":[{\"type\":\"scatterternary\",\"marker\":{\"colorbar\":{\"outlinewidth\":0,\"ticks\":\"\"}}}],\"scattercarpet\":[{\"type\":\"scattercarpet\",\"marker\":{\"colorbar\":{\"outlinewidth\":0,\"ticks\":\"\"}}}],\"carpet\":[{\"aaxis\":{\"endlinecolor\":\"#2a3f5f\",\"gridcolor\":\"white\",\"linecolor\":\"white\",\"minorgridcolor\":\"white\",\"startlinecolor\":\"#2a3f5f\"},\"baxis\":{\"endlinecolor\":\"#2a3f5f\",\"gridcolor\":\"white\",\"linecolor\":\"white\",\"minorgridcolor\":\"white\",\"startlinecolor\":\"#2a3f5f\"},\"type\":\"carpet\"}],\"table\":[{\"cells\":{\"fill\":{\"color\":\"#EBF0F8\"},\"line\":{\"color\":\"white\"}},\"header\":{\"fill\":{\"color\":\"#C8D4E3\"},\"line\":{\"color\":\"white\"}},\"type\":\"table\"}],\"barpolar\":[{\"marker\":{\"line\":{\"color\":\"#E5ECF6\",\"width\":0.5},\"pattern\":{\"fillmode\":\"overlay\",\"size\":10,\"solidity\":0.2}},\"type\":\"barpolar\"}],\"pie\":[{\"automargin\":true,\"type\":\"pie\"}]},\"layout\":{\"autotypenumbers\":\"strict\",\"colorway\":[\"#636efa\",\"#EF553B\",\"#00cc96\",\"#ab63fa\",\"#FFA15A\",\"#19d3f3\",\"#FF6692\",\"#B6E880\",\"#FF97FF\",\"#FECB52\"],\"font\":{\"color\":\"#2a3f5f\"},\"hovermode\":\"closest\",\"hoverlabel\":{\"align\":\"left\"},\"paper_bgcolor\":\"white\",\"plot_bgcolor\":\"#E5ECF6\",\"polar\":{\"bgcolor\":\"#E5ECF6\",\"angularaxis\":{\"gridcolor\":\"white\",\"linecolor\":\"white\",\"ticks\":\"\"},\"radialaxis\":{\"gridcolor\":\"white\",\"linecolor\":\"white\",\"ticks\":\"\"}},\"ternary\":{\"bgcolor\":\"#E5ECF6\",\"aaxis\":{\"gridcolor\":\"white\",\"linecolor\":\"white\",\"ticks\":\"\"},\"baxis\":{\"gridcolor\":\"white\",\"linecolor\":\"white\",\"ticks\":\"\"},\"caxis\":{\"gridcolor\":\"white\",\"linecolor\":\"white\",\"ticks\":\"\"}},\"coloraxis\":{\"colorbar\":{\"outlinewidth\":0,\"ticks\":\"\"}},\"colorscale\":{\"sequential\":[[0.0,\"#0d0887\"],[0.1111111111111111,\"#46039f\"],[0.2222222222222222,\"#7201a8\"],[0.3333333333333333,\"#9c179e\"],[0.4444444444444444,\"#bd3786\"],[0.5555555555555556,\"#d8576b\"],[0.6666666666666666,\"#ed7953\"],[0.7777777777777778,\"#fb9f3a\"],[0.8888888888888888,\"#fdca26\"],[1.0,\"#f0f921\"]],\"sequentialminus\":[[0.0,\"#0d0887\"],[0.1111111111111111,\"#46039f\"],[0.2222222222222222,\"#7201a8\"],[0.3333333333333333,\"#9c179e\"],[0.4444444444444444,\"#bd3786\"],[0.5555555555555556,\"#d8576b\"],[0.6666666666666666,\"#ed7953\"],[0.7777777777777778,\"#fb9f3a\"],[0.8888888888888888,\"#fdca26\"],[1.0,\"#f0f921\"]],\"diverging\":[[0,\"#8e0152\"],[0.1,\"#c51b7d\"],[0.2,\"#de77ae\"],[0.3,\"#f1b6da\"],[0.4,\"#fde0ef\"],[0.5,\"#f7f7f7\"],[0.6,\"#e6f5d0\"],[0.7,\"#b8e186\"],[0.8,\"#7fbc41\"],[0.9,\"#4d9221\"],[1,\"#276419\"]]},\"xaxis\":{\"gridcolor\":\"white\",\"linecolor\":\"white\",\"ticks\":\"\",\"title\":{\"standoff\":15},\"zerolinecolor\":\"white\",\"automargin\":true,\"zerolinewidth\":2},\"yaxis\":{\"gridcolor\":\"white\",\"linecolor\":\"white\",\"ticks\":\"\",\"title\":{\"standoff\":15},\"zerolinecolor\":\"white\",\"automargin\":true,\"zerolinewidth\":2},\"scene\":{\"xaxis\":{\"backgroundcolor\":\"#E5ECF6\",\"gridcolor\":\"white\",\"linecolor\":\"white\",\"showbackground\":true,\"ticks\":\"\",\"zerolinecolor\":\"white\",\"gridwidth\":2},\"yaxis\":{\"backgroundcolor\":\"#E5ECF6\",\"gridcolor\":\"white\",\"linecolor\":\"white\",\"showbackground\":true,\"ticks\":\"\",\"zerolinecolor\":\"white\",\"gridwidth\":2},\"zaxis\":{\"backgroundcolor\":\"#E5ECF6\",\"gridcolor\":\"white\",\"linecolor\":\"white\",\"showbackground\":true,\"ticks\":\"\",\"zerolinecolor\":\"white\",\"gridwidth\":2}},\"shapedefaults\":{\"line\":{\"color\":\"#2a3f5f\"}},\"annotationdefaults\":{\"arrowcolor\":\"#2a3f5f\",\"arrowhead\":0,\"arrowwidth\":1},\"geo\":{\"bgcolor\":\"white\",\"landcolor\":\"#E5ECF6\",\"subunitcolor\":\"white\",\"showland\":true,\"showlakes\":true,\"lakecolor\":\"white\"},\"title\":{\"x\":0.05},\"mapbox\":{\"style\":\"light\"}}}},                        {\"responsive\": true}                    ).then(function(){\n",
       "                            \n",
       "var gd = document.getElementById('91349330-507f-4110-8170-8e241fbe21dd');\n",
       "var x = new MutationObserver(function (mutations, observer) {{\n",
       "        var display = window.getComputedStyle(gd).display;\n",
       "        if (!display || display === 'none') {{\n",
       "            console.log([gd, 'removed!']);\n",
       "            Plotly.purge(gd);\n",
       "            observer.disconnect();\n",
       "        }}\n",
       "}});\n",
       "\n",
       "// Listen for the removal of the full notebook cells\n",
       "var notebookContainer = gd.closest('#notebook-container');\n",
       "if (notebookContainer) {{\n",
       "    x.observe(notebookContainer, {childList: true});\n",
       "}}\n",
       "\n",
       "// Listen for the clearing of the current output cell\n",
       "var outputEl = gd.closest('.output');\n",
       "if (outputEl) {{\n",
       "    x.observe(outputEl, {childList: true});\n",
       "}}\n",
       "\n",
       "                        })                };                });            </script>        </div>"
      ]
     },
     "metadata": {},
     "output_type": "display_data"
    },
    {
     "name": "stdout",
     "output_type": "stream",
     "text": [
      "3 1 3\n"
     ]
    },
    {
     "name": "stderr",
     "output_type": "stream",
     "text": [
      "No artists with labels found to put in legend.  Note that artists whose label start with an underscore are ignored when legend() is called with no argument.\n"
     ]
    },
    {
     "data": {
      "image/png": "[encoded data removed]",
      "text/plain": [
       "<Figure size 2000x1000 with 1 Axes>"
      ]
     },
     "metadata": {},
     "output_type": "display_data"
    },
    {
     "data": {
      "application/vnd.plotly.v1+json": {
       "config": {
        "plotlyServerURL": "https://plot.ly"
       },
       "data": [
        {
         "error_y": {
          "array": [
           0.04069363110626195,
           0.02841290221703882,
           0.022217280732132805,
           0.01918089385307986,
           0.017353769988153966,
           0.01601286162691326,
           0.014849125815667635,
           0.013895377836963652,
           0.013068548839807098,
           0.012335605192421328,
           0.011736511920145604,
           0.011271396846622872,
           0.010821407534787997,
           0.01044984045955133,
           0.010134368207795952,
           0.00977477496773485,
           0.009497245533877319,
           0.009153246929114456,
           0.008909949306658477,
           0.00868082824657368
          ],
          "type": "data",
          "visible": true
         },
         "line": {
          "dash": "solid"
         },
         "marker": {
          "symbol": [
           0,
           1
          ]
         },
         "name": "teste: wcpu 0, wodc 0, wd 1, odcs 0",
         "type": "scatter",
         "x": [
          1,
          2,
          3,
          4,
          5,
          6,
          7,
          8,
          9,
          10,
          11,
          12,
          13,
          14,
          15,
          16,
          17,
          18,
          19,
          20
         ],
         "y": [
          0.15369341298178582,
          0.14679789687773057,
          0.14007914837778013,
          0.14063707472613185,
          0.14007063401370434,
          0.14202126393253683,
          0.14293634073157144,
          0.14327439118553398,
          0.14246825645430536,
          0.1421422479286051,
          0.14172977729598688,
          0.14200620283711,
          0.14144985917916067,
          0.14235878751112055,
          0.1430818428789588,
          0.14287497338643404,
          0.14348382145757693,
          0.14197642755449744,
          0.1417876343099216,
          0.1417333127597536
         ]
        },
        {
         "error_y": {
          "array": [
           0.19956597251866848,
           0.14129871445799314,
           0.11492469801746519,
           0.09874081823382785,
           0.08811232433131355,
           0.08089923436902158,
           0.07480497825446975,
           0.06996456155769937,
           0.06593954012859737,
           0.06261501198890751,
           0.05979106823718361,
           0.05742604762387238,
           0.05516026368245819,
           0.05320017399422605,
           0.051415618771283755,
           0.049751765045328744,
           0.048375031077501074,
           0.0470334538609809,
           0.04591343430718786,
           0.04470522543743338
          ],
          "type": "data",
          "visible": true
         },
         "line": {
          "dash": "dot"
         },
         "marker": {
          "symbol": [
           0,
           2
          ]
         },
         "name": "teste: wcpu 0, wodc 0, wd 1, odcs 493",
         "type": "scatter",
         "x": [
          1,
          2,
          3,
          4,
          5,
          6,
          7,
          8,
          9,
          10,
          11,
          12,
          13,
          14,
          15,
          16,
          17,
          18,
          19,
          20
         ],
         "y": [
          1.3933077533522658,
          1.3823015866278519,
          1.3732047657560333,
          1.358603935618737,
          1.3574281077629304,
          1.3618673237605032,
          1.3643562578319275,
          1.3645941415591607,
          1.3623942321633389,
          1.3630185825990868,
          1.3637219296837377,
          1.368716803711648,
          1.3689531053931023,
          1.370071835654455,
          1.3714713243597991,
          1.3714627754369948,
          1.3728301320104603,
          1.375493539482045,
          1.376317008581258,
          1.3760330506723126
         ]
        },
        {
         "error_y": {
          "array": [
           0.43970769074718774,
           0.307975509823637,
           0.25379294830745636,
           0.2188973581972724,
           0.19559304811720857,
           0.1781720241762179,
           0.16468440203726198,
           0.1538580509296108,
           0.14491930983601176,
           0.1374736839604358,
           0.13097925556691825,
           0.12533098017637023,
           0.12035547136671276,
           0.11600079747159908,
           0.11228785007951103,
           0.10873867071177212,
           0.10544146743810634,
           0.10242702122979486,
           0.09965710715670806,
           0.09710036313958348
          ],
          "type": "data",
          "visible": true
         },
         "line": {
          "dash": "dash"
         },
         "marker": {
          "symbol": [
           0,
           3
          ]
         },
         "name": "teste: wcpu 0, wodc 0, wd 1, odcs 328",
         "type": "scatter",
         "x": [
          1,
          2,
          3,
          4,
          5,
          6,
          7,
          8,
          9,
          10,
          11,
          12,
          13,
          14,
          15,
          16,
          17,
          18,
          19,
          20
         ],
         "y": [
          3.3612624075560085,
          3.347033866581984,
          3.3745119558458665,
          3.3690941476934153,
          3.3707607627596823,
          3.3673943689034953,
          3.362442018527638,
          3.3587315419463377,
          3.3558478563423932,
          3.3569055861179913,
          3.3568511962179173,
          3.3548458938697023,
          3.3531498247938023,
          3.3560464177903917,
          3.357780321847638,
          3.3574896972054953,
          3.3560360559567513,
          3.3547443693036554,
          3.353588999646124,
          3.352549449440815
         ]
        },
        {
         "error_y": {
          "array": [
           3.4576958123763646,
           2.5592715014786087,
           2.0108985395655736,
           1.7111265313243997,
           1.5246052054751509,
           1.361264730894991,
           1.2662934711499183,
           1.1946863852235161,
           1.1230652007979103,
           1.070201073500204,
           1.0148806107241626,
           0.9634224654402104,
           0.9302832007308197,
           0.8952588945966689,
           0.8750336953758762,
           0.8442748394554442,
           0.8266632250153023,
           0.8037784911954162,
           0.7848943495385399,
           0.7676989165096977
          ],
          "type": "data",
          "visible": true
         },
         "line": {
          "dash": "longdash"
         },
         "marker": {
          "symbol": [
           0,
           4
          ]
         },
         "name": "teste: wcpu 0, wodc 0, wd 1, odcs 246",
         "type": "scatter",
         "x": [
          1,
          2,
          3,
          4,
          5,
          6,
          7,
          8,
          9,
          10,
          11,
          12,
          13,
          14,
          15,
          16,
          17,
          18,
          19,
          20
         ],
         "y": [
          19.439269293179986,
          18.97590746586475,
          19.04842252657094,
          19.066598241080502,
          19.07397635244336,
          18.847089254563592,
          19.007632277453535,
          18.899551910666133,
          18.69089095508131,
          18.64442413215103,
          18.588548253899308,
          18.58825163318465,
          18.729631413826873,
          18.718439031019756,
          18.817084916638763,
          18.729125011107577,
          18.779650422298445,
          18.805698456775207,
          18.77506225326031,
          18.760254409197177
         ]
        },
        {
         "error_y": {
          "array": [
           0.04069363110626195,
           0.02841290221703882,
           0.022217280732132805,
           0.01918089385307986,
           0.017353769988153966,
           0.01601286162691326,
           0.014849125815667635,
           0.013895377836963652,
           0.01302412784370341,
           0.012297354294587365,
           0.011703245321193906,
           0.011242303626198352,
           0.01079559279913439,
           0.010426775497671542,
           0.010113682883750197,
           0.009755843129230168,
           0.009479978776544329,
           0.009137223831192448,
           0.008895193316000083,
           0.008667151353883018
          ],
          "type": "data",
          "visible": true
         },
         "line": {
          "dash": "dashdot"
         },
         "marker": {
          "symbol": [
           0,
           5
          ]
         },
         "name": "teste: wcpu 0, wodc 0, wd 0.5, odcs 0",
         "type": "scatter",
         "x": [
          1,
          2,
          3,
          4,
          5,
          6,
          7,
          8,
          9,
          10,
          11,
          12,
          13,
          14,
          15,
          16,
          17,
          18,
          19,
          20
         ],
         "y": [
          0.15369341298178582,
          0.14679789687773057,
          0.14007914837778013,
          0.14063707472613185,
          0.14007063401370434,
          0.14202126393253683,
          0.14293634073157144,
          0.14327439118553398,
          0.14282218500901153,
          0.1424604095769879,
          0.14201858325026104,
          0.14227141625684425,
          0.14169414022230473,
          0.14258655360525704,
          0.14329508123955473,
          0.1430748715420734,
          0.14367247904183414,
          0.14215342848217663,
          0.14195513617090494,
          0.14189243326980586
         ]
        },
        {
         "error_y": {
          "array": [
           0.19956597251866848,
           0.14129871445799314,
           0.11492469801746519,
           0.09874081823382785,
           0.08811232433131355,
           0.08089923436902158,
           0.07480497825446975,
           0.06996456155769937,
           0.0660300436960084,
           0.06269221242613487,
           0.05985794992077165,
           0.057484610514446866,
           0.05521219257291099,
           0.05324659968948886,
           0.051457461030517626,
           0.049789758486999736,
           0.04840968211763785,
           0.04706523401143414,
           0.04594270574490911,
           0.044732337867244176
          ],
          "type": "data",
          "visible": true
         },
         "line": {
          "dash": "longdashdot"
         },
         "marker": {
          "symbol": [
           0,
           1
          ]
         },
         "name": "teste: wcpu 0, wodc 0, wd 0.5, odcs 493",
         "type": "scatter",
         "x": [
          1,
          2,
          3,
          4,
          5,
          6,
          7,
          8,
          9,
          10,
          11,
          12,
          13,
          14,
          15,
          16,
          17,
          18,
          19,
          20
         ],
         "y": [
          1.3933077533522658,
          1.3823015866278519,
          1.3732047657560333,
          1.358603935618737,
          1.3574281077629304,
          1.3618673237605032,
          1.3643562578319275,
          1.3645941415591607,
          1.3650434352379979,
          1.3654027400318542,
          1.365890140326585,
          1.3707085200498952,
          1.3707915660112333,
          1.3717794643369114,
          1.3730660643205628,
          1.3729579194196637,
          1.3742380676010175,
          1.3768248264069158,
          1.3775786679350408,
          1.377231417571629
         ]
        },
        {
         "error_y": {
          "array": [
           0.43970769074718774,
           0.307975509823637,
           0.25379294830745636,
           0.2188973581972724,
           0.19559304811720857,
           0.1781720241762179,
           0.16468440203726198,
           0.1538580509296108,
           0.145032852164658,
           0.13757057626716174,
           0.1310632507643974,
           0.1254047499156843,
           0.12042093412861199,
           0.11605932769550265,
           0.11234058211349174,
           0.10878654241102614,
           0.10548520015769247,
           0.10246717880864553,
           0.09969415147023986,
           0.09713467663941122
          ],
          "type": "data",
          "visible": true
         },
         "line": {
          "dash": "solid"
         },
         "marker": {
          "symbol": [
           0,
           2
          ]
         },
         "name": "teste: wcpu 0, wodc 0, wd 0.5, odcs 328",
         "type": "scatter",
         "x": [
          1,
          2,
          3,
          4,
          5,
          6,
          7,
          8,
          9,
          10,
          11,
          12,
          13,
          14,
          15,
          16,
          17,
          18,
          19,
          20
         ],
         "y": [
          3.3612624075560085,
          3.347033866581984,
          3.3745119558458665,
          3.3690941476934153,
          3.3707607627596823,
          3.3673943689034953,
          3.362442018527638,
          3.3587315419463377,
          3.3595867471463006,
          3.3602709113062708,
          3.359910567631811,
          3.357649092257837,
          3.3557364360339514,
          3.358450033823015,
          3.360024507838952,
          3.3595935392006715,
          3.3580155025902316,
          3.3566133097060438,
          3.3553591198036794,
          3.3542306747547377
         ]
        },
        {
         "error_y": {
          "array": [
           3.4576958123763646,
           2.5592715014786087,
           2.0108985395655736,
           1.7111265313243997,
           1.5246052054751509,
           1.361264730894991,
           1.2662934711499183,
           1.1946863852235161,
           1.1316901692965473,
           1.0775806094497398,
           1.0212826341742591,
           0.9690358436009916,
           0.9352502233362721,
           0.899700401985843,
           0.8790430052876665,
           0.8479228215099859,
           0.8299917300421313,
           0.8068300711196201,
           0.787712397771994,
           0.7703135663809455
          ],
          "type": "data",
          "visible": true
         },
         "line": {
          "dash": "dot"
         },
         "marker": {
          "symbol": [
           0,
           3
          ]
         },
         "name": "teste: wcpu 0, wodc 0, wd 0.5, odcs 246",
         "type": "scatter",
         "x": [
          1,
          2,
          3,
          4,
          5,
          6,
          7,
          8,
          9,
          10,
          11,
          12,
          13,
          14,
          15,
          16,
          17,
          18,
          19,
          20
         ],
         "y": [
          19.439269293179986,
          18.97590746586475,
          19.04842252657094,
          19.066598241080502,
          19.07397635244336,
          18.847089254563592,
          19.007632277453535,
          18.899551910666133,
          18.82396061799254,
          18.76375469089491,
          18.696641573561323,
          18.687378518848647,
          18.822028568389143,
          18.804115564428564,
          18.89763906805152,
          18.80422964343411,
          18.850491381949162,
          18.8726887473355,
          18.838383107813968,
          18.82037771497195
         ]
        }
       ],
       "layout": {
        "autosize": true,
        "legend": {
         "traceorder": "normal"
        },
        "template": {
         "data": {
          "bar": [
           {
            "error_x": {
             "color": "#2a3f5f"
            },
            "error_y": {
             "color": "#2a3f5f"
            },
            "marker": {
             "line": {
              "color": "#E5ECF6",
              "width": 0.5
             },
             "pattern": {
              "fillmode": "overlay",
              "size": 10,
              "solidity": 0.2
             }
            },
            "type": "bar"
           }
          ],
          "barpolar": [
           {
            "marker": {
             "line": {
              "color": "#E5ECF6",
              "width": 0.5
             },
             "pattern": {
              "fillmode": "overlay",
              "size": 10,
              "solidity": 0.2
             }
            },
            "type": "barpolar"
           }
          ],
          "carpet": [
           {
            "aaxis": {
             "endlinecolor": "#2a3f5f",
             "gridcolor": "white",
             "linecolor": "white",
             "minorgridcolor": "white",
             "startlinecolor": "#2a3f5f"
            },
            "baxis": {
             "endlinecolor": "#2a3f5f",
             "gridcolor": "white",
             "linecolor": "white",
             "minorgridcolor": "white",
             "startlinecolor": "#2a3f5f"
            },
            "type": "carpet"
           }
          ],
          "choropleth": [
           {
            "colorbar": {
             "outlinewidth": 0,
             "ticks": ""
            },
            "type": "choropleth"
           }
          ],
          "contour": [
           {
            "colorbar": {
             "outlinewidth": 0,
             "ticks": ""
            },
            "colorscale": [
             [
              0,
              "#0d0887"
             ],
             [
              0.1111111111111111,
              "#46039f"
             ],
             [
              0.2222222222222222,
              "#7201a8"
             ],
             [
              0.3333333333333333,
              "#9c179e"
             ],
             [
              0.4444444444444444,
              "#bd3786"
             ],
             [
              0.5555555555555556,
              "#d8576b"
             ],
             [
              0.6666666666666666,
              "#ed7953"
             ],
             [
              0.7777777777777778,
              "#fb9f3a"
             ],
             [
              0.8888888888888888,
              "#fdca26"
             ],
             [
              1,
              "#f0f921"
             ]
            ],
            "type": "contour"
           }
          ],
          "contourcarpet": [
           {
            "colorbar": {
             "outlinewidth": 0,
             "ticks": ""
            },
            "type": "contourcarpet"
           }
          ],
          "heatmap": [
           {
            "colorbar": {
             "outlinewidth": 0,
             "ticks": ""
            },
            "colorscale": [
             [
              0,
              "#0d0887"
             ],
             [
              0.1111111111111111,
              "#46039f"
             ],
             [
              0.2222222222222222,
              "#7201a8"
             ],
             [
              0.3333333333333333,
              "#9c179e"
             ],
             [
              0.4444444444444444,
              "#bd3786"
             ],
             [
              0.5555555555555556,
              "#d8576b"
             ],
             [
              0.6666666666666666,
              "#ed7953"
             ],
             [
              0.7777777777777778,
              "#fb9f3a"
             ],
             [
              0.8888888888888888,
              "#fdca26"
             ],
             [
              1,
              "#f0f921"
             ]
            ],
            "type": "heatmap"
           }
          ],
          "heatmapgl": [
           {
            "colorbar": {
             "outlinewidth": 0,
             "ticks": ""
            },
            "colorscale": [
             [
              0,
              "#0d0887"
             ],
             [
              0.1111111111111111,
              "#46039f"
             ],
             [
              0.2222222222222222,
              "#7201a8"
             ],
             [
              0.3333333333333333,
              "#9c179e"
             ],
             [
              0.4444444444444444,
              "#bd3786"
             ],
             [
              0.5555555555555556,
              "#d8576b"
             ],
             [
              0.6666666666666666,
              "#ed7953"
             ],
             [
              0.7777777777777778,
              "#fb9f3a"
             ],
             [
              0.8888888888888888,
              "#fdca26"
             ],
             [
              1,
              "#f0f921"
             ]
            ],
            "type": "heatmapgl"
           }
          ],
          "histogram": [
           {
            "marker": {
             "pattern": {
              "fillmode": "overlay",
              "size": 10,
              "solidity": 0.2
             }
            },
            "type": "histogram"
           }
          ],
          "histogram2d": [
           {
            "colorbar": {
             "outlinewidth": 0,
             "ticks": ""
            },
            "colorscale": [
             [
              0,
              "#0d0887"
             ],
             [
              0.1111111111111111,
              "#46039f"
             ],
             [
              0.2222222222222222,
              "#7201a8"
             ],
             [
              0.3333333333333333,
              "#9c179e"
             ],
             [
              0.4444444444444444,
              "#bd3786"
             ],
             [
              0.5555555555555556,
              "#d8576b"
             ],
             [
              0.6666666666666666,
              "#ed7953"
             ],
             [
              0.7777777777777778,
              "#fb9f3a"
             ],
             [
              0.8888888888888888,
              "#fdca26"
             ],
             [
              1,
              "#f0f921"
             ]
            ],
            "type": "histogram2d"
           }
          ],
          "histogram2dcontour": [
           {
            "colorbar": {
             "outlinewidth": 0,
             "ticks": ""
            },
            "colorscale": [
             [
              0,
              "#0d0887"
             ],
             [
              0.1111111111111111,
              "#46039f"
             ],
             [
              0.2222222222222222,
              "#7201a8"
             ],
             [
              0.3333333333333333,
              "#9c179e"
             ],
             [
              0.4444444444444444,
              "#bd3786"
             ],
             [
              0.5555555555555556,
              "#d8576b"
             ],
             [
              0.6666666666666666,
              "#ed7953"
             ],
             [
              0.7777777777777778,
              "#fb9f3a"
             ],
             [
              0.8888888888888888,
              "#fdca26"
             ],
             [
              1,
              "#f0f921"
             ]
            ],
            "type": "histogram2dcontour"
           }
          ],
          "mesh3d": [
           {
            "colorbar": {
             "outlinewidth": 0,
             "ticks": ""
            },
            "type": "mesh3d"
           }
          ],
          "parcoords": [
           {
            "line": {
             "colorbar": {
              "outlinewidth": 0,
              "ticks": ""
             }
            },
            "type": "parcoords"
           }
          ],
          "pie": [
           {
            "automargin": true,
            "type": "pie"
           }
          ],
          "scatter": [
           {
            "fillpattern": {
             "fillmode": "overlay",
             "size": 10,
             "solidity": 0.2
            },
            "type": "scatter"
           }
          ],
          "scatter3d": [
           {
            "line": {
             "colorbar": {
              "outlinewidth": 0,
              "ticks": ""
             }
            },
            "marker": {
             "colorbar": {
              "outlinewidth": 0,
              "ticks": ""
             }
            },
            "type": "scatter3d"
           }
          ],
          "scattercarpet": [
           {
            "marker": {
             "colorbar": {
              "outlinewidth": 0,
              "ticks": ""
             }
            },
            "type": "scattercarpet"
           }
          ],
          "scattergeo": [
           {
            "marker": {
             "colorbar": {
              "outlinewidth": 0,
              "ticks": ""
             }
            },
            "type": "scattergeo"
           }
          ],
          "scattergl": [
           {
            "marker": {
             "colorbar": {
              "outlinewidth": 0,
              "ticks": ""
             }
            },
            "type": "scattergl"
           }
          ],
          "scattermapbox": [
           {
            "marker": {
             "colorbar": {
              "outlinewidth": 0,
              "ticks": ""
             }
            },
            "type": "scattermapbox"
           }
          ],
          "scatterpolar": [
           {
            "marker": {
             "colorbar": {
              "outlinewidth": 0,
              "ticks": ""
             }
            },
            "type": "scatterpolar"
           }
          ],
          "scatterpolargl": [
           {
            "marker": {
             "colorbar": {
              "outlinewidth": 0,
              "ticks": ""
             }
            },
            "type": "scatterpolargl"
           }
          ],
          "scatterternary": [
           {
            "marker": {
             "colorbar": {
              "outlinewidth": 0,
              "ticks": ""
             }
            },
            "type": "scatterternary"
           }
          ],
          "surface": [
           {
            "colorbar": {
             "outlinewidth": 0,
             "ticks": ""
            },
            "colorscale": [
             [
              0,
              "#0d0887"
             ],
             [
              0.1111111111111111,
              "#46039f"
             ],
             [
              0.2222222222222222,
              "#7201a8"
             ],
             [
              0.3333333333333333,
              "#9c179e"
             ],
             [
              0.4444444444444444,
              "#bd3786"
             ],
             [
              0.5555555555555556,
              "#d8576b"
             ],
             [
              0.6666666666666666,
              "#ed7953"
             ],
             [
              0.7777777777777778,
              "#fb9f3a"
             ],
             [
              0.8888888888888888,
              "#fdca26"
             ],
             [
              1,
              "#f0f921"
             ]
            ],
            "type": "surface"
           }
          ],
          "table": [
           {
            "cells": {
             "fill": {
              "color": "#EBF0F8"
             },
             "line": {
              "color": "white"
             }
            },
            "header": {
             "fill": {
              "color": "#C8D4E3"
             },
             "line": {
              "color": "white"
             }
            },
            "type": "table"
           }
          ]
         },
         "layout": {
          "annotationdefaults": {
           "arrowcolor": "#2a3f5f",
           "arrowhead": 0,
           "arrowwidth": 1
          },
          "autotypenumbers": "strict",
          "coloraxis": {
           "colorbar": {
            "outlinewidth": 0,
            "ticks": ""
           }
          },
          "colorscale": {
           "diverging": [
            [
             0,
             "#8e0152"
            ],
            [
             0.1,
             "#c51b7d"
            ],
            [
             0.2,
             "#de77ae"
            ],
            [
             0.3,
             "#f1b6da"
            ],
            [
             0.4,
             "#fde0ef"
            ],
            [
             0.5,
             "#f7f7f7"
            ],
            [
             0.6,
             "#e6f5d0"
            ],
            [
             0.7,
             "#b8e186"
            ],
            [
             0.8,
             "#7fbc41"
            ],
            [
             0.9,
             "#4d9221"
            ],
            [
             1,
             "#276419"
            ]
           ],
           "sequential": [
            [
             0,
             "#0d0887"
            ],
            [
             0.1111111111111111,
             "#46039f"
            ],
            [
             0.2222222222222222,
             "#7201a8"
            ],
            [
             0.3333333333333333,
             "#9c179e"
            ],
            [
             0.4444444444444444,
             "#bd3786"
            ],
            [
             0.5555555555555556,
             "#d8576b"
            ],
            [
             0.6666666666666666,
             "#ed7953"
            ],
            [
             0.7777777777777778,
             "#fb9f3a"
            ],
            [
             0.8888888888888888,
             "#fdca26"
            ],
            [
             1,
             "#f0f921"
            ]
           ],
           "sequentialminus": [
            [
             0,
             "#0d0887"
            ],
            [
             0.1111111111111111,
             "#46039f"
            ],
            [
             0.2222222222222222,
             "#7201a8"
            ],
            [
             0.3333333333333333,
             "#9c179e"
            ],
            [
             0.4444444444444444,
             "#bd3786"
            ],
            [
             0.5555555555555556,
             "#d8576b"
            ],
            [
             0.6666666666666666,
             "#ed7953"
            ],
            [
             0.7777777777777778,
             "#fb9f3a"
            ],
            [
             0.8888888888888888,
             "#fdca26"
            ],
            [
             1,
             "#f0f921"
            ]
           ]
          },
          "colorway": [
           "#636efa",
           "#EF553B",
           "#00cc96",
           "#ab63fa",
           "#FFA15A",
           "#19d3f3",
           "#FF6692",
           "#B6E880",
           "#FF97FF",
           "#FECB52"
          ],
          "font": {
           "color": "#2a3f5f"
          },
          "geo": {
           "bgcolor": "white",
           "lakecolor": "white",
           "landcolor": "#E5ECF6",
           "showlakes": true,
           "showland": true,
           "subunitcolor": "white"
          },
          "hoverlabel": {
           "align": "left"
          },
          "hovermode": "closest",
          "mapbox": {
           "style": "light"
          },
          "paper_bgcolor": "white",
          "plot_bgcolor": "#E5ECF6",
          "polar": {
           "angularaxis": {
            "gridcolor": "white",
            "linecolor": "white",
            "ticks": ""
           },
           "bgcolor": "#E5ECF6",
           "radialaxis": {
            "gridcolor": "white",
            "linecolor": "white",
            "ticks": ""
           }
          },
          "scene": {
           "xaxis": {
            "backgroundcolor": "#E5ECF6",
            "gridcolor": "white",
            "gridwidth": 2,
            "linecolor": "white",
            "showbackground": true,
            "ticks": "",
            "zerolinecolor": "white"
           },
           "yaxis": {
            "backgroundcolor": "#E5ECF6",
            "gridcolor": "white",
            "gridwidth": 2,
            "linecolor": "white",
            "showbackground": true,
            "ticks": "",
            "zerolinecolor": "white"
           },
           "zaxis": {
            "backgroundcolor": "#E5ECF6",
            "gridcolor": "white",
            "gridwidth": 2,
            "linecolor": "white",
            "showbackground": true,
            "ticks": "",
            "zerolinecolor": "white"
           }
          },
          "shapedefaults": {
           "line": {
            "color": "#2a3f5f"
           }
          },
          "ternary": {
           "aaxis": {
            "gridcolor": "white",
            "linecolor": "white",
            "ticks": ""
           },
           "baxis": {
            "gridcolor": "white",
            "linecolor": "white",
            "ticks": ""
           },
           "bgcolor": "#E5ECF6",
           "caxis": {
            "gridcolor": "white",
            "linecolor": "white",
            "ticks": ""
           }
          },
          "title": {
           "x": 0.05
          },
          "xaxis": {
           "automargin": true,
           "gridcolor": "white",
           "linecolor": "white",
           "ticks": "",
           "title": {
            "standoff": 15
           },
           "zerolinecolor": "white",
           "zerolinewidth": 2
          },
          "yaxis": {
           "automargin": true,
           "gridcolor": "white",
           "linecolor": "white",
           "ticks": "",
           "title": {
            "standoff": 15
           },
           "zerolinecolor": "white",
           "zerolinewidth": 2
          }
         }
        },
        "xaxis": {
         "autorange": true,
         "range": [
          -0.05555555555555558,
          21.055555555555557
         ],
         "title": {
          "text": "Jobs"
         },
         "type": "linear"
        },
        "yaxis": {
         "autorange": true,
         "domain": [
          0,
          1
         ],
         "range": [
          -1.1527760694400775,
          24.162740956871954
         ],
         "title": {
          "text": "PHY-Jobs-Fiberlenght (kms)"
         },
         "type": "linear"
        }
       }
      },
      "image/png": "[encoded data removed]",
      "text/html": [
       "<div>                            <div id=\"3566868a-33b6-46fb-8c85-9c9e05844d3d\" class=\"plotly-graph-div\" style=\"height:525px; width:100%;\"></div>            <script type=\"text/javascript\">                require([\"plotly\"], function(Plotly) {                    window.PLOTLYENV=window.PLOTLYENV || {};                                    if (document.getElementById(\"3566868a-33b6-46fb-8c85-9c9e05844d3d\")) {                    Plotly.newPlot(                        \"3566868a-33b6-46fb-8c85-9c9e05844d3d\",                        [{\"error_y\":{\"array\":[0.04069363110626195,0.02841290221703882,0.022217280732132805,0.01918089385307986,0.017353769988153966,0.01601286162691326,0.014849125815667635,0.013895377836963652,0.013068548839807098,0.012335605192421328,0.011736511920145604,0.011271396846622872,0.010821407534787997,0.01044984045955133,0.010134368207795952,0.00977477496773485,0.009497245533877319,0.009153246929114456,0.008909949306658477,0.00868082824657368],\"type\":\"data\",\"visible\":true},\"line\":{\"dash\":\"solid\"},\"marker\":{\"symbol\":[0,1]},\"name\":\"teste: wcpu 0, wodc 0, wd 1, odcs 0\",\"x\":[1.0,2.0,3.0,4.0,5.0,6.0,7.0,8.0,9.0,10.0,11.0,12.0,13.0,14.0,15.0,16.0,17.0,18.0,19.0,20.0],\"y\":[0.15369341298178582,0.14679789687773057,0.14007914837778013,0.14063707472613185,0.14007063401370434,0.14202126393253683,0.14293634073157144,0.14327439118553398,0.14246825645430536,0.1421422479286051,0.14172977729598688,0.14200620283711,0.14144985917916067,0.14235878751112055,0.1430818428789588,0.14287497338643404,0.14348382145757693,0.14197642755449744,0.1417876343099216,0.1417333127597536],\"type\":\"scatter\"},{\"error_y\":{\"array\":[0.19956597251866848,0.14129871445799314,0.11492469801746519,0.09874081823382785,0.08811232433131355,0.08089923436902158,0.07480497825446975,0.06996456155769937,0.06593954012859737,0.06261501198890751,0.05979106823718361,0.05742604762387238,0.05516026368245819,0.05320017399422605,0.051415618771283755,0.049751765045328744,0.048375031077501074,0.0470334538609809,0.04591343430718786,0.04470522543743338],\"type\":\"data\",\"visible\":true},\"line\":{\"dash\":\"dot\"},\"marker\":{\"symbol\":[0,2]},\"name\":\"teste: wcpu 0, wodc 0, wd 1, odcs 493\",\"x\":[1.0,2.0,3.0,4.0,5.0,6.0,7.0,8.0,9.0,10.0,11.0,12.0,13.0,14.0,15.0,16.0,17.0,18.0,19.0,20.0],\"y\":[1.3933077533522658,1.3823015866278519,1.3732047657560333,1.358603935618737,1.3574281077629304,1.3618673237605032,1.3643562578319275,1.3645941415591607,1.3623942321633389,1.3630185825990868,1.3637219296837377,1.368716803711648,1.3689531053931023,1.370071835654455,1.3714713243597991,1.3714627754369948,1.3728301320104603,1.375493539482045,1.376317008581258,1.3760330506723126],\"type\":\"scatter\"},{\"error_y\":{\"array\":[0.43970769074718774,0.307975509823637,0.25379294830745636,0.2188973581972724,0.19559304811720857,0.1781720241762179,0.16468440203726198,0.1538580509296108,0.14491930983601176,0.1374736839604358,0.13097925556691825,0.12533098017637023,0.12035547136671276,0.11600079747159908,0.11228785007951103,0.10873867071177212,0.10544146743810634,0.10242702122979486,0.09965710715670806,0.09710036313958348],\"type\":\"data\",\"visible\":true},\"line\":{\"dash\":\"dash\"},\"marker\":{\"symbol\":[0,3]},\"name\":\"teste: wcpu 0, wodc 0, wd 1, odcs 328\",\"x\":[1.0,2.0,3.0,4.0,5.0,6.0,7.0,8.0,9.0,10.0,11.0,12.0,13.0,14.0,15.0,16.0,17.0,18.0,19.0,20.0],\"y\":[3.3612624075560085,3.347033866581984,3.3745119558458665,3.3690941476934153,3.3707607627596823,3.3673943689034953,3.362442018527638,3.3587315419463377,3.3558478563423932,3.3569055861179913,3.3568511962179173,3.3548458938697023,3.3531498247938023,3.3560464177903917,3.357780321847638,3.3574896972054953,3.3560360559567513,3.3547443693036554,3.353588999646124,3.352549449440815],\"type\":\"scatter\"},{\"error_y\":{\"array\":[3.4576958123763646,2.5592715014786087,2.0108985395655736,1.7111265313243997,1.5246052054751509,1.361264730894991,1.2662934711499183,1.1946863852235161,1.1230652007979103,1.070201073500204,1.0148806107241626,0.9634224654402104,0.9302832007308197,0.8952588945966689,0.8750336953758762,0.8442748394554442,0.8266632250153023,0.8037784911954162,0.7848943495385399,0.7676989165096977],\"type\":\"data\",\"visible\":true},\"line\":{\"dash\":\"longdash\"},\"marker\":{\"symbol\":[0,4]},\"name\":\"teste: wcpu 0, wodc 0, wd 1, odcs 246\",\"x\":[1.0,2.0,3.0,4.0,5.0,6.0,7.0,8.0,9.0,10.0,11.0,12.0,13.0,14.0,15.0,16.0,17.0,18.0,19.0,20.0],\"y\":[19.439269293179986,18.97590746586475,19.04842252657094,19.066598241080502,19.07397635244336,18.847089254563592,19.007632277453535,18.899551910666133,18.69089095508131,18.64442413215103,18.588548253899308,18.58825163318465,18.729631413826873,18.718439031019756,18.817084916638763,18.729125011107577,18.779650422298445,18.805698456775207,18.77506225326031,18.760254409197177],\"type\":\"scatter\"},{\"error_y\":{\"array\":[0.04069363110626195,0.02841290221703882,0.022217280732132805,0.01918089385307986,0.017353769988153966,0.01601286162691326,0.014849125815667635,0.013895377836963652,0.01302412784370341,0.012297354294587365,0.011703245321193906,0.011242303626198352,0.01079559279913439,0.010426775497671542,0.010113682883750197,0.009755843129230168,0.009479978776544329,0.009137223831192448,0.008895193316000083,0.008667151353883018],\"type\":\"data\",\"visible\":true},\"line\":{\"dash\":\"dashdot\"},\"marker\":{\"symbol\":[0,5]},\"name\":\"teste: wcpu 0, wodc 0, wd 0.5, odcs 0\",\"x\":[1.0,2.0,3.0,4.0,5.0,6.0,7.0,8.0,9.0,10.0,11.0,12.0,13.0,14.0,15.0,16.0,17.0,18.0,19.0,20.0],\"y\":[0.15369341298178582,0.14679789687773057,0.14007914837778013,0.14063707472613185,0.14007063401370434,0.14202126393253683,0.14293634073157144,0.14327439118553398,0.14282218500901153,0.1424604095769879,0.14201858325026104,0.14227141625684425,0.14169414022230473,0.14258655360525704,0.14329508123955473,0.1430748715420734,0.14367247904183414,0.14215342848217663,0.14195513617090494,0.14189243326980586],\"type\":\"scatter\"},{\"error_y\":{\"array\":[0.19956597251866848,0.14129871445799314,0.11492469801746519,0.09874081823382785,0.08811232433131355,0.08089923436902158,0.07480497825446975,0.06996456155769937,0.0660300436960084,0.06269221242613487,0.05985794992077165,0.057484610514446866,0.05521219257291099,0.05324659968948886,0.051457461030517626,0.049789758486999736,0.04840968211763785,0.04706523401143414,0.04594270574490911,0.044732337867244176],\"type\":\"data\",\"visible\":true},\"line\":{\"dash\":\"longdashdot\"},\"marker\":{\"symbol\":[0,1]},\"name\":\"teste: wcpu 0, wodc 0, wd 0.5, odcs 493\",\"x\":[1.0,2.0,3.0,4.0,5.0,6.0,7.0,8.0,9.0,10.0,11.0,12.0,13.0,14.0,15.0,16.0,17.0,18.0,19.0,20.0],\"y\":[1.3933077533522658,1.3823015866278519,1.3732047657560333,1.358603935618737,1.3574281077629304,1.3618673237605032,1.3643562578319275,1.3645941415591607,1.3650434352379979,1.3654027400318542,1.365890140326585,1.3707085200498952,1.3707915660112333,1.3717794643369114,1.3730660643205628,1.3729579194196637,1.3742380676010175,1.3768248264069158,1.3775786679350408,1.377231417571629],\"type\":\"scatter\"},{\"error_y\":{\"array\":[0.43970769074718774,0.307975509823637,0.25379294830745636,0.2188973581972724,0.19559304811720857,0.1781720241762179,0.16468440203726198,0.1538580509296108,0.145032852164658,0.13757057626716174,0.1310632507643974,0.1254047499156843,0.12042093412861199,0.11605932769550265,0.11234058211349174,0.10878654241102614,0.10548520015769247,0.10246717880864553,0.09969415147023986,0.09713467663941122],\"type\":\"data\",\"visible\":true},\"line\":{\"dash\":\"solid\"},\"marker\":{\"symbol\":[0,2]},\"name\":\"teste: wcpu 0, wodc 0, wd 0.5, odcs 328\",\"x\":[1.0,2.0,3.0,4.0,5.0,6.0,7.0,8.0,9.0,10.0,11.0,12.0,13.0,14.0,15.0,16.0,17.0,18.0,19.0,20.0],\"y\":[3.3612624075560085,3.347033866581984,3.3745119558458665,3.3690941476934153,3.3707607627596823,3.3673943689034953,3.362442018527638,3.3587315419463377,3.3595867471463006,3.3602709113062708,3.359910567631811,3.357649092257837,3.3557364360339514,3.358450033823015,3.360024507838952,3.3595935392006715,3.3580155025902316,3.3566133097060438,3.3553591198036794,3.3542306747547377],\"type\":\"scatter\"},{\"error_y\":{\"array\":[3.4576958123763646,2.5592715014786087,2.0108985395655736,1.7111265313243997,1.5246052054751509,1.361264730894991,1.2662934711499183,1.1946863852235161,1.1316901692965473,1.0775806094497398,1.0212826341742591,0.9690358436009916,0.9352502233362721,0.899700401985843,0.8790430052876665,0.8479228215099859,0.8299917300421313,0.8068300711196201,0.787712397771994,0.7703135663809455],\"type\":\"data\",\"visible\":true},\"line\":{\"dash\":\"dot\"},\"marker\":{\"symbol\":[0,3]},\"name\":\"teste: wcpu 0, wodc 0, wd 0.5, odcs 246\",\"x\":[1.0,2.0,3.0,4.0,5.0,6.0,7.0,8.0,9.0,10.0,11.0,12.0,13.0,14.0,15.0,16.0,17.0,18.0,19.0,20.0],\"y\":[19.439269293179986,18.97590746586475,19.04842252657094,19.066598241080502,19.07397635244336,18.847089254563592,19.007632277453535,18.899551910666133,18.82396061799254,18.76375469089491,18.696641573561323,18.687378518848647,18.822028568389143,18.804115564428564,18.89763906805152,18.80422964343411,18.850491381949162,18.8726887473355,18.838383107813968,18.82037771497195],\"type\":\"scatter\"}],                        {\"legend\":{\"traceorder\":\"normal\"},\"xaxis\":{\"title\":{\"text\":\"Jobs\"}},\"yaxis\":{\"domain\":[0,1],\"title\":{\"text\":\"PHY-Jobs-Fiberlenght (kms)\"}},\"template\":{\"data\":{\"histogram2dcontour\":[{\"type\":\"histogram2dcontour\",\"colorbar\":{\"outlinewidth\":0,\"ticks\":\"\"},\"colorscale\":[[0.0,\"#0d0887\"],[0.1111111111111111,\"#46039f\"],[0.2222222222222222,\"#7201a8\"],[0.3333333333333333,\"#9c179e\"],[0.4444444444444444,\"#bd3786\"],[0.5555555555555556,\"#d8576b\"],[0.6666666666666666,\"#ed7953\"],[0.7777777777777778,\"#fb9f3a\"],[0.8888888888888888,\"#fdca26\"],[1.0,\"#f0f921\"]]}],\"choropleth\":[{\"type\":\"choropleth\",\"colorbar\":{\"outlinewidth\":0,\"ticks\":\"\"}}],\"histogram2d\":[{\"type\":\"histogram2d\",\"colorbar\":{\"outlinewidth\":0,\"ticks\":\"\"},\"colorscale\":[[0.0,\"#0d0887\"],[0.1111111111111111,\"#46039f\"],[0.2222222222222222,\"#7201a8\"],[0.3333333333333333,\"#9c179e\"],[0.4444444444444444,\"#bd3786\"],[0.5555555555555556,\"#d8576b\"],[0.6666666666666666,\"#ed7953\"],[0.7777777777777778,\"#fb9f3a\"],[0.8888888888888888,\"#fdca26\"],[1.0,\"#f0f921\"]]}],\"heatmap\":[{\"type\":\"heatmap\",\"colorbar\":{\"outlinewidth\":0,\"ticks\":\"\"},\"colorscale\":[[0.0,\"#0d0887\"],[0.1111111111111111,\"#46039f\"],[0.2222222222222222,\"#7201a8\"],[0.3333333333333333,\"#9c179e\"],[0.4444444444444444,\"#bd3786\"],[0.5555555555555556,\"#d8576b\"],[0.6666666666666666,\"#ed7953\"],[0.7777777777777778,\"#fb9f3a\"],[0.8888888888888888,\"#fdca26\"],[1.0,\"#f0f921\"]]}],\"heatmapgl\":[{\"type\":\"heatmapgl\",\"colorbar\":{\"outlinewidth\":0,\"ticks\":\"\"},\"colorscale\":[[0.0,\"#0d0887\"],[0.1111111111111111,\"#46039f\"],[0.2222222222222222,\"#7201a8\"],[0.3333333333333333,\"#9c179e\"],[0.4444444444444444,\"#bd3786\"],[0.5555555555555556,\"#d8576b\"],[0.6666666666666666,\"#ed7953\"],[0.7777777777777778,\"#fb9f3a\"],[0.8888888888888888,\"#fdca26\"],[1.0,\"#f0f921\"]]}],\"contourcarpet\":[{\"type\":\"contourcarpet\",\"colorbar\":{\"outlinewidth\":0,\"ticks\":\"\"}}],\"contour\":[{\"type\":\"contour\",\"colorbar\":{\"outlinewidth\":0,\"ticks\":\"\"},\"colorscale\":[[0.0,\"#0d0887\"],[0.1111111111111111,\"#46039f\"],[0.2222222222222222,\"#7201a8\"],[0.3333333333333333,\"#9c179e\"],[0.4444444444444444,\"#bd3786\"],[0.5555555555555556,\"#d8576b\"],[0.6666666666666666,\"#ed7953\"],[0.7777777777777778,\"#fb9f3a\"],[0.8888888888888888,\"#fdca26\"],[1.0,\"#f0f921\"]]}],\"surface\":[{\"type\":\"surface\",\"colorbar\":{\"outlinewidth\":0,\"ticks\":\"\"},\"colorscale\":[[0.0,\"#0d0887\"],[0.1111111111111111,\"#46039f\"],[0.2222222222222222,\"#7201a8\"],[0.3333333333333333,\"#9c179e\"],[0.4444444444444444,\"#bd3786\"],[0.5555555555555556,\"#d8576b\"],[0.6666666666666666,\"#ed7953\"],[0.7777777777777778,\"#fb9f3a\"],[0.8888888888888888,\"#fdca26\"],[1.0,\"#f0f921\"]]}],\"mesh3d\":[{\"type\":\"mesh3d\",\"colorbar\":{\"outlinewidth\":0,\"ticks\":\"\"}}],\"scatter\":[{\"fillpattern\":{\"fillmode\":\"overlay\",\"size\":10,\"solidity\":0.2},\"type\":\"scatter\"}],\"parcoords\":[{\"type\":\"parcoords\",\"line\":{\"colorbar\":{\"outlinewidth\":0,\"ticks\":\"\"}}}],\"scatterpolargl\":[{\"type\":\"scatterpolargl\",\"marker\":{\"colorbar\":{\"outlinewidth\":0,\"ticks\":\"\"}}}],\"bar\":[{\"error_x\":{\"color\":\"#2a3f5f\"},\"error_y\":{\"color\":\"#2a3f5f\"},\"marker\":{\"line\":{\"color\":\"#E5ECF6\",\"width\":0.5},\"pattern\":{\"fillmode\":\"overlay\",\"size\":10,\"solidity\":0.2}},\"type\":\"bar\"}],\"scattergeo\":[{\"type\":\"scattergeo\",\"marker\":{\"colorbar\":{\"outlinewidth\":0,\"ticks\":\"\"}}}],\"scatterpolar\":[{\"type\":\"scatterpolar\",\"marker\":{\"colorbar\":{\"outlinewidth\":0,\"ticks\":\"\"}}}],\"histogram\":[{\"marker\":{\"pattern\":{\"fillmode\":\"overlay\",\"size\":10,\"solidity\":0.2}},\"type\":\"histogram\"}],\"scattergl\":[{\"type\":\"scattergl\",\"marker\":{\"colorbar\":{\"outlinewidth\":0,\"ticks\":\"\"}}}],\"scatter3d\":[{\"type\":\"scatter3d\",\"line\":{\"colorbar\":{\"outlinewidth\":0,\"ticks\":\"\"}},\"marker\":{\"colorbar\":{\"outlinewidth\":0,\"ticks\":\"\"}}}],\"scattermapbox\":[{\"type\":\"scattermapbox\",\"marker\":{\"colorbar\":{\"outlinewidth\":0,\"ticks\":\"\"}}}],\"scatterternary\":[{\"type\":\"scatterternary\",\"marker\":{\"colorbar\":{\"outlinewidth\":0,\"ticks\":\"\"}}}],\"scattercarpet\":[{\"type\":\"scattercarpet\",\"marker\":{\"colorbar\":{\"outlinewidth\":0,\"ticks\":\"\"}}}],\"carpet\":[{\"aaxis\":{\"endlinecolor\":\"#2a3f5f\",\"gridcolor\":\"white\",\"linecolor\":\"white\",\"minorgridcolor\":\"white\",\"startlinecolor\":\"#2a3f5f\"},\"baxis\":{\"endlinecolor\":\"#2a3f5f\",\"gridcolor\":\"white\",\"linecolor\":\"white\",\"minorgridcolor\":\"white\",\"startlinecolor\":\"#2a3f5f\"},\"type\":\"carpet\"}],\"table\":[{\"cells\":{\"fill\":{\"color\":\"#EBF0F8\"},\"line\":{\"color\":\"white\"}},\"header\":{\"fill\":{\"color\":\"#C8D4E3\"},\"line\":{\"color\":\"white\"}},\"type\":\"table\"}],\"barpolar\":[{\"marker\":{\"line\":{\"color\":\"#E5ECF6\",\"width\":0.5},\"pattern\":{\"fillmode\":\"overlay\",\"size\":10,\"solidity\":0.2}},\"type\":\"barpolar\"}],\"pie\":[{\"automargin\":true,\"type\":\"pie\"}]},\"layout\":{\"autotypenumbers\":\"strict\",\"colorway\":[\"#636efa\",\"#EF553B\",\"#00cc96\",\"#ab63fa\",\"#FFA15A\",\"#19d3f3\",\"#FF6692\",\"#B6E880\",\"#FF97FF\",\"#FECB52\"],\"font\":{\"color\":\"#2a3f5f\"},\"hovermode\":\"closest\",\"hoverlabel\":{\"align\":\"left\"},\"paper_bgcolor\":\"white\",\"plot_bgcolor\":\"#E5ECF6\",\"polar\":{\"bgcolor\":\"#E5ECF6\",\"angularaxis\":{\"gridcolor\":\"white\",\"linecolor\":\"white\",\"ticks\":\"\"},\"radialaxis\":{\"gridcolor\":\"white\",\"linecolor\":\"white\",\"ticks\":\"\"}},\"ternary\":{\"bgcolor\":\"#E5ECF6\",\"aaxis\":{\"gridcolor\":\"white\",\"linecolor\":\"white\",\"ticks\":\"\"},\"baxis\":{\"gridcolor\":\"white\",\"linecolor\":\"white\",\"ticks\":\"\"},\"caxis\":{\"gridcolor\":\"white\",\"linecolor\":\"white\",\"ticks\":\"\"}},\"coloraxis\":{\"colorbar\":{\"outlinewidth\":0,\"ticks\":\"\"}},\"colorscale\":{\"sequential\":[[0.0,\"#0d0887\"],[0.1111111111111111,\"#46039f\"],[0.2222222222222222,\"#7201a8\"],[0.3333333333333333,\"#9c179e\"],[0.4444444444444444,\"#bd3786\"],[0.5555555555555556,\"#d8576b\"],[0.6666666666666666,\"#ed7953\"],[0.7777777777777778,\"#fb9f3a\"],[0.8888888888888888,\"#fdca26\"],[1.0,\"#f0f921\"]],\"sequentialminus\":[[0.0,\"#0d0887\"],[0.1111111111111111,\"#46039f\"],[0.2222222222222222,\"#7201a8\"],[0.3333333333333333,\"#9c179e\"],[0.4444444444444444,\"#bd3786\"],[0.5555555555555556,\"#d8576b\"],[0.6666666666666666,\"#ed7953\"],[0.7777777777777778,\"#fb9f3a\"],[0.8888888888888888,\"#fdca26\"],[1.0,\"#f0f921\"]],\"diverging\":[[0,\"#8e0152\"],[0.1,\"#c51b7d\"],[0.2,\"#de77ae\"],[0.3,\"#f1b6da\"],[0.4,\"#fde0ef\"],[0.5,\"#f7f7f7\"],[0.6,\"#e6f5d0\"],[0.7,\"#b8e186\"],[0.8,\"#7fbc41\"],[0.9,\"#4d9221\"],[1,\"#276419\"]]},\"xaxis\":{\"gridcolor\":\"white\",\"linecolor\":\"white\",\"ticks\":\"\",\"title\":{\"standoff\":15},\"zerolinecolor\":\"white\",\"automargin\":true,\"zerolinewidth\":2},\"yaxis\":{\"gridcolor\":\"white\",\"linecolor\":\"white\",\"ticks\":\"\",\"title\":{\"standoff\":15},\"zerolinecolor\":\"white\",\"automargin\":true,\"zerolinewidth\":2},\"scene\":{\"xaxis\":{\"backgroundcolor\":\"#E5ECF6\",\"gridcolor\":\"white\",\"linecolor\":\"white\",\"showbackground\":true,\"ticks\":\"\",\"zerolinecolor\":\"white\",\"gridwidth\":2},\"yaxis\":{\"backgroundcolor\":\"#E5ECF6\",\"gridcolor\":\"white\",\"linecolor\":\"white\",\"showbackground\":true,\"ticks\":\"\",\"zerolinecolor\":\"white\",\"gridwidth\":2},\"zaxis\":{\"backgroundcolor\":\"#E5ECF6\",\"gridcolor\":\"white\",\"linecolor\":\"white\",\"showbackground\":true,\"ticks\":\"\",\"zerolinecolor\":\"white\",\"gridwidth\":2}},\"shapedefaults\":{\"line\":{\"color\":\"#2a3f5f\"}},\"annotationdefaults\":{\"arrowcolor\":\"#2a3f5f\",\"arrowhead\":0,\"arrowwidth\":1},\"geo\":{\"bgcolor\":\"white\",\"landcolor\":\"#E5ECF6\",\"subunitcolor\":\"white\",\"showland\":true,\"showlakes\":true,\"lakecolor\":\"white\"},\"title\":{\"x\":0.05},\"mapbox\":{\"style\":\"light\"}}}},                        {\"responsive\": true}                    ).then(function(){\n",
       "                            \n",
       "var gd = document.getElementById('3566868a-33b6-46fb-8c85-9c9e05844d3d');\n",
       "var x = new MutationObserver(function (mutations, observer) {{\n",
       "        var display = window.getComputedStyle(gd).display;\n",
       "        if (!display || display === 'none') {{\n",
       "            console.log([gd, 'removed!']);\n",
       "            Plotly.purge(gd);\n",
       "            observer.disconnect();\n",
       "        }}\n",
       "}});\n",
       "\n",
       "// Listen for the removal of the full notebook cells\n",
       "var notebookContainer = gd.closest('#notebook-container');\n",
       "if (notebookContainer) {{\n",
       "    x.observe(notebookContainer, {childList: true});\n",
       "}}\n",
       "\n",
       "// Listen for the clearing of the current output cell\n",
       "var outputEl = gd.closest('.output');\n",
       "if (outputEl) {{\n",
       "    x.observe(outputEl, {childList: true});\n",
       "}}\n",
       "\n",
       "                        })                };                });            </script>        </div>"
      ]
     },
     "metadata": {},
     "output_type": "display_data"
    }
   ],
   "source": [
    "#Windows:\n",
    "#%cd $opath\\ScriptsPlot\n",
    "#%run ConvergencePlot -f \"NrMmtc_SimPerScriptCampaign_UlTdd_Prbs96_ueNumScenario84.yaml\" -p $opath\\results_cluster_NrMmtc_SimPerScriptCampaign_UlTdd_Prbs96_ueNumScenario84_Lambda\n",
    "\n",
    "#Linux:\n",
    "%run ConvergencePlot -j \"20\" -f \"Placement_SaoPaulo_Case_1_2_cluster.yaml\" -p '/home/oai-ufrn/Repositories/open_ran_datacenter_placement/Results/results_Placement_SaoPaulo_Case_1_2_cluster_odcs/'"
   ]
  },
  {
   "cell_type": "code",
   "execution_count": null,
   "metadata": {},
   "outputs": [],
   "source": []
  }
 ],
 "metadata": {
  "kernelspec": {
   "display_name": "Python 3 (ipykernel)",
   "language": "python",
   "name": "python3"
  },
  "language_info": {
   "codemirror_mode": {
    "name": "ipython",
    "version": 3
   },
   "file_extension": ".py",
   "mimetype": "text/x-python",
   "name": "python",
   "nbconvert_exporter": "python",
   "pygments_lexer": "ipython3",
   "version": "3.10.12"
  }
 },
 "nbformat": 4,
 "nbformat_minor": 4
}
